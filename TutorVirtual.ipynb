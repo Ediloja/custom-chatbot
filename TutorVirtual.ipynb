{
  "nbformat": 4,
  "nbformat_minor": 0,
  "metadata": {
    "colab": {
      "provenance": [],
      "collapsed_sections": [
        "kzx0ASpT7PG0",
        "tZQEJp3FbVOE",
        "66wRIBtZELgZ",
        "xNdE-Wb2EOIc",
        "n9CpZ88nGnF0",
        "lEsbuDb1ERA2",
        "r3cgwQIWHN8p",
        "Hde7XBQDETQP"
      ]
    },
    "kernelspec": {
      "name": "python3",
      "display_name": "Python 3"
    },
    "language_info": {
      "name": "python"
    },
    "widgets": {
      "application/vnd.jupyter.widget-state+json": {
        "904a428b044e4c53961bc98c1fda6ce6": {
          "model_module": "@jupyter-widgets/controls",
          "model_name": "HBoxModel",
          "model_module_version": "1.5.0",
          "state": {
            "_dom_classes": [],
            "_model_module": "@jupyter-widgets/controls",
            "_model_module_version": "1.5.0",
            "_model_name": "HBoxModel",
            "_view_count": null,
            "_view_module": "@jupyter-widgets/controls",
            "_view_module_version": "1.5.0",
            "_view_name": "HBoxView",
            "box_style": "",
            "children": [
              "IPY_MODEL_c7276eb3921e43618adc96c244ebc0d4",
              "IPY_MODEL_3425a834225144f7bccdcf51db2ed67e",
              "IPY_MODEL_4d45969ce5bd4a69a7473bb5f6db8067"
            ],
            "layout": "IPY_MODEL_a4112ad24efc491fad56e5478b1f1d97"
          }
        },
        "c7276eb3921e43618adc96c244ebc0d4": {
          "model_module": "@jupyter-widgets/controls",
          "model_name": "HTMLModel",
          "model_module_version": "1.5.0",
          "state": {
            "_dom_classes": [],
            "_model_module": "@jupyter-widgets/controls",
            "_model_module_version": "1.5.0",
            "_model_name": "HTMLModel",
            "_view_count": null,
            "_view_module": "@jupyter-widgets/controls",
            "_view_module_version": "1.5.0",
            "_view_name": "HTMLView",
            "description": "",
            "description_tooltip": null,
            "layout": "IPY_MODEL_0643835785824ec789325a040899f0ca",
            "placeholder": "​",
            "style": "IPY_MODEL_9ba9166851d14442a0eadebac20e910f",
            "value": "modules.json: 100%"
          }
        },
        "3425a834225144f7bccdcf51db2ed67e": {
          "model_module": "@jupyter-widgets/controls",
          "model_name": "FloatProgressModel",
          "model_module_version": "1.5.0",
          "state": {
            "_dom_classes": [],
            "_model_module": "@jupyter-widgets/controls",
            "_model_module_version": "1.5.0",
            "_model_name": "FloatProgressModel",
            "_view_count": null,
            "_view_module": "@jupyter-widgets/controls",
            "_view_module_version": "1.5.0",
            "_view_name": "ProgressView",
            "bar_style": "success",
            "description": "",
            "description_tooltip": null,
            "layout": "IPY_MODEL_49a78f5aaf424995b3e5f35344b1d91c",
            "max": 349,
            "min": 0,
            "orientation": "horizontal",
            "style": "IPY_MODEL_0e851a41c4b04905afba1e9f7527c9f0",
            "value": 349
          }
        },
        "4d45969ce5bd4a69a7473bb5f6db8067": {
          "model_module": "@jupyter-widgets/controls",
          "model_name": "HTMLModel",
          "model_module_version": "1.5.0",
          "state": {
            "_dom_classes": [],
            "_model_module": "@jupyter-widgets/controls",
            "_model_module_version": "1.5.0",
            "_model_name": "HTMLModel",
            "_view_count": null,
            "_view_module": "@jupyter-widgets/controls",
            "_view_module_version": "1.5.0",
            "_view_name": "HTMLView",
            "description": "",
            "description_tooltip": null,
            "layout": "IPY_MODEL_56652c4d6cd942e0bf5f7be03885e3b1",
            "placeholder": "​",
            "style": "IPY_MODEL_2560fb37adf643f2a77e1c56b6d31551",
            "value": " 349/349 [00:00&lt;00:00, 11.3kB/s]"
          }
        },
        "a4112ad24efc491fad56e5478b1f1d97": {
          "model_module": "@jupyter-widgets/base",
          "model_name": "LayoutModel",
          "model_module_version": "1.2.0",
          "state": {
            "_model_module": "@jupyter-widgets/base",
            "_model_module_version": "1.2.0",
            "_model_name": "LayoutModel",
            "_view_count": null,
            "_view_module": "@jupyter-widgets/base",
            "_view_module_version": "1.2.0",
            "_view_name": "LayoutView",
            "align_content": null,
            "align_items": null,
            "align_self": null,
            "border": null,
            "bottom": null,
            "display": null,
            "flex": null,
            "flex_flow": null,
            "grid_area": null,
            "grid_auto_columns": null,
            "grid_auto_flow": null,
            "grid_auto_rows": null,
            "grid_column": null,
            "grid_gap": null,
            "grid_row": null,
            "grid_template_areas": null,
            "grid_template_columns": null,
            "grid_template_rows": null,
            "height": null,
            "justify_content": null,
            "justify_items": null,
            "left": null,
            "margin": null,
            "max_height": null,
            "max_width": null,
            "min_height": null,
            "min_width": null,
            "object_fit": null,
            "object_position": null,
            "order": null,
            "overflow": null,
            "overflow_x": null,
            "overflow_y": null,
            "padding": null,
            "right": null,
            "top": null,
            "visibility": null,
            "width": null
          }
        },
        "0643835785824ec789325a040899f0ca": {
          "model_module": "@jupyter-widgets/base",
          "model_name": "LayoutModel",
          "model_module_version": "1.2.0",
          "state": {
            "_model_module": "@jupyter-widgets/base",
            "_model_module_version": "1.2.0",
            "_model_name": "LayoutModel",
            "_view_count": null,
            "_view_module": "@jupyter-widgets/base",
            "_view_module_version": "1.2.0",
            "_view_name": "LayoutView",
            "align_content": null,
            "align_items": null,
            "align_self": null,
            "border": null,
            "bottom": null,
            "display": null,
            "flex": null,
            "flex_flow": null,
            "grid_area": null,
            "grid_auto_columns": null,
            "grid_auto_flow": null,
            "grid_auto_rows": null,
            "grid_column": null,
            "grid_gap": null,
            "grid_row": null,
            "grid_template_areas": null,
            "grid_template_columns": null,
            "grid_template_rows": null,
            "height": null,
            "justify_content": null,
            "justify_items": null,
            "left": null,
            "margin": null,
            "max_height": null,
            "max_width": null,
            "min_height": null,
            "min_width": null,
            "object_fit": null,
            "object_position": null,
            "order": null,
            "overflow": null,
            "overflow_x": null,
            "overflow_y": null,
            "padding": null,
            "right": null,
            "top": null,
            "visibility": null,
            "width": null
          }
        },
        "9ba9166851d14442a0eadebac20e910f": {
          "model_module": "@jupyter-widgets/controls",
          "model_name": "DescriptionStyleModel",
          "model_module_version": "1.5.0",
          "state": {
            "_model_module": "@jupyter-widgets/controls",
            "_model_module_version": "1.5.0",
            "_model_name": "DescriptionStyleModel",
            "_view_count": null,
            "_view_module": "@jupyter-widgets/base",
            "_view_module_version": "1.2.0",
            "_view_name": "StyleView",
            "description_width": ""
          }
        },
        "49a78f5aaf424995b3e5f35344b1d91c": {
          "model_module": "@jupyter-widgets/base",
          "model_name": "LayoutModel",
          "model_module_version": "1.2.0",
          "state": {
            "_model_module": "@jupyter-widgets/base",
            "_model_module_version": "1.2.0",
            "_model_name": "LayoutModel",
            "_view_count": null,
            "_view_module": "@jupyter-widgets/base",
            "_view_module_version": "1.2.0",
            "_view_name": "LayoutView",
            "align_content": null,
            "align_items": null,
            "align_self": null,
            "border": null,
            "bottom": null,
            "display": null,
            "flex": null,
            "flex_flow": null,
            "grid_area": null,
            "grid_auto_columns": null,
            "grid_auto_flow": null,
            "grid_auto_rows": null,
            "grid_column": null,
            "grid_gap": null,
            "grid_row": null,
            "grid_template_areas": null,
            "grid_template_columns": null,
            "grid_template_rows": null,
            "height": null,
            "justify_content": null,
            "justify_items": null,
            "left": null,
            "margin": null,
            "max_height": null,
            "max_width": null,
            "min_height": null,
            "min_width": null,
            "object_fit": null,
            "object_position": null,
            "order": null,
            "overflow": null,
            "overflow_x": null,
            "overflow_y": null,
            "padding": null,
            "right": null,
            "top": null,
            "visibility": null,
            "width": null
          }
        },
        "0e851a41c4b04905afba1e9f7527c9f0": {
          "model_module": "@jupyter-widgets/controls",
          "model_name": "ProgressStyleModel",
          "model_module_version": "1.5.0",
          "state": {
            "_model_module": "@jupyter-widgets/controls",
            "_model_module_version": "1.5.0",
            "_model_name": "ProgressStyleModel",
            "_view_count": null,
            "_view_module": "@jupyter-widgets/base",
            "_view_module_version": "1.2.0",
            "_view_name": "StyleView",
            "bar_color": null,
            "description_width": ""
          }
        },
        "56652c4d6cd942e0bf5f7be03885e3b1": {
          "model_module": "@jupyter-widgets/base",
          "model_name": "LayoutModel",
          "model_module_version": "1.2.0",
          "state": {
            "_model_module": "@jupyter-widgets/base",
            "_model_module_version": "1.2.0",
            "_model_name": "LayoutModel",
            "_view_count": null,
            "_view_module": "@jupyter-widgets/base",
            "_view_module_version": "1.2.0",
            "_view_name": "LayoutView",
            "align_content": null,
            "align_items": null,
            "align_self": null,
            "border": null,
            "bottom": null,
            "display": null,
            "flex": null,
            "flex_flow": null,
            "grid_area": null,
            "grid_auto_columns": null,
            "grid_auto_flow": null,
            "grid_auto_rows": null,
            "grid_column": null,
            "grid_gap": null,
            "grid_row": null,
            "grid_template_areas": null,
            "grid_template_columns": null,
            "grid_template_rows": null,
            "height": null,
            "justify_content": null,
            "justify_items": null,
            "left": null,
            "margin": null,
            "max_height": null,
            "max_width": null,
            "min_height": null,
            "min_width": null,
            "object_fit": null,
            "object_position": null,
            "order": null,
            "overflow": null,
            "overflow_x": null,
            "overflow_y": null,
            "padding": null,
            "right": null,
            "top": null,
            "visibility": null,
            "width": null
          }
        },
        "2560fb37adf643f2a77e1c56b6d31551": {
          "model_module": "@jupyter-widgets/controls",
          "model_name": "DescriptionStyleModel",
          "model_module_version": "1.5.0",
          "state": {
            "_model_module": "@jupyter-widgets/controls",
            "_model_module_version": "1.5.0",
            "_model_name": "DescriptionStyleModel",
            "_view_count": null,
            "_view_module": "@jupyter-widgets/base",
            "_view_module_version": "1.2.0",
            "_view_name": "StyleView",
            "description_width": ""
          }
        },
        "9ba41807f8f243c29c856f23863e1abf": {
          "model_module": "@jupyter-widgets/controls",
          "model_name": "HBoxModel",
          "model_module_version": "1.5.0",
          "state": {
            "_dom_classes": [],
            "_model_module": "@jupyter-widgets/controls",
            "_model_module_version": "1.5.0",
            "_model_name": "HBoxModel",
            "_view_count": null,
            "_view_module": "@jupyter-widgets/controls",
            "_view_module_version": "1.5.0",
            "_view_name": "HBoxView",
            "box_style": "",
            "children": [
              "IPY_MODEL_c06fe8b835614db98314874e1c361069",
              "IPY_MODEL_884a18dbf91540ebb74fe23fdb1f7dcf",
              "IPY_MODEL_c3d7e5bbb4304b0aac30559078ceffeb"
            ],
            "layout": "IPY_MODEL_8adc76ee3fe343ffa8459480d604a4b5"
          }
        },
        "c06fe8b835614db98314874e1c361069": {
          "model_module": "@jupyter-widgets/controls",
          "model_name": "HTMLModel",
          "model_module_version": "1.5.0",
          "state": {
            "_dom_classes": [],
            "_model_module": "@jupyter-widgets/controls",
            "_model_module_version": "1.5.0",
            "_model_name": "HTMLModel",
            "_view_count": null,
            "_view_module": "@jupyter-widgets/controls",
            "_view_module_version": "1.5.0",
            "_view_name": "HTMLView",
            "description": "",
            "description_tooltip": null,
            "layout": "IPY_MODEL_8b9664bf4432469e84c9194a05d8e5e9",
            "placeholder": "​",
            "style": "IPY_MODEL_92feb7fa67f44c87a4fcbe6ea8607923",
            "value": "config_sentence_transformers.json: 100%"
          }
        },
        "884a18dbf91540ebb74fe23fdb1f7dcf": {
          "model_module": "@jupyter-widgets/controls",
          "model_name": "FloatProgressModel",
          "model_module_version": "1.5.0",
          "state": {
            "_dom_classes": [],
            "_model_module": "@jupyter-widgets/controls",
            "_model_module_version": "1.5.0",
            "_model_name": "FloatProgressModel",
            "_view_count": null,
            "_view_module": "@jupyter-widgets/controls",
            "_view_module_version": "1.5.0",
            "_view_name": "ProgressView",
            "bar_style": "success",
            "description": "",
            "description_tooltip": null,
            "layout": "IPY_MODEL_747ffe98ea234be6af0418d946a520d7",
            "max": 116,
            "min": 0,
            "orientation": "horizontal",
            "style": "IPY_MODEL_df7e3fbefec14167a3e6ef58b4519daa",
            "value": 116
          }
        },
        "c3d7e5bbb4304b0aac30559078ceffeb": {
          "model_module": "@jupyter-widgets/controls",
          "model_name": "HTMLModel",
          "model_module_version": "1.5.0",
          "state": {
            "_dom_classes": [],
            "_model_module": "@jupyter-widgets/controls",
            "_model_module_version": "1.5.0",
            "_model_name": "HTMLModel",
            "_view_count": null,
            "_view_module": "@jupyter-widgets/controls",
            "_view_module_version": "1.5.0",
            "_view_name": "HTMLView",
            "description": "",
            "description_tooltip": null,
            "layout": "IPY_MODEL_d052effe2c77416996edf33547eb4eda",
            "placeholder": "​",
            "style": "IPY_MODEL_238055efcb31411f8874d3629d0c03a9",
            "value": " 116/116 [00:00&lt;00:00, 2.48kB/s]"
          }
        },
        "8adc76ee3fe343ffa8459480d604a4b5": {
          "model_module": "@jupyter-widgets/base",
          "model_name": "LayoutModel",
          "model_module_version": "1.2.0",
          "state": {
            "_model_module": "@jupyter-widgets/base",
            "_model_module_version": "1.2.0",
            "_model_name": "LayoutModel",
            "_view_count": null,
            "_view_module": "@jupyter-widgets/base",
            "_view_module_version": "1.2.0",
            "_view_name": "LayoutView",
            "align_content": null,
            "align_items": null,
            "align_self": null,
            "border": null,
            "bottom": null,
            "display": null,
            "flex": null,
            "flex_flow": null,
            "grid_area": null,
            "grid_auto_columns": null,
            "grid_auto_flow": null,
            "grid_auto_rows": null,
            "grid_column": null,
            "grid_gap": null,
            "grid_row": null,
            "grid_template_areas": null,
            "grid_template_columns": null,
            "grid_template_rows": null,
            "height": null,
            "justify_content": null,
            "justify_items": null,
            "left": null,
            "margin": null,
            "max_height": null,
            "max_width": null,
            "min_height": null,
            "min_width": null,
            "object_fit": null,
            "object_position": null,
            "order": null,
            "overflow": null,
            "overflow_x": null,
            "overflow_y": null,
            "padding": null,
            "right": null,
            "top": null,
            "visibility": null,
            "width": null
          }
        },
        "8b9664bf4432469e84c9194a05d8e5e9": {
          "model_module": "@jupyter-widgets/base",
          "model_name": "LayoutModel",
          "model_module_version": "1.2.0",
          "state": {
            "_model_module": "@jupyter-widgets/base",
            "_model_module_version": "1.2.0",
            "_model_name": "LayoutModel",
            "_view_count": null,
            "_view_module": "@jupyter-widgets/base",
            "_view_module_version": "1.2.0",
            "_view_name": "LayoutView",
            "align_content": null,
            "align_items": null,
            "align_self": null,
            "border": null,
            "bottom": null,
            "display": null,
            "flex": null,
            "flex_flow": null,
            "grid_area": null,
            "grid_auto_columns": null,
            "grid_auto_flow": null,
            "grid_auto_rows": null,
            "grid_column": null,
            "grid_gap": null,
            "grid_row": null,
            "grid_template_areas": null,
            "grid_template_columns": null,
            "grid_template_rows": null,
            "height": null,
            "justify_content": null,
            "justify_items": null,
            "left": null,
            "margin": null,
            "max_height": null,
            "max_width": null,
            "min_height": null,
            "min_width": null,
            "object_fit": null,
            "object_position": null,
            "order": null,
            "overflow": null,
            "overflow_x": null,
            "overflow_y": null,
            "padding": null,
            "right": null,
            "top": null,
            "visibility": null,
            "width": null
          }
        },
        "92feb7fa67f44c87a4fcbe6ea8607923": {
          "model_module": "@jupyter-widgets/controls",
          "model_name": "DescriptionStyleModel",
          "model_module_version": "1.5.0",
          "state": {
            "_model_module": "@jupyter-widgets/controls",
            "_model_module_version": "1.5.0",
            "_model_name": "DescriptionStyleModel",
            "_view_count": null,
            "_view_module": "@jupyter-widgets/base",
            "_view_module_version": "1.2.0",
            "_view_name": "StyleView",
            "description_width": ""
          }
        },
        "747ffe98ea234be6af0418d946a520d7": {
          "model_module": "@jupyter-widgets/base",
          "model_name": "LayoutModel",
          "model_module_version": "1.2.0",
          "state": {
            "_model_module": "@jupyter-widgets/base",
            "_model_module_version": "1.2.0",
            "_model_name": "LayoutModel",
            "_view_count": null,
            "_view_module": "@jupyter-widgets/base",
            "_view_module_version": "1.2.0",
            "_view_name": "LayoutView",
            "align_content": null,
            "align_items": null,
            "align_self": null,
            "border": null,
            "bottom": null,
            "display": null,
            "flex": null,
            "flex_flow": null,
            "grid_area": null,
            "grid_auto_columns": null,
            "grid_auto_flow": null,
            "grid_auto_rows": null,
            "grid_column": null,
            "grid_gap": null,
            "grid_row": null,
            "grid_template_areas": null,
            "grid_template_columns": null,
            "grid_template_rows": null,
            "height": null,
            "justify_content": null,
            "justify_items": null,
            "left": null,
            "margin": null,
            "max_height": null,
            "max_width": null,
            "min_height": null,
            "min_width": null,
            "object_fit": null,
            "object_position": null,
            "order": null,
            "overflow": null,
            "overflow_x": null,
            "overflow_y": null,
            "padding": null,
            "right": null,
            "top": null,
            "visibility": null,
            "width": null
          }
        },
        "df7e3fbefec14167a3e6ef58b4519daa": {
          "model_module": "@jupyter-widgets/controls",
          "model_name": "ProgressStyleModel",
          "model_module_version": "1.5.0",
          "state": {
            "_model_module": "@jupyter-widgets/controls",
            "_model_module_version": "1.5.0",
            "_model_name": "ProgressStyleModel",
            "_view_count": null,
            "_view_module": "@jupyter-widgets/base",
            "_view_module_version": "1.2.0",
            "_view_name": "StyleView",
            "bar_color": null,
            "description_width": ""
          }
        },
        "d052effe2c77416996edf33547eb4eda": {
          "model_module": "@jupyter-widgets/base",
          "model_name": "LayoutModel",
          "model_module_version": "1.2.0",
          "state": {
            "_model_module": "@jupyter-widgets/base",
            "_model_module_version": "1.2.0",
            "_model_name": "LayoutModel",
            "_view_count": null,
            "_view_module": "@jupyter-widgets/base",
            "_view_module_version": "1.2.0",
            "_view_name": "LayoutView",
            "align_content": null,
            "align_items": null,
            "align_self": null,
            "border": null,
            "bottom": null,
            "display": null,
            "flex": null,
            "flex_flow": null,
            "grid_area": null,
            "grid_auto_columns": null,
            "grid_auto_flow": null,
            "grid_auto_rows": null,
            "grid_column": null,
            "grid_gap": null,
            "grid_row": null,
            "grid_template_areas": null,
            "grid_template_columns": null,
            "grid_template_rows": null,
            "height": null,
            "justify_content": null,
            "justify_items": null,
            "left": null,
            "margin": null,
            "max_height": null,
            "max_width": null,
            "min_height": null,
            "min_width": null,
            "object_fit": null,
            "object_position": null,
            "order": null,
            "overflow": null,
            "overflow_x": null,
            "overflow_y": null,
            "padding": null,
            "right": null,
            "top": null,
            "visibility": null,
            "width": null
          }
        },
        "238055efcb31411f8874d3629d0c03a9": {
          "model_module": "@jupyter-widgets/controls",
          "model_name": "DescriptionStyleModel",
          "model_module_version": "1.5.0",
          "state": {
            "_model_module": "@jupyter-widgets/controls",
            "_model_module_version": "1.5.0",
            "_model_name": "DescriptionStyleModel",
            "_view_count": null,
            "_view_module": "@jupyter-widgets/base",
            "_view_module_version": "1.2.0",
            "_view_name": "StyleView",
            "description_width": ""
          }
        },
        "9e16e5dcc17242fd9b0c2616990725ed": {
          "model_module": "@jupyter-widgets/controls",
          "model_name": "HBoxModel",
          "model_module_version": "1.5.0",
          "state": {
            "_dom_classes": [],
            "_model_module": "@jupyter-widgets/controls",
            "_model_module_version": "1.5.0",
            "_model_name": "HBoxModel",
            "_view_count": null,
            "_view_module": "@jupyter-widgets/controls",
            "_view_module_version": "1.5.0",
            "_view_name": "HBoxView",
            "box_style": "",
            "children": [
              "IPY_MODEL_6f61d349574a43afa8a50a0bb236576f",
              "IPY_MODEL_42a6da2552b5408d8e2f1eb99db1704c",
              "IPY_MODEL_c136866a5f3e4cb0becabecdb8adbc71"
            ],
            "layout": "IPY_MODEL_aa89d30bb914496da6cc85e29f6c3cda"
          }
        },
        "6f61d349574a43afa8a50a0bb236576f": {
          "model_module": "@jupyter-widgets/controls",
          "model_name": "HTMLModel",
          "model_module_version": "1.5.0",
          "state": {
            "_dom_classes": [],
            "_model_module": "@jupyter-widgets/controls",
            "_model_module_version": "1.5.0",
            "_model_name": "HTMLModel",
            "_view_count": null,
            "_view_module": "@jupyter-widgets/controls",
            "_view_module_version": "1.5.0",
            "_view_name": "HTMLView",
            "description": "",
            "description_tooltip": null,
            "layout": "IPY_MODEL_289b9224e7d945a5bf7b48e3c91a83a8",
            "placeholder": "​",
            "style": "IPY_MODEL_87169c77c91947e58ad6cb7b229e24a8",
            "value": "README.md: 100%"
          }
        },
        "42a6da2552b5408d8e2f1eb99db1704c": {
          "model_module": "@jupyter-widgets/controls",
          "model_name": "FloatProgressModel",
          "model_module_version": "1.5.0",
          "state": {
            "_dom_classes": [],
            "_model_module": "@jupyter-widgets/controls",
            "_model_module_version": "1.5.0",
            "_model_name": "FloatProgressModel",
            "_view_count": null,
            "_view_module": "@jupyter-widgets/controls",
            "_view_module_version": "1.5.0",
            "_view_name": "ProgressView",
            "bar_style": "success",
            "description": "",
            "description_tooltip": null,
            "layout": "IPY_MODEL_d1ea46f4b9904667b9cbfdebc6616b9a",
            "max": 10659,
            "min": 0,
            "orientation": "horizontal",
            "style": "IPY_MODEL_6048f1bc3331402ab04f01206072d18d",
            "value": 10659
          }
        },
        "c136866a5f3e4cb0becabecdb8adbc71": {
          "model_module": "@jupyter-widgets/controls",
          "model_name": "HTMLModel",
          "model_module_version": "1.5.0",
          "state": {
            "_dom_classes": [],
            "_model_module": "@jupyter-widgets/controls",
            "_model_module_version": "1.5.0",
            "_model_name": "HTMLModel",
            "_view_count": null,
            "_view_module": "@jupyter-widgets/controls",
            "_view_module_version": "1.5.0",
            "_view_name": "HTMLView",
            "description": "",
            "description_tooltip": null,
            "layout": "IPY_MODEL_9d7f5452a05f4bb99c37123f65c9eb82",
            "placeholder": "​",
            "style": "IPY_MODEL_01aca25d6dd348f4bf62bb0338501c07",
            "value": " 10.7k/10.7k [00:00&lt;00:00, 362kB/s]"
          }
        },
        "aa89d30bb914496da6cc85e29f6c3cda": {
          "model_module": "@jupyter-widgets/base",
          "model_name": "LayoutModel",
          "model_module_version": "1.2.0",
          "state": {
            "_model_module": "@jupyter-widgets/base",
            "_model_module_version": "1.2.0",
            "_model_name": "LayoutModel",
            "_view_count": null,
            "_view_module": "@jupyter-widgets/base",
            "_view_module_version": "1.2.0",
            "_view_name": "LayoutView",
            "align_content": null,
            "align_items": null,
            "align_self": null,
            "border": null,
            "bottom": null,
            "display": null,
            "flex": null,
            "flex_flow": null,
            "grid_area": null,
            "grid_auto_columns": null,
            "grid_auto_flow": null,
            "grid_auto_rows": null,
            "grid_column": null,
            "grid_gap": null,
            "grid_row": null,
            "grid_template_areas": null,
            "grid_template_columns": null,
            "grid_template_rows": null,
            "height": null,
            "justify_content": null,
            "justify_items": null,
            "left": null,
            "margin": null,
            "max_height": null,
            "max_width": null,
            "min_height": null,
            "min_width": null,
            "object_fit": null,
            "object_position": null,
            "order": null,
            "overflow": null,
            "overflow_x": null,
            "overflow_y": null,
            "padding": null,
            "right": null,
            "top": null,
            "visibility": null,
            "width": null
          }
        },
        "289b9224e7d945a5bf7b48e3c91a83a8": {
          "model_module": "@jupyter-widgets/base",
          "model_name": "LayoutModel",
          "model_module_version": "1.2.0",
          "state": {
            "_model_module": "@jupyter-widgets/base",
            "_model_module_version": "1.2.0",
            "_model_name": "LayoutModel",
            "_view_count": null,
            "_view_module": "@jupyter-widgets/base",
            "_view_module_version": "1.2.0",
            "_view_name": "LayoutView",
            "align_content": null,
            "align_items": null,
            "align_self": null,
            "border": null,
            "bottom": null,
            "display": null,
            "flex": null,
            "flex_flow": null,
            "grid_area": null,
            "grid_auto_columns": null,
            "grid_auto_flow": null,
            "grid_auto_rows": null,
            "grid_column": null,
            "grid_gap": null,
            "grid_row": null,
            "grid_template_areas": null,
            "grid_template_columns": null,
            "grid_template_rows": null,
            "height": null,
            "justify_content": null,
            "justify_items": null,
            "left": null,
            "margin": null,
            "max_height": null,
            "max_width": null,
            "min_height": null,
            "min_width": null,
            "object_fit": null,
            "object_position": null,
            "order": null,
            "overflow": null,
            "overflow_x": null,
            "overflow_y": null,
            "padding": null,
            "right": null,
            "top": null,
            "visibility": null,
            "width": null
          }
        },
        "87169c77c91947e58ad6cb7b229e24a8": {
          "model_module": "@jupyter-widgets/controls",
          "model_name": "DescriptionStyleModel",
          "model_module_version": "1.5.0",
          "state": {
            "_model_module": "@jupyter-widgets/controls",
            "_model_module_version": "1.5.0",
            "_model_name": "DescriptionStyleModel",
            "_view_count": null,
            "_view_module": "@jupyter-widgets/base",
            "_view_module_version": "1.2.0",
            "_view_name": "StyleView",
            "description_width": ""
          }
        },
        "d1ea46f4b9904667b9cbfdebc6616b9a": {
          "model_module": "@jupyter-widgets/base",
          "model_name": "LayoutModel",
          "model_module_version": "1.2.0",
          "state": {
            "_model_module": "@jupyter-widgets/base",
            "_model_module_version": "1.2.0",
            "_model_name": "LayoutModel",
            "_view_count": null,
            "_view_module": "@jupyter-widgets/base",
            "_view_module_version": "1.2.0",
            "_view_name": "LayoutView",
            "align_content": null,
            "align_items": null,
            "align_self": null,
            "border": null,
            "bottom": null,
            "display": null,
            "flex": null,
            "flex_flow": null,
            "grid_area": null,
            "grid_auto_columns": null,
            "grid_auto_flow": null,
            "grid_auto_rows": null,
            "grid_column": null,
            "grid_gap": null,
            "grid_row": null,
            "grid_template_areas": null,
            "grid_template_columns": null,
            "grid_template_rows": null,
            "height": null,
            "justify_content": null,
            "justify_items": null,
            "left": null,
            "margin": null,
            "max_height": null,
            "max_width": null,
            "min_height": null,
            "min_width": null,
            "object_fit": null,
            "object_position": null,
            "order": null,
            "overflow": null,
            "overflow_x": null,
            "overflow_y": null,
            "padding": null,
            "right": null,
            "top": null,
            "visibility": null,
            "width": null
          }
        },
        "6048f1bc3331402ab04f01206072d18d": {
          "model_module": "@jupyter-widgets/controls",
          "model_name": "ProgressStyleModel",
          "model_module_version": "1.5.0",
          "state": {
            "_model_module": "@jupyter-widgets/controls",
            "_model_module_version": "1.5.0",
            "_model_name": "ProgressStyleModel",
            "_view_count": null,
            "_view_module": "@jupyter-widgets/base",
            "_view_module_version": "1.2.0",
            "_view_name": "StyleView",
            "bar_color": null,
            "description_width": ""
          }
        },
        "9d7f5452a05f4bb99c37123f65c9eb82": {
          "model_module": "@jupyter-widgets/base",
          "model_name": "LayoutModel",
          "model_module_version": "1.2.0",
          "state": {
            "_model_module": "@jupyter-widgets/base",
            "_model_module_version": "1.2.0",
            "_model_name": "LayoutModel",
            "_view_count": null,
            "_view_module": "@jupyter-widgets/base",
            "_view_module_version": "1.2.0",
            "_view_name": "LayoutView",
            "align_content": null,
            "align_items": null,
            "align_self": null,
            "border": null,
            "bottom": null,
            "display": null,
            "flex": null,
            "flex_flow": null,
            "grid_area": null,
            "grid_auto_columns": null,
            "grid_auto_flow": null,
            "grid_auto_rows": null,
            "grid_column": null,
            "grid_gap": null,
            "grid_row": null,
            "grid_template_areas": null,
            "grid_template_columns": null,
            "grid_template_rows": null,
            "height": null,
            "justify_content": null,
            "justify_items": null,
            "left": null,
            "margin": null,
            "max_height": null,
            "max_width": null,
            "min_height": null,
            "min_width": null,
            "object_fit": null,
            "object_position": null,
            "order": null,
            "overflow": null,
            "overflow_x": null,
            "overflow_y": null,
            "padding": null,
            "right": null,
            "top": null,
            "visibility": null,
            "width": null
          }
        },
        "01aca25d6dd348f4bf62bb0338501c07": {
          "model_module": "@jupyter-widgets/controls",
          "model_name": "DescriptionStyleModel",
          "model_module_version": "1.5.0",
          "state": {
            "_model_module": "@jupyter-widgets/controls",
            "_model_module_version": "1.5.0",
            "_model_name": "DescriptionStyleModel",
            "_view_count": null,
            "_view_module": "@jupyter-widgets/base",
            "_view_module_version": "1.2.0",
            "_view_name": "StyleView",
            "description_width": ""
          }
        },
        "528e2c8757594498b622001d2c6a711c": {
          "model_module": "@jupyter-widgets/controls",
          "model_name": "HBoxModel",
          "model_module_version": "1.5.0",
          "state": {
            "_dom_classes": [],
            "_model_module": "@jupyter-widgets/controls",
            "_model_module_version": "1.5.0",
            "_model_name": "HBoxModel",
            "_view_count": null,
            "_view_module": "@jupyter-widgets/controls",
            "_view_module_version": "1.5.0",
            "_view_name": "HBoxView",
            "box_style": "",
            "children": [
              "IPY_MODEL_9994b2b2ec5f478fa5dc3802c8c7aa41",
              "IPY_MODEL_04f15b8389ea4b848a7437d3f2932e94",
              "IPY_MODEL_22f2a669de564c5badd26395b3d46273"
            ],
            "layout": "IPY_MODEL_f73a49dc8b6a45e189d9adce90fa0a8d"
          }
        },
        "9994b2b2ec5f478fa5dc3802c8c7aa41": {
          "model_module": "@jupyter-widgets/controls",
          "model_name": "HTMLModel",
          "model_module_version": "1.5.0",
          "state": {
            "_dom_classes": [],
            "_model_module": "@jupyter-widgets/controls",
            "_model_module_version": "1.5.0",
            "_model_name": "HTMLModel",
            "_view_count": null,
            "_view_module": "@jupyter-widgets/controls",
            "_view_module_version": "1.5.0",
            "_view_name": "HTMLView",
            "description": "",
            "description_tooltip": null,
            "layout": "IPY_MODEL_e4f535b51bf84aeab5472ffe673867b2",
            "placeholder": "​",
            "style": "IPY_MODEL_0159403c77b54ef8b6c317a12807280e",
            "value": "sentence_bert_config.json: 100%"
          }
        },
        "04f15b8389ea4b848a7437d3f2932e94": {
          "model_module": "@jupyter-widgets/controls",
          "model_name": "FloatProgressModel",
          "model_module_version": "1.5.0",
          "state": {
            "_dom_classes": [],
            "_model_module": "@jupyter-widgets/controls",
            "_model_module_version": "1.5.0",
            "_model_name": "FloatProgressModel",
            "_view_count": null,
            "_view_module": "@jupyter-widgets/controls",
            "_view_module_version": "1.5.0",
            "_view_name": "ProgressView",
            "bar_style": "success",
            "description": "",
            "description_tooltip": null,
            "layout": "IPY_MODEL_7ace2ac665e44a88bcd60fea7efd2a11",
            "max": 53,
            "min": 0,
            "orientation": "horizontal",
            "style": "IPY_MODEL_00aaf09b439d4eb782174254378d4810",
            "value": 53
          }
        },
        "22f2a669de564c5badd26395b3d46273": {
          "model_module": "@jupyter-widgets/controls",
          "model_name": "HTMLModel",
          "model_module_version": "1.5.0",
          "state": {
            "_dom_classes": [],
            "_model_module": "@jupyter-widgets/controls",
            "_model_module_version": "1.5.0",
            "_model_name": "HTMLModel",
            "_view_count": null,
            "_view_module": "@jupyter-widgets/controls",
            "_view_module_version": "1.5.0",
            "_view_name": "HTMLView",
            "description": "",
            "description_tooltip": null,
            "layout": "IPY_MODEL_753830e8b96d41c7bb261913c910429b",
            "placeholder": "​",
            "style": "IPY_MODEL_1596cff057434758ae4fcee257eff11d",
            "value": " 53.0/53.0 [00:00&lt;00:00, 1.79kB/s]"
          }
        },
        "f73a49dc8b6a45e189d9adce90fa0a8d": {
          "model_module": "@jupyter-widgets/base",
          "model_name": "LayoutModel",
          "model_module_version": "1.2.0",
          "state": {
            "_model_module": "@jupyter-widgets/base",
            "_model_module_version": "1.2.0",
            "_model_name": "LayoutModel",
            "_view_count": null,
            "_view_module": "@jupyter-widgets/base",
            "_view_module_version": "1.2.0",
            "_view_name": "LayoutView",
            "align_content": null,
            "align_items": null,
            "align_self": null,
            "border": null,
            "bottom": null,
            "display": null,
            "flex": null,
            "flex_flow": null,
            "grid_area": null,
            "grid_auto_columns": null,
            "grid_auto_flow": null,
            "grid_auto_rows": null,
            "grid_column": null,
            "grid_gap": null,
            "grid_row": null,
            "grid_template_areas": null,
            "grid_template_columns": null,
            "grid_template_rows": null,
            "height": null,
            "justify_content": null,
            "justify_items": null,
            "left": null,
            "margin": null,
            "max_height": null,
            "max_width": null,
            "min_height": null,
            "min_width": null,
            "object_fit": null,
            "object_position": null,
            "order": null,
            "overflow": null,
            "overflow_x": null,
            "overflow_y": null,
            "padding": null,
            "right": null,
            "top": null,
            "visibility": null,
            "width": null
          }
        },
        "e4f535b51bf84aeab5472ffe673867b2": {
          "model_module": "@jupyter-widgets/base",
          "model_name": "LayoutModel",
          "model_module_version": "1.2.0",
          "state": {
            "_model_module": "@jupyter-widgets/base",
            "_model_module_version": "1.2.0",
            "_model_name": "LayoutModel",
            "_view_count": null,
            "_view_module": "@jupyter-widgets/base",
            "_view_module_version": "1.2.0",
            "_view_name": "LayoutView",
            "align_content": null,
            "align_items": null,
            "align_self": null,
            "border": null,
            "bottom": null,
            "display": null,
            "flex": null,
            "flex_flow": null,
            "grid_area": null,
            "grid_auto_columns": null,
            "grid_auto_flow": null,
            "grid_auto_rows": null,
            "grid_column": null,
            "grid_gap": null,
            "grid_row": null,
            "grid_template_areas": null,
            "grid_template_columns": null,
            "grid_template_rows": null,
            "height": null,
            "justify_content": null,
            "justify_items": null,
            "left": null,
            "margin": null,
            "max_height": null,
            "max_width": null,
            "min_height": null,
            "min_width": null,
            "object_fit": null,
            "object_position": null,
            "order": null,
            "overflow": null,
            "overflow_x": null,
            "overflow_y": null,
            "padding": null,
            "right": null,
            "top": null,
            "visibility": null,
            "width": null
          }
        },
        "0159403c77b54ef8b6c317a12807280e": {
          "model_module": "@jupyter-widgets/controls",
          "model_name": "DescriptionStyleModel",
          "model_module_version": "1.5.0",
          "state": {
            "_model_module": "@jupyter-widgets/controls",
            "_model_module_version": "1.5.0",
            "_model_name": "DescriptionStyleModel",
            "_view_count": null,
            "_view_module": "@jupyter-widgets/base",
            "_view_module_version": "1.2.0",
            "_view_name": "StyleView",
            "description_width": ""
          }
        },
        "7ace2ac665e44a88bcd60fea7efd2a11": {
          "model_module": "@jupyter-widgets/base",
          "model_name": "LayoutModel",
          "model_module_version": "1.2.0",
          "state": {
            "_model_module": "@jupyter-widgets/base",
            "_model_module_version": "1.2.0",
            "_model_name": "LayoutModel",
            "_view_count": null,
            "_view_module": "@jupyter-widgets/base",
            "_view_module_version": "1.2.0",
            "_view_name": "LayoutView",
            "align_content": null,
            "align_items": null,
            "align_self": null,
            "border": null,
            "bottom": null,
            "display": null,
            "flex": null,
            "flex_flow": null,
            "grid_area": null,
            "grid_auto_columns": null,
            "grid_auto_flow": null,
            "grid_auto_rows": null,
            "grid_column": null,
            "grid_gap": null,
            "grid_row": null,
            "grid_template_areas": null,
            "grid_template_columns": null,
            "grid_template_rows": null,
            "height": null,
            "justify_content": null,
            "justify_items": null,
            "left": null,
            "margin": null,
            "max_height": null,
            "max_width": null,
            "min_height": null,
            "min_width": null,
            "object_fit": null,
            "object_position": null,
            "order": null,
            "overflow": null,
            "overflow_x": null,
            "overflow_y": null,
            "padding": null,
            "right": null,
            "top": null,
            "visibility": null,
            "width": null
          }
        },
        "00aaf09b439d4eb782174254378d4810": {
          "model_module": "@jupyter-widgets/controls",
          "model_name": "ProgressStyleModel",
          "model_module_version": "1.5.0",
          "state": {
            "_model_module": "@jupyter-widgets/controls",
            "_model_module_version": "1.5.0",
            "_model_name": "ProgressStyleModel",
            "_view_count": null,
            "_view_module": "@jupyter-widgets/base",
            "_view_module_version": "1.2.0",
            "_view_name": "StyleView",
            "bar_color": null,
            "description_width": ""
          }
        },
        "753830e8b96d41c7bb261913c910429b": {
          "model_module": "@jupyter-widgets/base",
          "model_name": "LayoutModel",
          "model_module_version": "1.2.0",
          "state": {
            "_model_module": "@jupyter-widgets/base",
            "_model_module_version": "1.2.0",
            "_model_name": "LayoutModel",
            "_view_count": null,
            "_view_module": "@jupyter-widgets/base",
            "_view_module_version": "1.2.0",
            "_view_name": "LayoutView",
            "align_content": null,
            "align_items": null,
            "align_self": null,
            "border": null,
            "bottom": null,
            "display": null,
            "flex": null,
            "flex_flow": null,
            "grid_area": null,
            "grid_auto_columns": null,
            "grid_auto_flow": null,
            "grid_auto_rows": null,
            "grid_column": null,
            "grid_gap": null,
            "grid_row": null,
            "grid_template_areas": null,
            "grid_template_columns": null,
            "grid_template_rows": null,
            "height": null,
            "justify_content": null,
            "justify_items": null,
            "left": null,
            "margin": null,
            "max_height": null,
            "max_width": null,
            "min_height": null,
            "min_width": null,
            "object_fit": null,
            "object_position": null,
            "order": null,
            "overflow": null,
            "overflow_x": null,
            "overflow_y": null,
            "padding": null,
            "right": null,
            "top": null,
            "visibility": null,
            "width": null
          }
        },
        "1596cff057434758ae4fcee257eff11d": {
          "model_module": "@jupyter-widgets/controls",
          "model_name": "DescriptionStyleModel",
          "model_module_version": "1.5.0",
          "state": {
            "_model_module": "@jupyter-widgets/controls",
            "_model_module_version": "1.5.0",
            "_model_name": "DescriptionStyleModel",
            "_view_count": null,
            "_view_module": "@jupyter-widgets/base",
            "_view_module_version": "1.2.0",
            "_view_name": "StyleView",
            "description_width": ""
          }
        },
        "2ecc3bb461114e5fb569e4872815fc06": {
          "model_module": "@jupyter-widgets/controls",
          "model_name": "HBoxModel",
          "model_module_version": "1.5.0",
          "state": {
            "_dom_classes": [],
            "_model_module": "@jupyter-widgets/controls",
            "_model_module_version": "1.5.0",
            "_model_name": "HBoxModel",
            "_view_count": null,
            "_view_module": "@jupyter-widgets/controls",
            "_view_module_version": "1.5.0",
            "_view_name": "HBoxView",
            "box_style": "",
            "children": [
              "IPY_MODEL_7f098325cf3b4cf99dd8b7e96b58c348",
              "IPY_MODEL_e2f9a6b130254b05aedd2bef10833b5a",
              "IPY_MODEL_fa8ff848e7624e9bbf252058194af055"
            ],
            "layout": "IPY_MODEL_0830e20baeb84584954f2ec999ae3f10"
          }
        },
        "7f098325cf3b4cf99dd8b7e96b58c348": {
          "model_module": "@jupyter-widgets/controls",
          "model_name": "HTMLModel",
          "model_module_version": "1.5.0",
          "state": {
            "_dom_classes": [],
            "_model_module": "@jupyter-widgets/controls",
            "_model_module_version": "1.5.0",
            "_model_name": "HTMLModel",
            "_view_count": null,
            "_view_module": "@jupyter-widgets/controls",
            "_view_module_version": "1.5.0",
            "_view_name": "HTMLView",
            "description": "",
            "description_tooltip": null,
            "layout": "IPY_MODEL_fa9225a9487c4c4a849047a825ee6f1a",
            "placeholder": "​",
            "style": "IPY_MODEL_6afe0774529f4c719f9dd9afd7adebc6",
            "value": "config.json: 100%"
          }
        },
        "e2f9a6b130254b05aedd2bef10833b5a": {
          "model_module": "@jupyter-widgets/controls",
          "model_name": "FloatProgressModel",
          "model_module_version": "1.5.0",
          "state": {
            "_dom_classes": [],
            "_model_module": "@jupyter-widgets/controls",
            "_model_module_version": "1.5.0",
            "_model_name": "FloatProgressModel",
            "_view_count": null,
            "_view_module": "@jupyter-widgets/controls",
            "_view_module_version": "1.5.0",
            "_view_name": "ProgressView",
            "bar_style": "success",
            "description": "",
            "description_tooltip": null,
            "layout": "IPY_MODEL_ec85c32cf0f74c71a8f1477be350a566",
            "max": 612,
            "min": 0,
            "orientation": "horizontal",
            "style": "IPY_MODEL_19c4b8bbb7e642aab9c5ca4e87c96ab1",
            "value": 612
          }
        },
        "fa8ff848e7624e9bbf252058194af055": {
          "model_module": "@jupyter-widgets/controls",
          "model_name": "HTMLModel",
          "model_module_version": "1.5.0",
          "state": {
            "_dom_classes": [],
            "_model_module": "@jupyter-widgets/controls",
            "_model_module_version": "1.5.0",
            "_model_name": "HTMLModel",
            "_view_count": null,
            "_view_module": "@jupyter-widgets/controls",
            "_view_module_version": "1.5.0",
            "_view_name": "HTMLView",
            "description": "",
            "description_tooltip": null,
            "layout": "IPY_MODEL_f367351de4a140319d9fb0615ea276ba",
            "placeholder": "​",
            "style": "IPY_MODEL_bc650b2fc403489fa5abe112862b6d18",
            "value": " 612/612 [00:00&lt;00:00, 27.3kB/s]"
          }
        },
        "0830e20baeb84584954f2ec999ae3f10": {
          "model_module": "@jupyter-widgets/base",
          "model_name": "LayoutModel",
          "model_module_version": "1.2.0",
          "state": {
            "_model_module": "@jupyter-widgets/base",
            "_model_module_version": "1.2.0",
            "_model_name": "LayoutModel",
            "_view_count": null,
            "_view_module": "@jupyter-widgets/base",
            "_view_module_version": "1.2.0",
            "_view_name": "LayoutView",
            "align_content": null,
            "align_items": null,
            "align_self": null,
            "border": null,
            "bottom": null,
            "display": null,
            "flex": null,
            "flex_flow": null,
            "grid_area": null,
            "grid_auto_columns": null,
            "grid_auto_flow": null,
            "grid_auto_rows": null,
            "grid_column": null,
            "grid_gap": null,
            "grid_row": null,
            "grid_template_areas": null,
            "grid_template_columns": null,
            "grid_template_rows": null,
            "height": null,
            "justify_content": null,
            "justify_items": null,
            "left": null,
            "margin": null,
            "max_height": null,
            "max_width": null,
            "min_height": null,
            "min_width": null,
            "object_fit": null,
            "object_position": null,
            "order": null,
            "overflow": null,
            "overflow_x": null,
            "overflow_y": null,
            "padding": null,
            "right": null,
            "top": null,
            "visibility": null,
            "width": null
          }
        },
        "fa9225a9487c4c4a849047a825ee6f1a": {
          "model_module": "@jupyter-widgets/base",
          "model_name": "LayoutModel",
          "model_module_version": "1.2.0",
          "state": {
            "_model_module": "@jupyter-widgets/base",
            "_model_module_version": "1.2.0",
            "_model_name": "LayoutModel",
            "_view_count": null,
            "_view_module": "@jupyter-widgets/base",
            "_view_module_version": "1.2.0",
            "_view_name": "LayoutView",
            "align_content": null,
            "align_items": null,
            "align_self": null,
            "border": null,
            "bottom": null,
            "display": null,
            "flex": null,
            "flex_flow": null,
            "grid_area": null,
            "grid_auto_columns": null,
            "grid_auto_flow": null,
            "grid_auto_rows": null,
            "grid_column": null,
            "grid_gap": null,
            "grid_row": null,
            "grid_template_areas": null,
            "grid_template_columns": null,
            "grid_template_rows": null,
            "height": null,
            "justify_content": null,
            "justify_items": null,
            "left": null,
            "margin": null,
            "max_height": null,
            "max_width": null,
            "min_height": null,
            "min_width": null,
            "object_fit": null,
            "object_position": null,
            "order": null,
            "overflow": null,
            "overflow_x": null,
            "overflow_y": null,
            "padding": null,
            "right": null,
            "top": null,
            "visibility": null,
            "width": null
          }
        },
        "6afe0774529f4c719f9dd9afd7adebc6": {
          "model_module": "@jupyter-widgets/controls",
          "model_name": "DescriptionStyleModel",
          "model_module_version": "1.5.0",
          "state": {
            "_model_module": "@jupyter-widgets/controls",
            "_model_module_version": "1.5.0",
            "_model_name": "DescriptionStyleModel",
            "_view_count": null,
            "_view_module": "@jupyter-widgets/base",
            "_view_module_version": "1.2.0",
            "_view_name": "StyleView",
            "description_width": ""
          }
        },
        "ec85c32cf0f74c71a8f1477be350a566": {
          "model_module": "@jupyter-widgets/base",
          "model_name": "LayoutModel",
          "model_module_version": "1.2.0",
          "state": {
            "_model_module": "@jupyter-widgets/base",
            "_model_module_version": "1.2.0",
            "_model_name": "LayoutModel",
            "_view_count": null,
            "_view_module": "@jupyter-widgets/base",
            "_view_module_version": "1.2.0",
            "_view_name": "LayoutView",
            "align_content": null,
            "align_items": null,
            "align_self": null,
            "border": null,
            "bottom": null,
            "display": null,
            "flex": null,
            "flex_flow": null,
            "grid_area": null,
            "grid_auto_columns": null,
            "grid_auto_flow": null,
            "grid_auto_rows": null,
            "grid_column": null,
            "grid_gap": null,
            "grid_row": null,
            "grid_template_areas": null,
            "grid_template_columns": null,
            "grid_template_rows": null,
            "height": null,
            "justify_content": null,
            "justify_items": null,
            "left": null,
            "margin": null,
            "max_height": null,
            "max_width": null,
            "min_height": null,
            "min_width": null,
            "object_fit": null,
            "object_position": null,
            "order": null,
            "overflow": null,
            "overflow_x": null,
            "overflow_y": null,
            "padding": null,
            "right": null,
            "top": null,
            "visibility": null,
            "width": null
          }
        },
        "19c4b8bbb7e642aab9c5ca4e87c96ab1": {
          "model_module": "@jupyter-widgets/controls",
          "model_name": "ProgressStyleModel",
          "model_module_version": "1.5.0",
          "state": {
            "_model_module": "@jupyter-widgets/controls",
            "_model_module_version": "1.5.0",
            "_model_name": "ProgressStyleModel",
            "_view_count": null,
            "_view_module": "@jupyter-widgets/base",
            "_view_module_version": "1.2.0",
            "_view_name": "StyleView",
            "bar_color": null,
            "description_width": ""
          }
        },
        "f367351de4a140319d9fb0615ea276ba": {
          "model_module": "@jupyter-widgets/base",
          "model_name": "LayoutModel",
          "model_module_version": "1.2.0",
          "state": {
            "_model_module": "@jupyter-widgets/base",
            "_model_module_version": "1.2.0",
            "_model_name": "LayoutModel",
            "_view_count": null,
            "_view_module": "@jupyter-widgets/base",
            "_view_module_version": "1.2.0",
            "_view_name": "LayoutView",
            "align_content": null,
            "align_items": null,
            "align_self": null,
            "border": null,
            "bottom": null,
            "display": null,
            "flex": null,
            "flex_flow": null,
            "grid_area": null,
            "grid_auto_columns": null,
            "grid_auto_flow": null,
            "grid_auto_rows": null,
            "grid_column": null,
            "grid_gap": null,
            "grid_row": null,
            "grid_template_areas": null,
            "grid_template_columns": null,
            "grid_template_rows": null,
            "height": null,
            "justify_content": null,
            "justify_items": null,
            "left": null,
            "margin": null,
            "max_height": null,
            "max_width": null,
            "min_height": null,
            "min_width": null,
            "object_fit": null,
            "object_position": null,
            "order": null,
            "overflow": null,
            "overflow_x": null,
            "overflow_y": null,
            "padding": null,
            "right": null,
            "top": null,
            "visibility": null,
            "width": null
          }
        },
        "bc650b2fc403489fa5abe112862b6d18": {
          "model_module": "@jupyter-widgets/controls",
          "model_name": "DescriptionStyleModel",
          "model_module_version": "1.5.0",
          "state": {
            "_model_module": "@jupyter-widgets/controls",
            "_model_module_version": "1.5.0",
            "_model_name": "DescriptionStyleModel",
            "_view_count": null,
            "_view_module": "@jupyter-widgets/base",
            "_view_module_version": "1.2.0",
            "_view_name": "StyleView",
            "description_width": ""
          }
        },
        "0fc06aaf7c4d41e3971389eab026f742": {
          "model_module": "@jupyter-widgets/controls",
          "model_name": "HBoxModel",
          "model_module_version": "1.5.0",
          "state": {
            "_dom_classes": [],
            "_model_module": "@jupyter-widgets/controls",
            "_model_module_version": "1.5.0",
            "_model_name": "HBoxModel",
            "_view_count": null,
            "_view_module": "@jupyter-widgets/controls",
            "_view_module_version": "1.5.0",
            "_view_name": "HBoxView",
            "box_style": "",
            "children": [
              "IPY_MODEL_ea2f319ec88541ca9d942a1c006e80d9",
              "IPY_MODEL_fd956a2c1f624563b1e22ab2a78e18cc",
              "IPY_MODEL_f3a59981ac764aa6a9b15b979ecba9b5"
            ],
            "layout": "IPY_MODEL_d701573deb75407785d72f536fc78174"
          }
        },
        "ea2f319ec88541ca9d942a1c006e80d9": {
          "model_module": "@jupyter-widgets/controls",
          "model_name": "HTMLModel",
          "model_module_version": "1.5.0",
          "state": {
            "_dom_classes": [],
            "_model_module": "@jupyter-widgets/controls",
            "_model_module_version": "1.5.0",
            "_model_name": "HTMLModel",
            "_view_count": null,
            "_view_module": "@jupyter-widgets/controls",
            "_view_module_version": "1.5.0",
            "_view_name": "HTMLView",
            "description": "",
            "description_tooltip": null,
            "layout": "IPY_MODEL_00165da2fe454dd1b8338b771e89d364",
            "placeholder": "​",
            "style": "IPY_MODEL_c8309dfc068749e8a91e24597a809a12",
            "value": "model.safetensors: 100%"
          }
        },
        "fd956a2c1f624563b1e22ab2a78e18cc": {
          "model_module": "@jupyter-widgets/controls",
          "model_name": "FloatProgressModel",
          "model_module_version": "1.5.0",
          "state": {
            "_dom_classes": [],
            "_model_module": "@jupyter-widgets/controls",
            "_model_module_version": "1.5.0",
            "_model_name": "FloatProgressModel",
            "_view_count": null,
            "_view_module": "@jupyter-widgets/controls",
            "_view_module_version": "1.5.0",
            "_view_name": "ProgressView",
            "bar_style": "success",
            "description": "",
            "description_tooltip": null,
            "layout": "IPY_MODEL_25f982aca5454ad6897c3df88598c0e4",
            "max": 90868376,
            "min": 0,
            "orientation": "horizontal",
            "style": "IPY_MODEL_e132ecfd64ed4a3da71688020947d1ce",
            "value": 90868376
          }
        },
        "f3a59981ac764aa6a9b15b979ecba9b5": {
          "model_module": "@jupyter-widgets/controls",
          "model_name": "HTMLModel",
          "model_module_version": "1.5.0",
          "state": {
            "_dom_classes": [],
            "_model_module": "@jupyter-widgets/controls",
            "_model_module_version": "1.5.0",
            "_model_name": "HTMLModel",
            "_view_count": null,
            "_view_module": "@jupyter-widgets/controls",
            "_view_module_version": "1.5.0",
            "_view_name": "HTMLView",
            "description": "",
            "description_tooltip": null,
            "layout": "IPY_MODEL_ca55d8bb10e14965b3342bc18e32c0ba",
            "placeholder": "​",
            "style": "IPY_MODEL_68781fb140a148038b400b480a87123b",
            "value": " 90.9M/90.9M [00:01&lt;00:00, 120MB/s]"
          }
        },
        "d701573deb75407785d72f536fc78174": {
          "model_module": "@jupyter-widgets/base",
          "model_name": "LayoutModel",
          "model_module_version": "1.2.0",
          "state": {
            "_model_module": "@jupyter-widgets/base",
            "_model_module_version": "1.2.0",
            "_model_name": "LayoutModel",
            "_view_count": null,
            "_view_module": "@jupyter-widgets/base",
            "_view_module_version": "1.2.0",
            "_view_name": "LayoutView",
            "align_content": null,
            "align_items": null,
            "align_self": null,
            "border": null,
            "bottom": null,
            "display": null,
            "flex": null,
            "flex_flow": null,
            "grid_area": null,
            "grid_auto_columns": null,
            "grid_auto_flow": null,
            "grid_auto_rows": null,
            "grid_column": null,
            "grid_gap": null,
            "grid_row": null,
            "grid_template_areas": null,
            "grid_template_columns": null,
            "grid_template_rows": null,
            "height": null,
            "justify_content": null,
            "justify_items": null,
            "left": null,
            "margin": null,
            "max_height": null,
            "max_width": null,
            "min_height": null,
            "min_width": null,
            "object_fit": null,
            "object_position": null,
            "order": null,
            "overflow": null,
            "overflow_x": null,
            "overflow_y": null,
            "padding": null,
            "right": null,
            "top": null,
            "visibility": null,
            "width": null
          }
        },
        "00165da2fe454dd1b8338b771e89d364": {
          "model_module": "@jupyter-widgets/base",
          "model_name": "LayoutModel",
          "model_module_version": "1.2.0",
          "state": {
            "_model_module": "@jupyter-widgets/base",
            "_model_module_version": "1.2.0",
            "_model_name": "LayoutModel",
            "_view_count": null,
            "_view_module": "@jupyter-widgets/base",
            "_view_module_version": "1.2.0",
            "_view_name": "LayoutView",
            "align_content": null,
            "align_items": null,
            "align_self": null,
            "border": null,
            "bottom": null,
            "display": null,
            "flex": null,
            "flex_flow": null,
            "grid_area": null,
            "grid_auto_columns": null,
            "grid_auto_flow": null,
            "grid_auto_rows": null,
            "grid_column": null,
            "grid_gap": null,
            "grid_row": null,
            "grid_template_areas": null,
            "grid_template_columns": null,
            "grid_template_rows": null,
            "height": null,
            "justify_content": null,
            "justify_items": null,
            "left": null,
            "margin": null,
            "max_height": null,
            "max_width": null,
            "min_height": null,
            "min_width": null,
            "object_fit": null,
            "object_position": null,
            "order": null,
            "overflow": null,
            "overflow_x": null,
            "overflow_y": null,
            "padding": null,
            "right": null,
            "top": null,
            "visibility": null,
            "width": null
          }
        },
        "c8309dfc068749e8a91e24597a809a12": {
          "model_module": "@jupyter-widgets/controls",
          "model_name": "DescriptionStyleModel",
          "model_module_version": "1.5.0",
          "state": {
            "_model_module": "@jupyter-widgets/controls",
            "_model_module_version": "1.5.0",
            "_model_name": "DescriptionStyleModel",
            "_view_count": null,
            "_view_module": "@jupyter-widgets/base",
            "_view_module_version": "1.2.0",
            "_view_name": "StyleView",
            "description_width": ""
          }
        },
        "25f982aca5454ad6897c3df88598c0e4": {
          "model_module": "@jupyter-widgets/base",
          "model_name": "LayoutModel",
          "model_module_version": "1.2.0",
          "state": {
            "_model_module": "@jupyter-widgets/base",
            "_model_module_version": "1.2.0",
            "_model_name": "LayoutModel",
            "_view_count": null,
            "_view_module": "@jupyter-widgets/base",
            "_view_module_version": "1.2.0",
            "_view_name": "LayoutView",
            "align_content": null,
            "align_items": null,
            "align_self": null,
            "border": null,
            "bottom": null,
            "display": null,
            "flex": null,
            "flex_flow": null,
            "grid_area": null,
            "grid_auto_columns": null,
            "grid_auto_flow": null,
            "grid_auto_rows": null,
            "grid_column": null,
            "grid_gap": null,
            "grid_row": null,
            "grid_template_areas": null,
            "grid_template_columns": null,
            "grid_template_rows": null,
            "height": null,
            "justify_content": null,
            "justify_items": null,
            "left": null,
            "margin": null,
            "max_height": null,
            "max_width": null,
            "min_height": null,
            "min_width": null,
            "object_fit": null,
            "object_position": null,
            "order": null,
            "overflow": null,
            "overflow_x": null,
            "overflow_y": null,
            "padding": null,
            "right": null,
            "top": null,
            "visibility": null,
            "width": null
          }
        },
        "e132ecfd64ed4a3da71688020947d1ce": {
          "model_module": "@jupyter-widgets/controls",
          "model_name": "ProgressStyleModel",
          "model_module_version": "1.5.0",
          "state": {
            "_model_module": "@jupyter-widgets/controls",
            "_model_module_version": "1.5.0",
            "_model_name": "ProgressStyleModel",
            "_view_count": null,
            "_view_module": "@jupyter-widgets/base",
            "_view_module_version": "1.2.0",
            "_view_name": "StyleView",
            "bar_color": null,
            "description_width": ""
          }
        },
        "ca55d8bb10e14965b3342bc18e32c0ba": {
          "model_module": "@jupyter-widgets/base",
          "model_name": "LayoutModel",
          "model_module_version": "1.2.0",
          "state": {
            "_model_module": "@jupyter-widgets/base",
            "_model_module_version": "1.2.0",
            "_model_name": "LayoutModel",
            "_view_count": null,
            "_view_module": "@jupyter-widgets/base",
            "_view_module_version": "1.2.0",
            "_view_name": "LayoutView",
            "align_content": null,
            "align_items": null,
            "align_self": null,
            "border": null,
            "bottom": null,
            "display": null,
            "flex": null,
            "flex_flow": null,
            "grid_area": null,
            "grid_auto_columns": null,
            "grid_auto_flow": null,
            "grid_auto_rows": null,
            "grid_column": null,
            "grid_gap": null,
            "grid_row": null,
            "grid_template_areas": null,
            "grid_template_columns": null,
            "grid_template_rows": null,
            "height": null,
            "justify_content": null,
            "justify_items": null,
            "left": null,
            "margin": null,
            "max_height": null,
            "max_width": null,
            "min_height": null,
            "min_width": null,
            "object_fit": null,
            "object_position": null,
            "order": null,
            "overflow": null,
            "overflow_x": null,
            "overflow_y": null,
            "padding": null,
            "right": null,
            "top": null,
            "visibility": null,
            "width": null
          }
        },
        "68781fb140a148038b400b480a87123b": {
          "model_module": "@jupyter-widgets/controls",
          "model_name": "DescriptionStyleModel",
          "model_module_version": "1.5.0",
          "state": {
            "_model_module": "@jupyter-widgets/controls",
            "_model_module_version": "1.5.0",
            "_model_name": "DescriptionStyleModel",
            "_view_count": null,
            "_view_module": "@jupyter-widgets/base",
            "_view_module_version": "1.2.0",
            "_view_name": "StyleView",
            "description_width": ""
          }
        },
        "6c77d3333cb74be0b319f0f6cfae3677": {
          "model_module": "@jupyter-widgets/controls",
          "model_name": "HBoxModel",
          "model_module_version": "1.5.0",
          "state": {
            "_dom_classes": [],
            "_model_module": "@jupyter-widgets/controls",
            "_model_module_version": "1.5.0",
            "_model_name": "HBoxModel",
            "_view_count": null,
            "_view_module": "@jupyter-widgets/controls",
            "_view_module_version": "1.5.0",
            "_view_name": "HBoxView",
            "box_style": "",
            "children": [
              "IPY_MODEL_be2c7f0d19bb483db727fb03f7d99cb5",
              "IPY_MODEL_646e4720d2744c7ba2b87207cf2b4f42",
              "IPY_MODEL_343dbb64d57240f09a3103a51cb8f762"
            ],
            "layout": "IPY_MODEL_65aaa433201540f796f3aa2c8a63006f"
          }
        },
        "be2c7f0d19bb483db727fb03f7d99cb5": {
          "model_module": "@jupyter-widgets/controls",
          "model_name": "HTMLModel",
          "model_module_version": "1.5.0",
          "state": {
            "_dom_classes": [],
            "_model_module": "@jupyter-widgets/controls",
            "_model_module_version": "1.5.0",
            "_model_name": "HTMLModel",
            "_view_count": null,
            "_view_module": "@jupyter-widgets/controls",
            "_view_module_version": "1.5.0",
            "_view_name": "HTMLView",
            "description": "",
            "description_tooltip": null,
            "layout": "IPY_MODEL_54bb285c29bc4d638f205e15a9ff94f6",
            "placeholder": "​",
            "style": "IPY_MODEL_709f26ac6bb74809b8babef9f5f53b9f",
            "value": "tokenizer_config.json: 100%"
          }
        },
        "646e4720d2744c7ba2b87207cf2b4f42": {
          "model_module": "@jupyter-widgets/controls",
          "model_name": "FloatProgressModel",
          "model_module_version": "1.5.0",
          "state": {
            "_dom_classes": [],
            "_model_module": "@jupyter-widgets/controls",
            "_model_module_version": "1.5.0",
            "_model_name": "FloatProgressModel",
            "_view_count": null,
            "_view_module": "@jupyter-widgets/controls",
            "_view_module_version": "1.5.0",
            "_view_name": "ProgressView",
            "bar_style": "success",
            "description": "",
            "description_tooltip": null,
            "layout": "IPY_MODEL_a46907abb9a749179c80e4f13126b7e9",
            "max": 350,
            "min": 0,
            "orientation": "horizontal",
            "style": "IPY_MODEL_6f3a05265629440fa4f00b5d096911d8",
            "value": 350
          }
        },
        "343dbb64d57240f09a3103a51cb8f762": {
          "model_module": "@jupyter-widgets/controls",
          "model_name": "HTMLModel",
          "model_module_version": "1.5.0",
          "state": {
            "_dom_classes": [],
            "_model_module": "@jupyter-widgets/controls",
            "_model_module_version": "1.5.0",
            "_model_name": "HTMLModel",
            "_view_count": null,
            "_view_module": "@jupyter-widgets/controls",
            "_view_module_version": "1.5.0",
            "_view_name": "HTMLView",
            "description": "",
            "description_tooltip": null,
            "layout": "IPY_MODEL_380ee3a26ba64e679f526c14b0e7e066",
            "placeholder": "​",
            "style": "IPY_MODEL_e004d7d6f11040a3ab823ae9f7781090",
            "value": " 350/350 [00:00&lt;00:00, 15.7kB/s]"
          }
        },
        "65aaa433201540f796f3aa2c8a63006f": {
          "model_module": "@jupyter-widgets/base",
          "model_name": "LayoutModel",
          "model_module_version": "1.2.0",
          "state": {
            "_model_module": "@jupyter-widgets/base",
            "_model_module_version": "1.2.0",
            "_model_name": "LayoutModel",
            "_view_count": null,
            "_view_module": "@jupyter-widgets/base",
            "_view_module_version": "1.2.0",
            "_view_name": "LayoutView",
            "align_content": null,
            "align_items": null,
            "align_self": null,
            "border": null,
            "bottom": null,
            "display": null,
            "flex": null,
            "flex_flow": null,
            "grid_area": null,
            "grid_auto_columns": null,
            "grid_auto_flow": null,
            "grid_auto_rows": null,
            "grid_column": null,
            "grid_gap": null,
            "grid_row": null,
            "grid_template_areas": null,
            "grid_template_columns": null,
            "grid_template_rows": null,
            "height": null,
            "justify_content": null,
            "justify_items": null,
            "left": null,
            "margin": null,
            "max_height": null,
            "max_width": null,
            "min_height": null,
            "min_width": null,
            "object_fit": null,
            "object_position": null,
            "order": null,
            "overflow": null,
            "overflow_x": null,
            "overflow_y": null,
            "padding": null,
            "right": null,
            "top": null,
            "visibility": null,
            "width": null
          }
        },
        "54bb285c29bc4d638f205e15a9ff94f6": {
          "model_module": "@jupyter-widgets/base",
          "model_name": "LayoutModel",
          "model_module_version": "1.2.0",
          "state": {
            "_model_module": "@jupyter-widgets/base",
            "_model_module_version": "1.2.0",
            "_model_name": "LayoutModel",
            "_view_count": null,
            "_view_module": "@jupyter-widgets/base",
            "_view_module_version": "1.2.0",
            "_view_name": "LayoutView",
            "align_content": null,
            "align_items": null,
            "align_self": null,
            "border": null,
            "bottom": null,
            "display": null,
            "flex": null,
            "flex_flow": null,
            "grid_area": null,
            "grid_auto_columns": null,
            "grid_auto_flow": null,
            "grid_auto_rows": null,
            "grid_column": null,
            "grid_gap": null,
            "grid_row": null,
            "grid_template_areas": null,
            "grid_template_columns": null,
            "grid_template_rows": null,
            "height": null,
            "justify_content": null,
            "justify_items": null,
            "left": null,
            "margin": null,
            "max_height": null,
            "max_width": null,
            "min_height": null,
            "min_width": null,
            "object_fit": null,
            "object_position": null,
            "order": null,
            "overflow": null,
            "overflow_x": null,
            "overflow_y": null,
            "padding": null,
            "right": null,
            "top": null,
            "visibility": null,
            "width": null
          }
        },
        "709f26ac6bb74809b8babef9f5f53b9f": {
          "model_module": "@jupyter-widgets/controls",
          "model_name": "DescriptionStyleModel",
          "model_module_version": "1.5.0",
          "state": {
            "_model_module": "@jupyter-widgets/controls",
            "_model_module_version": "1.5.0",
            "_model_name": "DescriptionStyleModel",
            "_view_count": null,
            "_view_module": "@jupyter-widgets/base",
            "_view_module_version": "1.2.0",
            "_view_name": "StyleView",
            "description_width": ""
          }
        },
        "a46907abb9a749179c80e4f13126b7e9": {
          "model_module": "@jupyter-widgets/base",
          "model_name": "LayoutModel",
          "model_module_version": "1.2.0",
          "state": {
            "_model_module": "@jupyter-widgets/base",
            "_model_module_version": "1.2.0",
            "_model_name": "LayoutModel",
            "_view_count": null,
            "_view_module": "@jupyter-widgets/base",
            "_view_module_version": "1.2.0",
            "_view_name": "LayoutView",
            "align_content": null,
            "align_items": null,
            "align_self": null,
            "border": null,
            "bottom": null,
            "display": null,
            "flex": null,
            "flex_flow": null,
            "grid_area": null,
            "grid_auto_columns": null,
            "grid_auto_flow": null,
            "grid_auto_rows": null,
            "grid_column": null,
            "grid_gap": null,
            "grid_row": null,
            "grid_template_areas": null,
            "grid_template_columns": null,
            "grid_template_rows": null,
            "height": null,
            "justify_content": null,
            "justify_items": null,
            "left": null,
            "margin": null,
            "max_height": null,
            "max_width": null,
            "min_height": null,
            "min_width": null,
            "object_fit": null,
            "object_position": null,
            "order": null,
            "overflow": null,
            "overflow_x": null,
            "overflow_y": null,
            "padding": null,
            "right": null,
            "top": null,
            "visibility": null,
            "width": null
          }
        },
        "6f3a05265629440fa4f00b5d096911d8": {
          "model_module": "@jupyter-widgets/controls",
          "model_name": "ProgressStyleModel",
          "model_module_version": "1.5.0",
          "state": {
            "_model_module": "@jupyter-widgets/controls",
            "_model_module_version": "1.5.0",
            "_model_name": "ProgressStyleModel",
            "_view_count": null,
            "_view_module": "@jupyter-widgets/base",
            "_view_module_version": "1.2.0",
            "_view_name": "StyleView",
            "bar_color": null,
            "description_width": ""
          }
        },
        "380ee3a26ba64e679f526c14b0e7e066": {
          "model_module": "@jupyter-widgets/base",
          "model_name": "LayoutModel",
          "model_module_version": "1.2.0",
          "state": {
            "_model_module": "@jupyter-widgets/base",
            "_model_module_version": "1.2.0",
            "_model_name": "LayoutModel",
            "_view_count": null,
            "_view_module": "@jupyter-widgets/base",
            "_view_module_version": "1.2.0",
            "_view_name": "LayoutView",
            "align_content": null,
            "align_items": null,
            "align_self": null,
            "border": null,
            "bottom": null,
            "display": null,
            "flex": null,
            "flex_flow": null,
            "grid_area": null,
            "grid_auto_columns": null,
            "grid_auto_flow": null,
            "grid_auto_rows": null,
            "grid_column": null,
            "grid_gap": null,
            "grid_row": null,
            "grid_template_areas": null,
            "grid_template_columns": null,
            "grid_template_rows": null,
            "height": null,
            "justify_content": null,
            "justify_items": null,
            "left": null,
            "margin": null,
            "max_height": null,
            "max_width": null,
            "min_height": null,
            "min_width": null,
            "object_fit": null,
            "object_position": null,
            "order": null,
            "overflow": null,
            "overflow_x": null,
            "overflow_y": null,
            "padding": null,
            "right": null,
            "top": null,
            "visibility": null,
            "width": null
          }
        },
        "e004d7d6f11040a3ab823ae9f7781090": {
          "model_module": "@jupyter-widgets/controls",
          "model_name": "DescriptionStyleModel",
          "model_module_version": "1.5.0",
          "state": {
            "_model_module": "@jupyter-widgets/controls",
            "_model_module_version": "1.5.0",
            "_model_name": "DescriptionStyleModel",
            "_view_count": null,
            "_view_module": "@jupyter-widgets/base",
            "_view_module_version": "1.2.0",
            "_view_name": "StyleView",
            "description_width": ""
          }
        },
        "d2e8f6f41a314dee8144eab6ddfd376f": {
          "model_module": "@jupyter-widgets/controls",
          "model_name": "HBoxModel",
          "model_module_version": "1.5.0",
          "state": {
            "_dom_classes": [],
            "_model_module": "@jupyter-widgets/controls",
            "_model_module_version": "1.5.0",
            "_model_name": "HBoxModel",
            "_view_count": null,
            "_view_module": "@jupyter-widgets/controls",
            "_view_module_version": "1.5.0",
            "_view_name": "HBoxView",
            "box_style": "",
            "children": [
              "IPY_MODEL_0af2a9e94ee84dc0b891e226b5445efe",
              "IPY_MODEL_e48389d432834f159e77c72eff2726ed",
              "IPY_MODEL_e6d74a83cc3c48caab0bb9516bd8e909"
            ],
            "layout": "IPY_MODEL_ade085df15cf4c59a5fe7a0089256271"
          }
        },
        "0af2a9e94ee84dc0b891e226b5445efe": {
          "model_module": "@jupyter-widgets/controls",
          "model_name": "HTMLModel",
          "model_module_version": "1.5.0",
          "state": {
            "_dom_classes": [],
            "_model_module": "@jupyter-widgets/controls",
            "_model_module_version": "1.5.0",
            "_model_name": "HTMLModel",
            "_view_count": null,
            "_view_module": "@jupyter-widgets/controls",
            "_view_module_version": "1.5.0",
            "_view_name": "HTMLView",
            "description": "",
            "description_tooltip": null,
            "layout": "IPY_MODEL_6bdd4d9e8e134520ac6526c71b36cb15",
            "placeholder": "​",
            "style": "IPY_MODEL_e1d0e917a6e1429c8dafc415fe1f897d",
            "value": "vocab.txt: 100%"
          }
        },
        "e48389d432834f159e77c72eff2726ed": {
          "model_module": "@jupyter-widgets/controls",
          "model_name": "FloatProgressModel",
          "model_module_version": "1.5.0",
          "state": {
            "_dom_classes": [],
            "_model_module": "@jupyter-widgets/controls",
            "_model_module_version": "1.5.0",
            "_model_name": "FloatProgressModel",
            "_view_count": null,
            "_view_module": "@jupyter-widgets/controls",
            "_view_module_version": "1.5.0",
            "_view_name": "ProgressView",
            "bar_style": "success",
            "description": "",
            "description_tooltip": null,
            "layout": "IPY_MODEL_60c6d477d19a4f29950ec323e7f2e856",
            "max": 231508,
            "min": 0,
            "orientation": "horizontal",
            "style": "IPY_MODEL_4bcc5b0ac3fa4e5dbb3850985dc8970d",
            "value": 231508
          }
        },
        "e6d74a83cc3c48caab0bb9516bd8e909": {
          "model_module": "@jupyter-widgets/controls",
          "model_name": "HTMLModel",
          "model_module_version": "1.5.0",
          "state": {
            "_dom_classes": [],
            "_model_module": "@jupyter-widgets/controls",
            "_model_module_version": "1.5.0",
            "_model_name": "HTMLModel",
            "_view_count": null,
            "_view_module": "@jupyter-widgets/controls",
            "_view_module_version": "1.5.0",
            "_view_name": "HTMLView",
            "description": "",
            "description_tooltip": null,
            "layout": "IPY_MODEL_63e702bb4af8476a88fdd497b8108b52",
            "placeholder": "​",
            "style": "IPY_MODEL_aee8fb4d19384144a00ca5a0e3362342",
            "value": " 232k/232k [00:00&lt;00:00, 4.99MB/s]"
          }
        },
        "ade085df15cf4c59a5fe7a0089256271": {
          "model_module": "@jupyter-widgets/base",
          "model_name": "LayoutModel",
          "model_module_version": "1.2.0",
          "state": {
            "_model_module": "@jupyter-widgets/base",
            "_model_module_version": "1.2.0",
            "_model_name": "LayoutModel",
            "_view_count": null,
            "_view_module": "@jupyter-widgets/base",
            "_view_module_version": "1.2.0",
            "_view_name": "LayoutView",
            "align_content": null,
            "align_items": null,
            "align_self": null,
            "border": null,
            "bottom": null,
            "display": null,
            "flex": null,
            "flex_flow": null,
            "grid_area": null,
            "grid_auto_columns": null,
            "grid_auto_flow": null,
            "grid_auto_rows": null,
            "grid_column": null,
            "grid_gap": null,
            "grid_row": null,
            "grid_template_areas": null,
            "grid_template_columns": null,
            "grid_template_rows": null,
            "height": null,
            "justify_content": null,
            "justify_items": null,
            "left": null,
            "margin": null,
            "max_height": null,
            "max_width": null,
            "min_height": null,
            "min_width": null,
            "object_fit": null,
            "object_position": null,
            "order": null,
            "overflow": null,
            "overflow_x": null,
            "overflow_y": null,
            "padding": null,
            "right": null,
            "top": null,
            "visibility": null,
            "width": null
          }
        },
        "6bdd4d9e8e134520ac6526c71b36cb15": {
          "model_module": "@jupyter-widgets/base",
          "model_name": "LayoutModel",
          "model_module_version": "1.2.0",
          "state": {
            "_model_module": "@jupyter-widgets/base",
            "_model_module_version": "1.2.0",
            "_model_name": "LayoutModel",
            "_view_count": null,
            "_view_module": "@jupyter-widgets/base",
            "_view_module_version": "1.2.0",
            "_view_name": "LayoutView",
            "align_content": null,
            "align_items": null,
            "align_self": null,
            "border": null,
            "bottom": null,
            "display": null,
            "flex": null,
            "flex_flow": null,
            "grid_area": null,
            "grid_auto_columns": null,
            "grid_auto_flow": null,
            "grid_auto_rows": null,
            "grid_column": null,
            "grid_gap": null,
            "grid_row": null,
            "grid_template_areas": null,
            "grid_template_columns": null,
            "grid_template_rows": null,
            "height": null,
            "justify_content": null,
            "justify_items": null,
            "left": null,
            "margin": null,
            "max_height": null,
            "max_width": null,
            "min_height": null,
            "min_width": null,
            "object_fit": null,
            "object_position": null,
            "order": null,
            "overflow": null,
            "overflow_x": null,
            "overflow_y": null,
            "padding": null,
            "right": null,
            "top": null,
            "visibility": null,
            "width": null
          }
        },
        "e1d0e917a6e1429c8dafc415fe1f897d": {
          "model_module": "@jupyter-widgets/controls",
          "model_name": "DescriptionStyleModel",
          "model_module_version": "1.5.0",
          "state": {
            "_model_module": "@jupyter-widgets/controls",
            "_model_module_version": "1.5.0",
            "_model_name": "DescriptionStyleModel",
            "_view_count": null,
            "_view_module": "@jupyter-widgets/base",
            "_view_module_version": "1.2.0",
            "_view_name": "StyleView",
            "description_width": ""
          }
        },
        "60c6d477d19a4f29950ec323e7f2e856": {
          "model_module": "@jupyter-widgets/base",
          "model_name": "LayoutModel",
          "model_module_version": "1.2.0",
          "state": {
            "_model_module": "@jupyter-widgets/base",
            "_model_module_version": "1.2.0",
            "_model_name": "LayoutModel",
            "_view_count": null,
            "_view_module": "@jupyter-widgets/base",
            "_view_module_version": "1.2.0",
            "_view_name": "LayoutView",
            "align_content": null,
            "align_items": null,
            "align_self": null,
            "border": null,
            "bottom": null,
            "display": null,
            "flex": null,
            "flex_flow": null,
            "grid_area": null,
            "grid_auto_columns": null,
            "grid_auto_flow": null,
            "grid_auto_rows": null,
            "grid_column": null,
            "grid_gap": null,
            "grid_row": null,
            "grid_template_areas": null,
            "grid_template_columns": null,
            "grid_template_rows": null,
            "height": null,
            "justify_content": null,
            "justify_items": null,
            "left": null,
            "margin": null,
            "max_height": null,
            "max_width": null,
            "min_height": null,
            "min_width": null,
            "object_fit": null,
            "object_position": null,
            "order": null,
            "overflow": null,
            "overflow_x": null,
            "overflow_y": null,
            "padding": null,
            "right": null,
            "top": null,
            "visibility": null,
            "width": null
          }
        },
        "4bcc5b0ac3fa4e5dbb3850985dc8970d": {
          "model_module": "@jupyter-widgets/controls",
          "model_name": "ProgressStyleModel",
          "model_module_version": "1.5.0",
          "state": {
            "_model_module": "@jupyter-widgets/controls",
            "_model_module_version": "1.5.0",
            "_model_name": "ProgressStyleModel",
            "_view_count": null,
            "_view_module": "@jupyter-widgets/base",
            "_view_module_version": "1.2.0",
            "_view_name": "StyleView",
            "bar_color": null,
            "description_width": ""
          }
        },
        "63e702bb4af8476a88fdd497b8108b52": {
          "model_module": "@jupyter-widgets/base",
          "model_name": "LayoutModel",
          "model_module_version": "1.2.0",
          "state": {
            "_model_module": "@jupyter-widgets/base",
            "_model_module_version": "1.2.0",
            "_model_name": "LayoutModel",
            "_view_count": null,
            "_view_module": "@jupyter-widgets/base",
            "_view_module_version": "1.2.0",
            "_view_name": "LayoutView",
            "align_content": null,
            "align_items": null,
            "align_self": null,
            "border": null,
            "bottom": null,
            "display": null,
            "flex": null,
            "flex_flow": null,
            "grid_area": null,
            "grid_auto_columns": null,
            "grid_auto_flow": null,
            "grid_auto_rows": null,
            "grid_column": null,
            "grid_gap": null,
            "grid_row": null,
            "grid_template_areas": null,
            "grid_template_columns": null,
            "grid_template_rows": null,
            "height": null,
            "justify_content": null,
            "justify_items": null,
            "left": null,
            "margin": null,
            "max_height": null,
            "max_width": null,
            "min_height": null,
            "min_width": null,
            "object_fit": null,
            "object_position": null,
            "order": null,
            "overflow": null,
            "overflow_x": null,
            "overflow_y": null,
            "padding": null,
            "right": null,
            "top": null,
            "visibility": null,
            "width": null
          }
        },
        "aee8fb4d19384144a00ca5a0e3362342": {
          "model_module": "@jupyter-widgets/controls",
          "model_name": "DescriptionStyleModel",
          "model_module_version": "1.5.0",
          "state": {
            "_model_module": "@jupyter-widgets/controls",
            "_model_module_version": "1.5.0",
            "_model_name": "DescriptionStyleModel",
            "_view_count": null,
            "_view_module": "@jupyter-widgets/base",
            "_view_module_version": "1.2.0",
            "_view_name": "StyleView",
            "description_width": ""
          }
        },
        "a5c62b24685a48ef8b8388b4b0404025": {
          "model_module": "@jupyter-widgets/controls",
          "model_name": "HBoxModel",
          "model_module_version": "1.5.0",
          "state": {
            "_dom_classes": [],
            "_model_module": "@jupyter-widgets/controls",
            "_model_module_version": "1.5.0",
            "_model_name": "HBoxModel",
            "_view_count": null,
            "_view_module": "@jupyter-widgets/controls",
            "_view_module_version": "1.5.0",
            "_view_name": "HBoxView",
            "box_style": "",
            "children": [
              "IPY_MODEL_ca78cce4cd8e4438bd4f7ab54000feb2",
              "IPY_MODEL_18623c0e6302429b8d1eb2be58e3cb8c",
              "IPY_MODEL_99bce71e52274cb6aedfa6d79a76fee7"
            ],
            "layout": "IPY_MODEL_00124513567c4da9ae66234b213dd34c"
          }
        },
        "ca78cce4cd8e4438bd4f7ab54000feb2": {
          "model_module": "@jupyter-widgets/controls",
          "model_name": "HTMLModel",
          "model_module_version": "1.5.0",
          "state": {
            "_dom_classes": [],
            "_model_module": "@jupyter-widgets/controls",
            "_model_module_version": "1.5.0",
            "_model_name": "HTMLModel",
            "_view_count": null,
            "_view_module": "@jupyter-widgets/controls",
            "_view_module_version": "1.5.0",
            "_view_name": "HTMLView",
            "description": "",
            "description_tooltip": null,
            "layout": "IPY_MODEL_ecd1523cb7f94c96bbf2995b20cfe717",
            "placeholder": "​",
            "style": "IPY_MODEL_be7b10ec05eb413c9e46e55379e7c88e",
            "value": "tokenizer.json: 100%"
          }
        },
        "18623c0e6302429b8d1eb2be58e3cb8c": {
          "model_module": "@jupyter-widgets/controls",
          "model_name": "FloatProgressModel",
          "model_module_version": "1.5.0",
          "state": {
            "_dom_classes": [],
            "_model_module": "@jupyter-widgets/controls",
            "_model_module_version": "1.5.0",
            "_model_name": "FloatProgressModel",
            "_view_count": null,
            "_view_module": "@jupyter-widgets/controls",
            "_view_module_version": "1.5.0",
            "_view_name": "ProgressView",
            "bar_style": "success",
            "description": "",
            "description_tooltip": null,
            "layout": "IPY_MODEL_96d6be914d644d3b9a991852564927ab",
            "max": 466247,
            "min": 0,
            "orientation": "horizontal",
            "style": "IPY_MODEL_26d1a80a12b74511ae8994e795eced4a",
            "value": 466247
          }
        },
        "99bce71e52274cb6aedfa6d79a76fee7": {
          "model_module": "@jupyter-widgets/controls",
          "model_name": "HTMLModel",
          "model_module_version": "1.5.0",
          "state": {
            "_dom_classes": [],
            "_model_module": "@jupyter-widgets/controls",
            "_model_module_version": "1.5.0",
            "_model_name": "HTMLModel",
            "_view_count": null,
            "_view_module": "@jupyter-widgets/controls",
            "_view_module_version": "1.5.0",
            "_view_name": "HTMLView",
            "description": "",
            "description_tooltip": null,
            "layout": "IPY_MODEL_e3cd9cb8f241406fafb8a69d5880e09b",
            "placeholder": "​",
            "style": "IPY_MODEL_a7d3cdc28c634962998db64b7b7cbe4a",
            "value": " 466k/466k [00:00&lt;00:00, 13.4MB/s]"
          }
        },
        "00124513567c4da9ae66234b213dd34c": {
          "model_module": "@jupyter-widgets/base",
          "model_name": "LayoutModel",
          "model_module_version": "1.2.0",
          "state": {
            "_model_module": "@jupyter-widgets/base",
            "_model_module_version": "1.2.0",
            "_model_name": "LayoutModel",
            "_view_count": null,
            "_view_module": "@jupyter-widgets/base",
            "_view_module_version": "1.2.0",
            "_view_name": "LayoutView",
            "align_content": null,
            "align_items": null,
            "align_self": null,
            "border": null,
            "bottom": null,
            "display": null,
            "flex": null,
            "flex_flow": null,
            "grid_area": null,
            "grid_auto_columns": null,
            "grid_auto_flow": null,
            "grid_auto_rows": null,
            "grid_column": null,
            "grid_gap": null,
            "grid_row": null,
            "grid_template_areas": null,
            "grid_template_columns": null,
            "grid_template_rows": null,
            "height": null,
            "justify_content": null,
            "justify_items": null,
            "left": null,
            "margin": null,
            "max_height": null,
            "max_width": null,
            "min_height": null,
            "min_width": null,
            "object_fit": null,
            "object_position": null,
            "order": null,
            "overflow": null,
            "overflow_x": null,
            "overflow_y": null,
            "padding": null,
            "right": null,
            "top": null,
            "visibility": null,
            "width": null
          }
        },
        "ecd1523cb7f94c96bbf2995b20cfe717": {
          "model_module": "@jupyter-widgets/base",
          "model_name": "LayoutModel",
          "model_module_version": "1.2.0",
          "state": {
            "_model_module": "@jupyter-widgets/base",
            "_model_module_version": "1.2.0",
            "_model_name": "LayoutModel",
            "_view_count": null,
            "_view_module": "@jupyter-widgets/base",
            "_view_module_version": "1.2.0",
            "_view_name": "LayoutView",
            "align_content": null,
            "align_items": null,
            "align_self": null,
            "border": null,
            "bottom": null,
            "display": null,
            "flex": null,
            "flex_flow": null,
            "grid_area": null,
            "grid_auto_columns": null,
            "grid_auto_flow": null,
            "grid_auto_rows": null,
            "grid_column": null,
            "grid_gap": null,
            "grid_row": null,
            "grid_template_areas": null,
            "grid_template_columns": null,
            "grid_template_rows": null,
            "height": null,
            "justify_content": null,
            "justify_items": null,
            "left": null,
            "margin": null,
            "max_height": null,
            "max_width": null,
            "min_height": null,
            "min_width": null,
            "object_fit": null,
            "object_position": null,
            "order": null,
            "overflow": null,
            "overflow_x": null,
            "overflow_y": null,
            "padding": null,
            "right": null,
            "top": null,
            "visibility": null,
            "width": null
          }
        },
        "be7b10ec05eb413c9e46e55379e7c88e": {
          "model_module": "@jupyter-widgets/controls",
          "model_name": "DescriptionStyleModel",
          "model_module_version": "1.5.0",
          "state": {
            "_model_module": "@jupyter-widgets/controls",
            "_model_module_version": "1.5.0",
            "_model_name": "DescriptionStyleModel",
            "_view_count": null,
            "_view_module": "@jupyter-widgets/base",
            "_view_module_version": "1.2.0",
            "_view_name": "StyleView",
            "description_width": ""
          }
        },
        "96d6be914d644d3b9a991852564927ab": {
          "model_module": "@jupyter-widgets/base",
          "model_name": "LayoutModel",
          "model_module_version": "1.2.0",
          "state": {
            "_model_module": "@jupyter-widgets/base",
            "_model_module_version": "1.2.0",
            "_model_name": "LayoutModel",
            "_view_count": null,
            "_view_module": "@jupyter-widgets/base",
            "_view_module_version": "1.2.0",
            "_view_name": "LayoutView",
            "align_content": null,
            "align_items": null,
            "align_self": null,
            "border": null,
            "bottom": null,
            "display": null,
            "flex": null,
            "flex_flow": null,
            "grid_area": null,
            "grid_auto_columns": null,
            "grid_auto_flow": null,
            "grid_auto_rows": null,
            "grid_column": null,
            "grid_gap": null,
            "grid_row": null,
            "grid_template_areas": null,
            "grid_template_columns": null,
            "grid_template_rows": null,
            "height": null,
            "justify_content": null,
            "justify_items": null,
            "left": null,
            "margin": null,
            "max_height": null,
            "max_width": null,
            "min_height": null,
            "min_width": null,
            "object_fit": null,
            "object_position": null,
            "order": null,
            "overflow": null,
            "overflow_x": null,
            "overflow_y": null,
            "padding": null,
            "right": null,
            "top": null,
            "visibility": null,
            "width": null
          }
        },
        "26d1a80a12b74511ae8994e795eced4a": {
          "model_module": "@jupyter-widgets/controls",
          "model_name": "ProgressStyleModel",
          "model_module_version": "1.5.0",
          "state": {
            "_model_module": "@jupyter-widgets/controls",
            "_model_module_version": "1.5.0",
            "_model_name": "ProgressStyleModel",
            "_view_count": null,
            "_view_module": "@jupyter-widgets/base",
            "_view_module_version": "1.2.0",
            "_view_name": "StyleView",
            "bar_color": null,
            "description_width": ""
          }
        },
        "e3cd9cb8f241406fafb8a69d5880e09b": {
          "model_module": "@jupyter-widgets/base",
          "model_name": "LayoutModel",
          "model_module_version": "1.2.0",
          "state": {
            "_model_module": "@jupyter-widgets/base",
            "_model_module_version": "1.2.0",
            "_model_name": "LayoutModel",
            "_view_count": null,
            "_view_module": "@jupyter-widgets/base",
            "_view_module_version": "1.2.0",
            "_view_name": "LayoutView",
            "align_content": null,
            "align_items": null,
            "align_self": null,
            "border": null,
            "bottom": null,
            "display": null,
            "flex": null,
            "flex_flow": null,
            "grid_area": null,
            "grid_auto_columns": null,
            "grid_auto_flow": null,
            "grid_auto_rows": null,
            "grid_column": null,
            "grid_gap": null,
            "grid_row": null,
            "grid_template_areas": null,
            "grid_template_columns": null,
            "grid_template_rows": null,
            "height": null,
            "justify_content": null,
            "justify_items": null,
            "left": null,
            "margin": null,
            "max_height": null,
            "max_width": null,
            "min_height": null,
            "min_width": null,
            "object_fit": null,
            "object_position": null,
            "order": null,
            "overflow": null,
            "overflow_x": null,
            "overflow_y": null,
            "padding": null,
            "right": null,
            "top": null,
            "visibility": null,
            "width": null
          }
        },
        "a7d3cdc28c634962998db64b7b7cbe4a": {
          "model_module": "@jupyter-widgets/controls",
          "model_name": "DescriptionStyleModel",
          "model_module_version": "1.5.0",
          "state": {
            "_model_module": "@jupyter-widgets/controls",
            "_model_module_version": "1.5.0",
            "_model_name": "DescriptionStyleModel",
            "_view_count": null,
            "_view_module": "@jupyter-widgets/base",
            "_view_module_version": "1.2.0",
            "_view_name": "StyleView",
            "description_width": ""
          }
        },
        "8bf5a3239c4943acab02955f1cce3dfd": {
          "model_module": "@jupyter-widgets/controls",
          "model_name": "HBoxModel",
          "model_module_version": "1.5.0",
          "state": {
            "_dom_classes": [],
            "_model_module": "@jupyter-widgets/controls",
            "_model_module_version": "1.5.0",
            "_model_name": "HBoxModel",
            "_view_count": null,
            "_view_module": "@jupyter-widgets/controls",
            "_view_module_version": "1.5.0",
            "_view_name": "HBoxView",
            "box_style": "",
            "children": [
              "IPY_MODEL_588c55cb8b52497a841f2d7a616edb29",
              "IPY_MODEL_3f3168086226469a92d9e76448bf3c60",
              "IPY_MODEL_d439747384874616a128bf8fd229fe5f"
            ],
            "layout": "IPY_MODEL_3653554a4ae14b8496a9bb663955c166"
          }
        },
        "588c55cb8b52497a841f2d7a616edb29": {
          "model_module": "@jupyter-widgets/controls",
          "model_name": "HTMLModel",
          "model_module_version": "1.5.0",
          "state": {
            "_dom_classes": [],
            "_model_module": "@jupyter-widgets/controls",
            "_model_module_version": "1.5.0",
            "_model_name": "HTMLModel",
            "_view_count": null,
            "_view_module": "@jupyter-widgets/controls",
            "_view_module_version": "1.5.0",
            "_view_name": "HTMLView",
            "description": "",
            "description_tooltip": null,
            "layout": "IPY_MODEL_133c4e5cbb434065baa28298a43fb83e",
            "placeholder": "​",
            "style": "IPY_MODEL_c8548a5ffdd54a448d2044c4679a399c",
            "value": "special_tokens_map.json: 100%"
          }
        },
        "3f3168086226469a92d9e76448bf3c60": {
          "model_module": "@jupyter-widgets/controls",
          "model_name": "FloatProgressModel",
          "model_module_version": "1.5.0",
          "state": {
            "_dom_classes": [],
            "_model_module": "@jupyter-widgets/controls",
            "_model_module_version": "1.5.0",
            "_model_name": "FloatProgressModel",
            "_view_count": null,
            "_view_module": "@jupyter-widgets/controls",
            "_view_module_version": "1.5.0",
            "_view_name": "ProgressView",
            "bar_style": "success",
            "description": "",
            "description_tooltip": null,
            "layout": "IPY_MODEL_269dbe6b6dc5451fae34f381344102b8",
            "max": 112,
            "min": 0,
            "orientation": "horizontal",
            "style": "IPY_MODEL_cc424e8244934584945ab2cff9181a75",
            "value": 112
          }
        },
        "d439747384874616a128bf8fd229fe5f": {
          "model_module": "@jupyter-widgets/controls",
          "model_name": "HTMLModel",
          "model_module_version": "1.5.0",
          "state": {
            "_dom_classes": [],
            "_model_module": "@jupyter-widgets/controls",
            "_model_module_version": "1.5.0",
            "_model_name": "HTMLModel",
            "_view_count": null,
            "_view_module": "@jupyter-widgets/controls",
            "_view_module_version": "1.5.0",
            "_view_name": "HTMLView",
            "description": "",
            "description_tooltip": null,
            "layout": "IPY_MODEL_0c38d9b73b2b4f7eb3b0966c327c0493",
            "placeholder": "​",
            "style": "IPY_MODEL_9922045c4b5c47b3b1db9ee644109289",
            "value": " 112/112 [00:00&lt;00:00, 3.06kB/s]"
          }
        },
        "3653554a4ae14b8496a9bb663955c166": {
          "model_module": "@jupyter-widgets/base",
          "model_name": "LayoutModel",
          "model_module_version": "1.2.0",
          "state": {
            "_model_module": "@jupyter-widgets/base",
            "_model_module_version": "1.2.0",
            "_model_name": "LayoutModel",
            "_view_count": null,
            "_view_module": "@jupyter-widgets/base",
            "_view_module_version": "1.2.0",
            "_view_name": "LayoutView",
            "align_content": null,
            "align_items": null,
            "align_self": null,
            "border": null,
            "bottom": null,
            "display": null,
            "flex": null,
            "flex_flow": null,
            "grid_area": null,
            "grid_auto_columns": null,
            "grid_auto_flow": null,
            "grid_auto_rows": null,
            "grid_column": null,
            "grid_gap": null,
            "grid_row": null,
            "grid_template_areas": null,
            "grid_template_columns": null,
            "grid_template_rows": null,
            "height": null,
            "justify_content": null,
            "justify_items": null,
            "left": null,
            "margin": null,
            "max_height": null,
            "max_width": null,
            "min_height": null,
            "min_width": null,
            "object_fit": null,
            "object_position": null,
            "order": null,
            "overflow": null,
            "overflow_x": null,
            "overflow_y": null,
            "padding": null,
            "right": null,
            "top": null,
            "visibility": null,
            "width": null
          }
        },
        "133c4e5cbb434065baa28298a43fb83e": {
          "model_module": "@jupyter-widgets/base",
          "model_name": "LayoutModel",
          "model_module_version": "1.2.0",
          "state": {
            "_model_module": "@jupyter-widgets/base",
            "_model_module_version": "1.2.0",
            "_model_name": "LayoutModel",
            "_view_count": null,
            "_view_module": "@jupyter-widgets/base",
            "_view_module_version": "1.2.0",
            "_view_name": "LayoutView",
            "align_content": null,
            "align_items": null,
            "align_self": null,
            "border": null,
            "bottom": null,
            "display": null,
            "flex": null,
            "flex_flow": null,
            "grid_area": null,
            "grid_auto_columns": null,
            "grid_auto_flow": null,
            "grid_auto_rows": null,
            "grid_column": null,
            "grid_gap": null,
            "grid_row": null,
            "grid_template_areas": null,
            "grid_template_columns": null,
            "grid_template_rows": null,
            "height": null,
            "justify_content": null,
            "justify_items": null,
            "left": null,
            "margin": null,
            "max_height": null,
            "max_width": null,
            "min_height": null,
            "min_width": null,
            "object_fit": null,
            "object_position": null,
            "order": null,
            "overflow": null,
            "overflow_x": null,
            "overflow_y": null,
            "padding": null,
            "right": null,
            "top": null,
            "visibility": null,
            "width": null
          }
        },
        "c8548a5ffdd54a448d2044c4679a399c": {
          "model_module": "@jupyter-widgets/controls",
          "model_name": "DescriptionStyleModel",
          "model_module_version": "1.5.0",
          "state": {
            "_model_module": "@jupyter-widgets/controls",
            "_model_module_version": "1.5.0",
            "_model_name": "DescriptionStyleModel",
            "_view_count": null,
            "_view_module": "@jupyter-widgets/base",
            "_view_module_version": "1.2.0",
            "_view_name": "StyleView",
            "description_width": ""
          }
        },
        "269dbe6b6dc5451fae34f381344102b8": {
          "model_module": "@jupyter-widgets/base",
          "model_name": "LayoutModel",
          "model_module_version": "1.2.0",
          "state": {
            "_model_module": "@jupyter-widgets/base",
            "_model_module_version": "1.2.0",
            "_model_name": "LayoutModel",
            "_view_count": null,
            "_view_module": "@jupyter-widgets/base",
            "_view_module_version": "1.2.0",
            "_view_name": "LayoutView",
            "align_content": null,
            "align_items": null,
            "align_self": null,
            "border": null,
            "bottom": null,
            "display": null,
            "flex": null,
            "flex_flow": null,
            "grid_area": null,
            "grid_auto_columns": null,
            "grid_auto_flow": null,
            "grid_auto_rows": null,
            "grid_column": null,
            "grid_gap": null,
            "grid_row": null,
            "grid_template_areas": null,
            "grid_template_columns": null,
            "grid_template_rows": null,
            "height": null,
            "justify_content": null,
            "justify_items": null,
            "left": null,
            "margin": null,
            "max_height": null,
            "max_width": null,
            "min_height": null,
            "min_width": null,
            "object_fit": null,
            "object_position": null,
            "order": null,
            "overflow": null,
            "overflow_x": null,
            "overflow_y": null,
            "padding": null,
            "right": null,
            "top": null,
            "visibility": null,
            "width": null
          }
        },
        "cc424e8244934584945ab2cff9181a75": {
          "model_module": "@jupyter-widgets/controls",
          "model_name": "ProgressStyleModel",
          "model_module_version": "1.5.0",
          "state": {
            "_model_module": "@jupyter-widgets/controls",
            "_model_module_version": "1.5.0",
            "_model_name": "ProgressStyleModel",
            "_view_count": null,
            "_view_module": "@jupyter-widgets/base",
            "_view_module_version": "1.2.0",
            "_view_name": "StyleView",
            "bar_color": null,
            "description_width": ""
          }
        },
        "0c38d9b73b2b4f7eb3b0966c327c0493": {
          "model_module": "@jupyter-widgets/base",
          "model_name": "LayoutModel",
          "model_module_version": "1.2.0",
          "state": {
            "_model_module": "@jupyter-widgets/base",
            "_model_module_version": "1.2.0",
            "_model_name": "LayoutModel",
            "_view_count": null,
            "_view_module": "@jupyter-widgets/base",
            "_view_module_version": "1.2.0",
            "_view_name": "LayoutView",
            "align_content": null,
            "align_items": null,
            "align_self": null,
            "border": null,
            "bottom": null,
            "display": null,
            "flex": null,
            "flex_flow": null,
            "grid_area": null,
            "grid_auto_columns": null,
            "grid_auto_flow": null,
            "grid_auto_rows": null,
            "grid_column": null,
            "grid_gap": null,
            "grid_row": null,
            "grid_template_areas": null,
            "grid_template_columns": null,
            "grid_template_rows": null,
            "height": null,
            "justify_content": null,
            "justify_items": null,
            "left": null,
            "margin": null,
            "max_height": null,
            "max_width": null,
            "min_height": null,
            "min_width": null,
            "object_fit": null,
            "object_position": null,
            "order": null,
            "overflow": null,
            "overflow_x": null,
            "overflow_y": null,
            "padding": null,
            "right": null,
            "top": null,
            "visibility": null,
            "width": null
          }
        },
        "9922045c4b5c47b3b1db9ee644109289": {
          "model_module": "@jupyter-widgets/controls",
          "model_name": "DescriptionStyleModel",
          "model_module_version": "1.5.0",
          "state": {
            "_model_module": "@jupyter-widgets/controls",
            "_model_module_version": "1.5.0",
            "_model_name": "DescriptionStyleModel",
            "_view_count": null,
            "_view_module": "@jupyter-widgets/base",
            "_view_module_version": "1.2.0",
            "_view_name": "StyleView",
            "description_width": ""
          }
        },
        "441069f2b0b340568a5d268ba1c1782c": {
          "model_module": "@jupyter-widgets/controls",
          "model_name": "HBoxModel",
          "model_module_version": "1.5.0",
          "state": {
            "_dom_classes": [],
            "_model_module": "@jupyter-widgets/controls",
            "_model_module_version": "1.5.0",
            "_model_name": "HBoxModel",
            "_view_count": null,
            "_view_module": "@jupyter-widgets/controls",
            "_view_module_version": "1.5.0",
            "_view_name": "HBoxView",
            "box_style": "",
            "children": [
              "IPY_MODEL_a6792215e8984836bebceda7cdcfe6ef",
              "IPY_MODEL_7e3ec96f7a974547b4d3196bf2cf0ad6",
              "IPY_MODEL_844e03e235e44f688efe212e4776dde3"
            ],
            "layout": "IPY_MODEL_0c941682259c4c0ca08fc20b91b6d455"
          }
        },
        "a6792215e8984836bebceda7cdcfe6ef": {
          "model_module": "@jupyter-widgets/controls",
          "model_name": "HTMLModel",
          "model_module_version": "1.5.0",
          "state": {
            "_dom_classes": [],
            "_model_module": "@jupyter-widgets/controls",
            "_model_module_version": "1.5.0",
            "_model_name": "HTMLModel",
            "_view_count": null,
            "_view_module": "@jupyter-widgets/controls",
            "_view_module_version": "1.5.0",
            "_view_name": "HTMLView",
            "description": "",
            "description_tooltip": null,
            "layout": "IPY_MODEL_c26c1a83fa46416dbeaecdd6a2ddd2b0",
            "placeholder": "​",
            "style": "IPY_MODEL_d28b1aee42c6486abc20ea6ddb79f10c",
            "value": "1_Pooling/config.json: 100%"
          }
        },
        "7e3ec96f7a974547b4d3196bf2cf0ad6": {
          "model_module": "@jupyter-widgets/controls",
          "model_name": "FloatProgressModel",
          "model_module_version": "1.5.0",
          "state": {
            "_dom_classes": [],
            "_model_module": "@jupyter-widgets/controls",
            "_model_module_version": "1.5.0",
            "_model_name": "FloatProgressModel",
            "_view_count": null,
            "_view_module": "@jupyter-widgets/controls",
            "_view_module_version": "1.5.0",
            "_view_name": "ProgressView",
            "bar_style": "success",
            "description": "",
            "description_tooltip": null,
            "layout": "IPY_MODEL_f23dbb3182504dfa83f9fd63fbbbd745",
            "max": 190,
            "min": 0,
            "orientation": "horizontal",
            "style": "IPY_MODEL_779e4667ece94dacb8f922608efb3ef5",
            "value": 190
          }
        },
        "844e03e235e44f688efe212e4776dde3": {
          "model_module": "@jupyter-widgets/controls",
          "model_name": "HTMLModel",
          "model_module_version": "1.5.0",
          "state": {
            "_dom_classes": [],
            "_model_module": "@jupyter-widgets/controls",
            "_model_module_version": "1.5.0",
            "_model_name": "HTMLModel",
            "_view_count": null,
            "_view_module": "@jupyter-widgets/controls",
            "_view_module_version": "1.5.0",
            "_view_name": "HTMLView",
            "description": "",
            "description_tooltip": null,
            "layout": "IPY_MODEL_b0f09fa560b34170ae2a3ebebd718eae",
            "placeholder": "​",
            "style": "IPY_MODEL_561e850a6f1c41ec9938ed9f1f3f7179",
            "value": " 190/190 [00:00&lt;00:00, 9.74kB/s]"
          }
        },
        "0c941682259c4c0ca08fc20b91b6d455": {
          "model_module": "@jupyter-widgets/base",
          "model_name": "LayoutModel",
          "model_module_version": "1.2.0",
          "state": {
            "_model_module": "@jupyter-widgets/base",
            "_model_module_version": "1.2.0",
            "_model_name": "LayoutModel",
            "_view_count": null,
            "_view_module": "@jupyter-widgets/base",
            "_view_module_version": "1.2.0",
            "_view_name": "LayoutView",
            "align_content": null,
            "align_items": null,
            "align_self": null,
            "border": null,
            "bottom": null,
            "display": null,
            "flex": null,
            "flex_flow": null,
            "grid_area": null,
            "grid_auto_columns": null,
            "grid_auto_flow": null,
            "grid_auto_rows": null,
            "grid_column": null,
            "grid_gap": null,
            "grid_row": null,
            "grid_template_areas": null,
            "grid_template_columns": null,
            "grid_template_rows": null,
            "height": null,
            "justify_content": null,
            "justify_items": null,
            "left": null,
            "margin": null,
            "max_height": null,
            "max_width": null,
            "min_height": null,
            "min_width": null,
            "object_fit": null,
            "object_position": null,
            "order": null,
            "overflow": null,
            "overflow_x": null,
            "overflow_y": null,
            "padding": null,
            "right": null,
            "top": null,
            "visibility": null,
            "width": null
          }
        },
        "c26c1a83fa46416dbeaecdd6a2ddd2b0": {
          "model_module": "@jupyter-widgets/base",
          "model_name": "LayoutModel",
          "model_module_version": "1.2.0",
          "state": {
            "_model_module": "@jupyter-widgets/base",
            "_model_module_version": "1.2.0",
            "_model_name": "LayoutModel",
            "_view_count": null,
            "_view_module": "@jupyter-widgets/base",
            "_view_module_version": "1.2.0",
            "_view_name": "LayoutView",
            "align_content": null,
            "align_items": null,
            "align_self": null,
            "border": null,
            "bottom": null,
            "display": null,
            "flex": null,
            "flex_flow": null,
            "grid_area": null,
            "grid_auto_columns": null,
            "grid_auto_flow": null,
            "grid_auto_rows": null,
            "grid_column": null,
            "grid_gap": null,
            "grid_row": null,
            "grid_template_areas": null,
            "grid_template_columns": null,
            "grid_template_rows": null,
            "height": null,
            "justify_content": null,
            "justify_items": null,
            "left": null,
            "margin": null,
            "max_height": null,
            "max_width": null,
            "min_height": null,
            "min_width": null,
            "object_fit": null,
            "object_position": null,
            "order": null,
            "overflow": null,
            "overflow_x": null,
            "overflow_y": null,
            "padding": null,
            "right": null,
            "top": null,
            "visibility": null,
            "width": null
          }
        },
        "d28b1aee42c6486abc20ea6ddb79f10c": {
          "model_module": "@jupyter-widgets/controls",
          "model_name": "DescriptionStyleModel",
          "model_module_version": "1.5.0",
          "state": {
            "_model_module": "@jupyter-widgets/controls",
            "_model_module_version": "1.5.0",
            "_model_name": "DescriptionStyleModel",
            "_view_count": null,
            "_view_module": "@jupyter-widgets/base",
            "_view_module_version": "1.2.0",
            "_view_name": "StyleView",
            "description_width": ""
          }
        },
        "f23dbb3182504dfa83f9fd63fbbbd745": {
          "model_module": "@jupyter-widgets/base",
          "model_name": "LayoutModel",
          "model_module_version": "1.2.0",
          "state": {
            "_model_module": "@jupyter-widgets/base",
            "_model_module_version": "1.2.0",
            "_model_name": "LayoutModel",
            "_view_count": null,
            "_view_module": "@jupyter-widgets/base",
            "_view_module_version": "1.2.0",
            "_view_name": "LayoutView",
            "align_content": null,
            "align_items": null,
            "align_self": null,
            "border": null,
            "bottom": null,
            "display": null,
            "flex": null,
            "flex_flow": null,
            "grid_area": null,
            "grid_auto_columns": null,
            "grid_auto_flow": null,
            "grid_auto_rows": null,
            "grid_column": null,
            "grid_gap": null,
            "grid_row": null,
            "grid_template_areas": null,
            "grid_template_columns": null,
            "grid_template_rows": null,
            "height": null,
            "justify_content": null,
            "justify_items": null,
            "left": null,
            "margin": null,
            "max_height": null,
            "max_width": null,
            "min_height": null,
            "min_width": null,
            "object_fit": null,
            "object_position": null,
            "order": null,
            "overflow": null,
            "overflow_x": null,
            "overflow_y": null,
            "padding": null,
            "right": null,
            "top": null,
            "visibility": null,
            "width": null
          }
        },
        "779e4667ece94dacb8f922608efb3ef5": {
          "model_module": "@jupyter-widgets/controls",
          "model_name": "ProgressStyleModel",
          "model_module_version": "1.5.0",
          "state": {
            "_model_module": "@jupyter-widgets/controls",
            "_model_module_version": "1.5.0",
            "_model_name": "ProgressStyleModel",
            "_view_count": null,
            "_view_module": "@jupyter-widgets/base",
            "_view_module_version": "1.2.0",
            "_view_name": "StyleView",
            "bar_color": null,
            "description_width": ""
          }
        },
        "b0f09fa560b34170ae2a3ebebd718eae": {
          "model_module": "@jupyter-widgets/base",
          "model_name": "LayoutModel",
          "model_module_version": "1.2.0",
          "state": {
            "_model_module": "@jupyter-widgets/base",
            "_model_module_version": "1.2.0",
            "_model_name": "LayoutModel",
            "_view_count": null,
            "_view_module": "@jupyter-widgets/base",
            "_view_module_version": "1.2.0",
            "_view_name": "LayoutView",
            "align_content": null,
            "align_items": null,
            "align_self": null,
            "border": null,
            "bottom": null,
            "display": null,
            "flex": null,
            "flex_flow": null,
            "grid_area": null,
            "grid_auto_columns": null,
            "grid_auto_flow": null,
            "grid_auto_rows": null,
            "grid_column": null,
            "grid_gap": null,
            "grid_row": null,
            "grid_template_areas": null,
            "grid_template_columns": null,
            "grid_template_rows": null,
            "height": null,
            "justify_content": null,
            "justify_items": null,
            "left": null,
            "margin": null,
            "max_height": null,
            "max_width": null,
            "min_height": null,
            "min_width": null,
            "object_fit": null,
            "object_position": null,
            "order": null,
            "overflow": null,
            "overflow_x": null,
            "overflow_y": null,
            "padding": null,
            "right": null,
            "top": null,
            "visibility": null,
            "width": null
          }
        },
        "561e850a6f1c41ec9938ed9f1f3f7179": {
          "model_module": "@jupyter-widgets/controls",
          "model_name": "DescriptionStyleModel",
          "model_module_version": "1.5.0",
          "state": {
            "_model_module": "@jupyter-widgets/controls",
            "_model_module_version": "1.5.0",
            "_model_name": "DescriptionStyleModel",
            "_view_count": null,
            "_view_module": "@jupyter-widgets/base",
            "_view_module_version": "1.2.0",
            "_view_name": "StyleView",
            "description_width": ""
          }
        }
      }
    }
  },
  "cells": [
    {
      "cell_type": "markdown",
      "source": [
        "Autor: Daniel Flores"
      ],
      "metadata": {
        "id": "8f-kRTYEIK6y"
      }
    },
    {
      "cell_type": "markdown",
      "source": [
        "# Librerías"
      ],
      "metadata": {
        "id": "kzx0ASpT7PG0"
      }
    },
    {
      "cell_type": "code",
      "execution_count": null,
      "metadata": {
        "id": "fPxWHEjrTfcN",
        "colab": {
          "base_uri": "https://localhost:8080/"
        },
        "outputId": "2bd507ef-d910-4867-c424-82c02d549a7d"
      },
      "outputs": [
        {
          "output_type": "stream",
          "name": "stdout",
          "text": [
            "\u001b[?25l   \u001b[90m━━━━━━━━━━━━━━━━━━━━━━━━━━━━━━━━━━━━━━━━\u001b[0m \u001b[32m0.0/41.3 kB\u001b[0m \u001b[31m?\u001b[0m eta \u001b[36m-:--:--\u001b[0m\r\u001b[2K   \u001b[91m━━━━━━━━━━━━━━━━━━━━━━━━━━━━━━━━━━━━━━━\u001b[0m\u001b[91m╸\u001b[0m \u001b[32m41.0/41.3 kB\u001b[0m \u001b[31m6.4 MB/s\u001b[0m eta \u001b[36m0:00:01\u001b[0m\r\u001b[2K   \u001b[90m━━━━━━━━━━━━━━━━━━━━━━━━━━━━━━━━━━━━━━━━\u001b[0m \u001b[32m41.3/41.3 kB\u001b[0m \u001b[31m716.4 kB/s\u001b[0m eta \u001b[36m0:00:00\u001b[0m\n",
            "\u001b[?25h"
          ]
        }
      ],
      "source": [
        "!pip -q install langchain-google-genai"
      ]
    },
    {
      "cell_type": "code",
      "source": [
        "!pip -q install langchain-huggingface"
      ],
      "metadata": {
        "id": "ohB3fp4m7OIv"
      },
      "execution_count": null,
      "outputs": []
    },
    {
      "cell_type": "code",
      "source": [
        "!pip -q install langchain-pinecone"
      ],
      "metadata": {
        "id": "tG7HIA-x7STf",
        "colab": {
          "base_uri": "https://localhost:8080/"
        },
        "outputId": "b508924a-a233-4f3f-f29a-1881a4544bc2"
      },
      "execution_count": null,
      "outputs": [
        {
          "output_type": "stream",
          "name": "stdout",
          "text": [
            "\u001b[?25l   \u001b[90m━━━━━━━━━━━━━━━━━━━━━━━━━━━━━━━━━━━━━━━━\u001b[0m \u001b[32m0.0/1.2 MB\u001b[0m \u001b[31m?\u001b[0m eta \u001b[36m-:--:--\u001b[0m\r\u001b[2K   \u001b[91m━━━━━━━━━━━━━━━━━━━━━━━━━━━━━━━━━━━━━━━\u001b[0m\u001b[91m╸\u001b[0m \u001b[32m1.2/1.2 MB\u001b[0m \u001b[31m41.1 MB/s\u001b[0m eta \u001b[36m0:00:01\u001b[0m\r\u001b[2K   \u001b[90m━━━━━━━━━━━━━━━━━━━━━━━━━━━━━━━━━━━━━━━━\u001b[0m \u001b[32m1.2/1.2 MB\u001b[0m \u001b[31m22.9 MB/s\u001b[0m eta \u001b[36m0:00:00\u001b[0m\n",
            "\u001b[?25h\u001b[?25l   \u001b[90m━━━━━━━━━━━━━━━━━━━━━━━━━━━━━━━━━━━━━━━━\u001b[0m \u001b[32m0.0/244.8 kB\u001b[0m \u001b[31m?\u001b[0m eta \u001b[36m-:--:--\u001b[0m\r\u001b[2K   \u001b[90m━━━━━━━━━━━━━━━━━━━━━━━━━━━━━━━━━━━━━━━━\u001b[0m \u001b[32m244.8/244.8 kB\u001b[0m \u001b[31m15.8 MB/s\u001b[0m eta \u001b[36m0:00:00\u001b[0m\n",
            "\u001b[?25h\u001b[?25l   \u001b[90m━━━━━━━━━━━━━━━━━━━━━━━━━━━━━━━━━━━━━━━━\u001b[0m \u001b[32m0.0/85.4 kB\u001b[0m \u001b[31m?\u001b[0m eta \u001b[36m-:--:--\u001b[0m\r\u001b[2K   \u001b[90m━━━━━━━━━━━━━━━━━━━━━━━━━━━━━━━━━━━━━━━━\u001b[0m \u001b[32m85.4/85.4 kB\u001b[0m \u001b[31m5.7 MB/s\u001b[0m eta \u001b[36m0:00:00\u001b[0m\n",
            "\u001b[?25h"
          ]
        }
      ]
    },
    {
      "cell_type": "code",
      "source": [
        "!pip -q install langchain_community pypdf"
      ],
      "metadata": {
        "colab": {
          "base_uri": "https://localhost:8080/"
        },
        "id": "-HK9oUL2aVtl",
        "outputId": "0dff57c3-efe7-4a1d-93b9-407031badfef"
      },
      "execution_count": null,
      "outputs": [
        {
          "output_type": "stream",
          "name": "stdout",
          "text": [
            "\u001b[?25l   \u001b[90m━━━━━━━━━━━━━━━━━━━━━━━━━━━━━━━━━━━━━━━━\u001b[0m \u001b[32m0.0/2.5 MB\u001b[0m \u001b[31m?\u001b[0m eta \u001b[36m-:--:--\u001b[0m\r\u001b[2K   \u001b[91m━━━━━━━━━━━\u001b[0m\u001b[91m╸\u001b[0m\u001b[90m━━━━━━━━━━━━━━━━━━━━━━━━━━━━\u001b[0m \u001b[32m0.7/2.5 MB\u001b[0m \u001b[31m22.1 MB/s\u001b[0m eta \u001b[36m0:00:01\u001b[0m\r\u001b[2K   \u001b[91m━━━━━━━━━━━━━━━━━━━━━━━━━━━━━━━━━━━━━━━\u001b[0m\u001b[91m╸\u001b[0m \u001b[32m2.5/2.5 MB\u001b[0m \u001b[31m42.4 MB/s\u001b[0m eta \u001b[36m0:00:01\u001b[0m\r\u001b[2K   \u001b[90m━━━━━━━━━━━━━━━━━━━━━━━━━━━━━━━━━━━━━━━━\u001b[0m \u001b[32m2.5/2.5 MB\u001b[0m \u001b[31m26.0 MB/s\u001b[0m eta \u001b[36m0:00:00\u001b[0m\n",
            "\u001b[2K   \u001b[90m━━━━━━━━━━━━━━━━━━━━━━━━━━━━━━━━━━━━━━━━\u001b[0m \u001b[32m298.0/298.0 kB\u001b[0m \u001b[31m11.4 MB/s\u001b[0m eta \u001b[36m0:00:00\u001b[0m\n",
            "\u001b[2K   \u001b[90m━━━━━━━━━━━━━━━━━━━━━━━━━━━━━━━━━━━━━━━━\u001b[0m \u001b[32m1.0/1.0 MB\u001b[0m \u001b[31m15.5 MB/s\u001b[0m eta \u001b[36m0:00:00\u001b[0m\n",
            "\u001b[2K   \u001b[90m━━━━━━━━━━━━━━━━━━━━━━━━━━━━━━━━━━━━━━━━\u001b[0m \u001b[32m410.6/410.6 kB\u001b[0m \u001b[31m12.5 MB/s\u001b[0m eta \u001b[36m0:00:00\u001b[0m\n",
            "\u001b[2K   \u001b[90m━━━━━━━━━━━━━━━━━━━━━━━━━━━━━━━━━━━━━━━━\u001b[0m \u001b[32m49.5/49.5 kB\u001b[0m \u001b[31m2.1 MB/s\u001b[0m eta \u001b[36m0:00:00\u001b[0m\n",
            "\u001b[?25h"
          ]
        }
      ]
    },
    {
      "cell_type": "code",
      "source": [
        "!pip -q install pypdf"
      ],
      "metadata": {
        "id": "BKVlKvAKcWt4"
      },
      "execution_count": null,
      "outputs": []
    },
    {
      "cell_type": "markdown",
      "source": [
        "# Credenciales"
      ],
      "metadata": {
        "id": "tZQEJp3FbVOE"
      }
    },
    {
      "cell_type": "code",
      "source": [
        "import os\n",
        "from google.colab import userdata\n",
        "GOOGLE_API_KEY=userdata.get('GEN_TUTOR')\n",
        "# Establecer la clave de API en las variables de entorno\n",
        "os.environ[\"GOOGLE_API_KEY\"] = GOOGLE_API_KEY"
      ],
      "metadata": {
        "id": "cEtSxFPxbWmt"
      },
      "execution_count": null,
      "outputs": []
    },
    {
      "cell_type": "code",
      "source": [
        "import getpass\n",
        "import os\n",
        "import time\n",
        "\n",
        "from pinecone import Pinecone, ServerlessSpec\n",
        "\n",
        "from google.colab import userdata\n",
        "PINECONE_API_KEY=userdata.get('Pinecone')\n",
        "\n",
        "os.environ[\"PINECONE_API_KEY\"] = PINECONE_API_KEY\n",
        "\n",
        "pinecone_api_key = PINECONE_API_KEY\n",
        "\n",
        "pc = Pinecone(api_key=pinecone_api_key)"
      ],
      "metadata": {
        "id": "ZhKaosiGbC-2",
        "colab": {
          "base_uri": "https://localhost:8080/",
          "height": 399
        },
        "outputId": "0e4fb8db-12ff-42cf-ae93-a5f79bcffd62"
      },
      "execution_count": null,
      "outputs": [
        {
          "output_type": "error",
          "ename": "ModuleNotFoundError",
          "evalue": "No module named 'pinecone'",
          "traceback": [
            "\u001b[0;31m---------------------------------------------------------------------------\u001b[0m",
            "\u001b[0;31mModuleNotFoundError\u001b[0m                       Traceback (most recent call last)",
            "\u001b[0;32m<ipython-input-2-4e90a331ea5d>\u001b[0m in \u001b[0;36m<cell line: 5>\u001b[0;34m()\u001b[0m\n\u001b[1;32m      3\u001b[0m \u001b[0;32mimport\u001b[0m \u001b[0mtime\u001b[0m\u001b[0;34m\u001b[0m\u001b[0;34m\u001b[0m\u001b[0m\n\u001b[1;32m      4\u001b[0m \u001b[0;34m\u001b[0m\u001b[0m\n\u001b[0;32m----> 5\u001b[0;31m \u001b[0;32mfrom\u001b[0m \u001b[0mpinecone\u001b[0m \u001b[0;32mimport\u001b[0m \u001b[0mPinecone\u001b[0m\u001b[0;34m,\u001b[0m \u001b[0mServerlessSpec\u001b[0m\u001b[0;34m\u001b[0m\u001b[0;34m\u001b[0m\u001b[0m\n\u001b[0m\u001b[1;32m      6\u001b[0m \u001b[0;34m\u001b[0m\u001b[0m\n\u001b[1;32m      7\u001b[0m \u001b[0;32mfrom\u001b[0m \u001b[0mgoogle\u001b[0m\u001b[0;34m.\u001b[0m\u001b[0mcolab\u001b[0m \u001b[0;32mimport\u001b[0m \u001b[0muserdata\u001b[0m\u001b[0;34m\u001b[0m\u001b[0;34m\u001b[0m\u001b[0m\n",
            "\u001b[0;31mModuleNotFoundError\u001b[0m: No module named 'pinecone'",
            "",
            "\u001b[0;31m---------------------------------------------------------------------------\u001b[0;32m\nNOTE: If your import is failing due to a missing package, you can\nmanually install dependencies using either !pip or !apt.\n\nTo view examples of installing some common dependencies, click the\n\"Open Examples\" button below.\n\u001b[0;31m---------------------------------------------------------------------------\u001b[0m\n"
          ],
          "errorDetails": {
            "actions": [
              {
                "action": "open_url",
                "actionText": "Open Examples",
                "url": "/notebooks/snippets/importing_libraries.ipynb"
              }
            ]
          }
        }
      ]
    },
    {
      "cell_type": "markdown",
      "source": [
        "# Embedding Model\n"
      ],
      "metadata": {
        "id": "_5UtSZrx7OsO"
      }
    },
    {
      "cell_type": "code",
      "source": [
        "from langchain_huggingface import HuggingFaceEmbeddings\n",
        "\n",
        "embeddingsHF = HuggingFaceEmbeddings(model_name=\"sentence-transformers/all-MiniLM-L6-v2\")"
      ],
      "metadata": {
        "colab": {
          "base_uri": "https://localhost:8080/",
          "referenced_widgets": [
            "904a428b044e4c53961bc98c1fda6ce6",
            "c7276eb3921e43618adc96c244ebc0d4",
            "3425a834225144f7bccdcf51db2ed67e",
            "4d45969ce5bd4a69a7473bb5f6db8067",
            "a4112ad24efc491fad56e5478b1f1d97",
            "0643835785824ec789325a040899f0ca",
            "9ba9166851d14442a0eadebac20e910f",
            "49a78f5aaf424995b3e5f35344b1d91c",
            "0e851a41c4b04905afba1e9f7527c9f0",
            "56652c4d6cd942e0bf5f7be03885e3b1",
            "2560fb37adf643f2a77e1c56b6d31551",
            "9ba41807f8f243c29c856f23863e1abf",
            "c06fe8b835614db98314874e1c361069",
            "884a18dbf91540ebb74fe23fdb1f7dcf",
            "c3d7e5bbb4304b0aac30559078ceffeb",
            "8adc76ee3fe343ffa8459480d604a4b5",
            "8b9664bf4432469e84c9194a05d8e5e9",
            "92feb7fa67f44c87a4fcbe6ea8607923",
            "747ffe98ea234be6af0418d946a520d7",
            "df7e3fbefec14167a3e6ef58b4519daa",
            "d052effe2c77416996edf33547eb4eda",
            "238055efcb31411f8874d3629d0c03a9",
            "9e16e5dcc17242fd9b0c2616990725ed",
            "6f61d349574a43afa8a50a0bb236576f",
            "42a6da2552b5408d8e2f1eb99db1704c",
            "c136866a5f3e4cb0becabecdb8adbc71",
            "aa89d30bb914496da6cc85e29f6c3cda",
            "289b9224e7d945a5bf7b48e3c91a83a8",
            "87169c77c91947e58ad6cb7b229e24a8",
            "d1ea46f4b9904667b9cbfdebc6616b9a",
            "6048f1bc3331402ab04f01206072d18d",
            "9d7f5452a05f4bb99c37123f65c9eb82",
            "01aca25d6dd348f4bf62bb0338501c07",
            "528e2c8757594498b622001d2c6a711c",
            "9994b2b2ec5f478fa5dc3802c8c7aa41",
            "04f15b8389ea4b848a7437d3f2932e94",
            "22f2a669de564c5badd26395b3d46273",
            "f73a49dc8b6a45e189d9adce90fa0a8d",
            "e4f535b51bf84aeab5472ffe673867b2",
            "0159403c77b54ef8b6c317a12807280e",
            "7ace2ac665e44a88bcd60fea7efd2a11",
            "00aaf09b439d4eb782174254378d4810",
            "753830e8b96d41c7bb261913c910429b",
            "1596cff057434758ae4fcee257eff11d",
            "2ecc3bb461114e5fb569e4872815fc06",
            "7f098325cf3b4cf99dd8b7e96b58c348",
            "e2f9a6b130254b05aedd2bef10833b5a",
            "fa8ff848e7624e9bbf252058194af055",
            "0830e20baeb84584954f2ec999ae3f10",
            "fa9225a9487c4c4a849047a825ee6f1a",
            "6afe0774529f4c719f9dd9afd7adebc6",
            "ec85c32cf0f74c71a8f1477be350a566",
            "19c4b8bbb7e642aab9c5ca4e87c96ab1",
            "f367351de4a140319d9fb0615ea276ba",
            "bc650b2fc403489fa5abe112862b6d18",
            "0fc06aaf7c4d41e3971389eab026f742",
            "ea2f319ec88541ca9d942a1c006e80d9",
            "fd956a2c1f624563b1e22ab2a78e18cc",
            "f3a59981ac764aa6a9b15b979ecba9b5",
            "d701573deb75407785d72f536fc78174",
            "00165da2fe454dd1b8338b771e89d364",
            "c8309dfc068749e8a91e24597a809a12",
            "25f982aca5454ad6897c3df88598c0e4",
            "e132ecfd64ed4a3da71688020947d1ce",
            "ca55d8bb10e14965b3342bc18e32c0ba",
            "68781fb140a148038b400b480a87123b",
            "6c77d3333cb74be0b319f0f6cfae3677",
            "be2c7f0d19bb483db727fb03f7d99cb5",
            "646e4720d2744c7ba2b87207cf2b4f42",
            "343dbb64d57240f09a3103a51cb8f762",
            "65aaa433201540f796f3aa2c8a63006f",
            "54bb285c29bc4d638f205e15a9ff94f6",
            "709f26ac6bb74809b8babef9f5f53b9f",
            "a46907abb9a749179c80e4f13126b7e9",
            "6f3a05265629440fa4f00b5d096911d8",
            "380ee3a26ba64e679f526c14b0e7e066",
            "e004d7d6f11040a3ab823ae9f7781090",
            "d2e8f6f41a314dee8144eab6ddfd376f",
            "0af2a9e94ee84dc0b891e226b5445efe",
            "e48389d432834f159e77c72eff2726ed",
            "e6d74a83cc3c48caab0bb9516bd8e909",
            "ade085df15cf4c59a5fe7a0089256271",
            "6bdd4d9e8e134520ac6526c71b36cb15",
            "e1d0e917a6e1429c8dafc415fe1f897d",
            "60c6d477d19a4f29950ec323e7f2e856",
            "4bcc5b0ac3fa4e5dbb3850985dc8970d",
            "63e702bb4af8476a88fdd497b8108b52",
            "aee8fb4d19384144a00ca5a0e3362342",
            "a5c62b24685a48ef8b8388b4b0404025",
            "ca78cce4cd8e4438bd4f7ab54000feb2",
            "18623c0e6302429b8d1eb2be58e3cb8c",
            "99bce71e52274cb6aedfa6d79a76fee7",
            "00124513567c4da9ae66234b213dd34c",
            "ecd1523cb7f94c96bbf2995b20cfe717",
            "be7b10ec05eb413c9e46e55379e7c88e",
            "96d6be914d644d3b9a991852564927ab",
            "26d1a80a12b74511ae8994e795eced4a",
            "e3cd9cb8f241406fafb8a69d5880e09b",
            "a7d3cdc28c634962998db64b7b7cbe4a",
            "8bf5a3239c4943acab02955f1cce3dfd",
            "588c55cb8b52497a841f2d7a616edb29",
            "3f3168086226469a92d9e76448bf3c60",
            "d439747384874616a128bf8fd229fe5f",
            "3653554a4ae14b8496a9bb663955c166",
            "133c4e5cbb434065baa28298a43fb83e",
            "c8548a5ffdd54a448d2044c4679a399c",
            "269dbe6b6dc5451fae34f381344102b8",
            "cc424e8244934584945ab2cff9181a75",
            "0c38d9b73b2b4f7eb3b0966c327c0493",
            "9922045c4b5c47b3b1db9ee644109289",
            "441069f2b0b340568a5d268ba1c1782c",
            "a6792215e8984836bebceda7cdcfe6ef",
            "7e3ec96f7a974547b4d3196bf2cf0ad6",
            "844e03e235e44f688efe212e4776dde3",
            "0c941682259c4c0ca08fc20b91b6d455",
            "c26c1a83fa46416dbeaecdd6a2ddd2b0",
            "d28b1aee42c6486abc20ea6ddb79f10c",
            "f23dbb3182504dfa83f9fd63fbbbd745",
            "779e4667ece94dacb8f922608efb3ef5",
            "b0f09fa560b34170ae2a3ebebd718eae",
            "561e850a6f1c41ec9938ed9f1f3f7179"
          ],
          "height": 498
        },
        "id": "Yc-rXOKN7c78",
        "outputId": "46537ce3-40da-42c1-be6e-850a9e5d41cc"
      },
      "execution_count": null,
      "outputs": [
        {
          "output_type": "stream",
          "name": "stderr",
          "text": [
            "/usr/local/lib/python3.10/dist-packages/huggingface_hub/utils/_auth.py:94: UserWarning: \n",
            "The secret `HF_TOKEN` does not exist in your Colab secrets.\n",
            "To authenticate with the Hugging Face Hub, create a token in your settings tab (https://huggingface.co/settings/tokens), set it as secret in your Google Colab and restart your session.\n",
            "You will be able to reuse this secret in all of your notebooks.\n",
            "Please note that authentication is recommended but still optional to access public models or datasets.\n",
            "  warnings.warn(\n"
          ]
        },
        {
          "output_type": "display_data",
          "data": {
            "text/plain": [
              "modules.json:   0%|          | 0.00/349 [00:00<?, ?B/s]"
            ],
            "application/vnd.jupyter.widget-view+json": {
              "version_major": 2,
              "version_minor": 0,
              "model_id": "904a428b044e4c53961bc98c1fda6ce6"
            }
          },
          "metadata": {}
        },
        {
          "output_type": "display_data",
          "data": {
            "text/plain": [
              "config_sentence_transformers.json:   0%|          | 0.00/116 [00:00<?, ?B/s]"
            ],
            "application/vnd.jupyter.widget-view+json": {
              "version_major": 2,
              "version_minor": 0,
              "model_id": "9ba41807f8f243c29c856f23863e1abf"
            }
          },
          "metadata": {}
        },
        {
          "output_type": "display_data",
          "data": {
            "text/plain": [
              "README.md:   0%|          | 0.00/10.7k [00:00<?, ?B/s]"
            ],
            "application/vnd.jupyter.widget-view+json": {
              "version_major": 2,
              "version_minor": 0,
              "model_id": "9e16e5dcc17242fd9b0c2616990725ed"
            }
          },
          "metadata": {}
        },
        {
          "output_type": "display_data",
          "data": {
            "text/plain": [
              "sentence_bert_config.json:   0%|          | 0.00/53.0 [00:00<?, ?B/s]"
            ],
            "application/vnd.jupyter.widget-view+json": {
              "version_major": 2,
              "version_minor": 0,
              "model_id": "528e2c8757594498b622001d2c6a711c"
            }
          },
          "metadata": {}
        },
        {
          "output_type": "display_data",
          "data": {
            "text/plain": [
              "config.json:   0%|          | 0.00/612 [00:00<?, ?B/s]"
            ],
            "application/vnd.jupyter.widget-view+json": {
              "version_major": 2,
              "version_minor": 0,
              "model_id": "2ecc3bb461114e5fb569e4872815fc06"
            }
          },
          "metadata": {}
        },
        {
          "output_type": "display_data",
          "data": {
            "text/plain": [
              "model.safetensors:   0%|          | 0.00/90.9M [00:00<?, ?B/s]"
            ],
            "application/vnd.jupyter.widget-view+json": {
              "version_major": 2,
              "version_minor": 0,
              "model_id": "0fc06aaf7c4d41e3971389eab026f742"
            }
          },
          "metadata": {}
        },
        {
          "output_type": "display_data",
          "data": {
            "text/plain": [
              "tokenizer_config.json:   0%|          | 0.00/350 [00:00<?, ?B/s]"
            ],
            "application/vnd.jupyter.widget-view+json": {
              "version_major": 2,
              "version_minor": 0,
              "model_id": "6c77d3333cb74be0b319f0f6cfae3677"
            }
          },
          "metadata": {}
        },
        {
          "output_type": "display_data",
          "data": {
            "text/plain": [
              "vocab.txt:   0%|          | 0.00/232k [00:00<?, ?B/s]"
            ],
            "application/vnd.jupyter.widget-view+json": {
              "version_major": 2,
              "version_minor": 0,
              "model_id": "d2e8f6f41a314dee8144eab6ddfd376f"
            }
          },
          "metadata": {}
        },
        {
          "output_type": "display_data",
          "data": {
            "text/plain": [
              "tokenizer.json:   0%|          | 0.00/466k [00:00<?, ?B/s]"
            ],
            "application/vnd.jupyter.widget-view+json": {
              "version_major": 2,
              "version_minor": 0,
              "model_id": "a5c62b24685a48ef8b8388b4b0404025"
            }
          },
          "metadata": {}
        },
        {
          "output_type": "display_data",
          "data": {
            "text/plain": [
              "special_tokens_map.json:   0%|          | 0.00/112 [00:00<?, ?B/s]"
            ],
            "application/vnd.jupyter.widget-view+json": {
              "version_major": 2,
              "version_minor": 0,
              "model_id": "8bf5a3239c4943acab02955f1cce3dfd"
            }
          },
          "metadata": {}
        },
        {
          "output_type": "display_data",
          "data": {
            "text/plain": [
              "1_Pooling/config.json:   0%|          | 0.00/190 [00:00<?, ?B/s]"
            ],
            "application/vnd.jupyter.widget-view+json": {
              "version_major": 2,
              "version_minor": 0,
              "model_id": "441069f2b0b340568a5d268ba1c1782c"
            }
          },
          "metadata": {}
        }
      ]
    },
    {
      "cell_type": "markdown",
      "source": [
        "# Lectura de Datos"
      ],
      "metadata": {
        "id": "j9EeBEsv-SAH"
      }
    },
    {
      "cell_type": "markdown",
      "source": [
        "## Lectura y Limpieza V1"
      ],
      "metadata": {
        "id": "z4VkHobL5lgB"
      }
    },
    {
      "cell_type": "markdown",
      "source": [
        "En esta versión se lee cada documentos individual por páginas, se los une, y se envía directo a la BD con el page_content vectorizado\n"
      ],
      "metadata": {
        "id": "1Iw1ygp54WT8"
      }
    },
    {
      "cell_type": "markdown",
      "source": [
        "NOTA: Funciona bien para guía didáctica pero no para plan docente"
      ],
      "metadata": {
        "id": "TzeB7zvE4m-w"
      }
    },
    {
      "cell_type": "code",
      "source": [
        "import re\n",
        "\n",
        "def clean_text(text):\n",
        "    # Eliminar números de página y saltos de línea extras\n",
        "    text = re.sub(r'\\d+\\s*\\n\\s*', '', text)\n",
        "\n",
        "    # Eliminar caracteres especiales y espacios extras\n",
        "    text = re.sub(r'\\s+', ' ', text).strip()\n",
        "\n",
        "    # Eliminar referencias entre paréntesis\n",
        "    text = re.sub(r'\\s*\\([^)]*\\)', '', text)\n",
        "\n",
        "    # Eliminar códigos de gradación\n",
        "    text = re.sub(r'E-\\s*[A-Za-z0-9]+\\s*R-\\s*[A-Za-z0-9]+', '', text)\n",
        "\n",
        "    # Eliminar encabezados y títulos\n",
        "    text = re.sub(r'^(.+?\\n)+', '', text)\n",
        "\n",
        "    return text"
      ],
      "metadata": {
        "id": "zEZdNhhr5qJz"
      },
      "execution_count": null,
      "outputs": []
    },
    {
      "cell_type": "code",
      "source": [
        "from langchain_community.document_loaders import PyPDFLoader\n",
        "\n",
        "# Cargar múltiples PDFs individualmente\n",
        "loader1 = PyPDFLoader(\"/content/drive/MyDrive/UTPL/CursoIntroMad/Guía didáctica_Curso Introducción.pdf\")\n",
        "loader2 = PyPDFLoader(\"/content/drive/MyDrive/UTPL/CursoIntroMad/Plan_docente_Curso introductorio-oct2024 -febrero 2025 autorizado.pdf\")\n",
        "\n",
        "guia_didactica = loader1.load()\n",
        "plan_docente = loader2.load()\n"
      ],
      "metadata": {
        "id": "DX8iseAs6v0F"
      },
      "execution_count": null,
      "outputs": []
    },
    {
      "cell_type": "code",
      "source": [
        "guia_didactica = guia_didactica[5:] #Eliminar páginas de índice y portada"
      ],
      "metadata": {
        "id": "dr7VY6OcR16_"
      },
      "execution_count": null,
      "outputs": []
    },
    {
      "cell_type": "code",
      "source": [
        "len(guia_didactica)"
      ],
      "metadata": {
        "colab": {
          "base_uri": "https://localhost:8080/"
        },
        "id": "8HIplkUWSDc0",
        "outputId": "1daff563-0d2b-47cb-bea0-6f3528b74e8f"
      },
      "execution_count": null,
      "outputs": [
        {
          "output_type": "execute_result",
          "data": {
            "text/plain": [
              "51"
            ]
          },
          "metadata": {},
          "execution_count": 13
        }
      ]
    },
    {
      "cell_type": "code",
      "source": [
        "# Combinar documentos\n",
        "docsMAD = guia_didactica + plan_docente"
      ],
      "metadata": {
        "id": "YmcoumqORoag"
      },
      "execution_count": null,
      "outputs": []
    },
    {
      "cell_type": "code",
      "source": [
        "len(docsMAD)"
      ],
      "metadata": {
        "colab": {
          "base_uri": "https://localhost:8080/"
        },
        "id": "Yj-BUpdo8yLV",
        "outputId": "e2b165a8-2b42-4bbf-c4c1-7fdd724726ac"
      },
      "execution_count": null,
      "outputs": [
        {
          "output_type": "execute_result",
          "data": {
            "text/plain": [
              "64"
            ]
          },
          "metadata": {},
          "execution_count": 15
        }
      ]
    },
    {
      "cell_type": "code",
      "source": [
        "(docsMAD[51])"
      ],
      "metadata": {
        "colab": {
          "base_uri": "https://localhost:8080/"
        },
        "id": "JwS8RfvODSRs",
        "outputId": "cf5e43fe-2a4b-4f0d-cbf1-2e3c9b2d2c09"
      },
      "execution_count": null,
      "outputs": [
        {
          "output_type": "execute_result",
          "data": {
            "text/plain": [
              "Document(metadata={'source': '/content/drive/MyDrive/UTPL/CursoIntroMad/Plan_docente_Curso introductorio-oct2024 -febrero 2025 autorizado.pdf', 'page': 0}, page_content=' \\n \\n \\n \\n \\n \\n \\nUNIVERSIDAD TÉCNICA PARTICULAR DE LOJA \\nVICERRECTORADO DE MODALIDAD ABIERTA Y A DISTANCIA \\n \\nFACULTAD:  Todas \\nCARRERA: Todas \\n \\n \\n \\nPLAN DOCENTE DEL CURSO INTRODUCCIÓN A LA \\nMODALIDAD A DISTANCIA Y EN LÍNEA (PROPEDÉUTICO) \\n \\n \\nDiseñado por: Mariana Buele Maldonado \\nRita Cabrera González \\nMayra Eugenia Armijos \\n \\nMODALIDAD DE ESTUDIO: A DISTANCIA Y EN LÍNEA \\n \\n \\n                  PERÍODO ACADÉMICO \\nOCTUBRE 2024 - FEBRERO 2025\\n')"
            ]
          },
          "metadata": {},
          "execution_count": 16
        }
      ]
    },
    {
      "cell_type": "code",
      "source": [
        "from langchain_core.documents import Document\n",
        "# Aplicar la función de limpieza manteniendo la estructura de Document\n",
        "docsMAD_clean = [\n",
        "    Document(\n",
        "        page_content=clean_text(doc.page_content),\n",
        "        metadata=doc.metadata\n",
        "    ) for doc in docsMAD\n",
        "]"
      ],
      "metadata": {
        "id": "th6M-nMf-J05"
      },
      "execution_count": null,
      "outputs": []
    },
    {
      "cell_type": "code",
      "source": [
        "len(docsMAD_clean)"
      ],
      "metadata": {
        "colab": {
          "base_uri": "https://localhost:8080/"
        },
        "id": "6KE1QGYlSm9Z",
        "outputId": "354f1651-496c-4a95-afb6-59631d0fd6b5"
      },
      "execution_count": null,
      "outputs": [
        {
          "output_type": "execute_result",
          "data": {
            "text/plain": [
              "64"
            ]
          },
          "metadata": {},
          "execution_count": 106
        }
      ]
    },
    {
      "cell_type": "code",
      "source": [
        "docsMAD_clean[51]"
      ],
      "metadata": {
        "colab": {
          "base_uri": "https://localhost:8080/"
        },
        "id": "UIJ-b8k_DMIC",
        "outputId": "9d1ac33d-a8eb-4830-a20c-ba60f728f77e"
      },
      "execution_count": null,
      "outputs": [
        {
          "output_type": "execute_result",
          "data": {
            "text/plain": [
              "Document(metadata={'source': '/content/drive/MyDrive/UTPL/CursoIntroMad/Guía didáctica_Curso Introducción.pdf', 'page': 5}, page_content='2. Metodología de aprendizaje Con el objetivo de aportar a los resultados de aprendizaje del curso Introducción a la Modalidad a distancia y en línea, se aplicará un proceso metodológico de aprendizaje activo, que valora todo el proceso de conocimiento y experiencias que trae consigo el nuevo estudiante desde el bachillerato. Aprendizaje significativo Aprender desde las emociones a partir de nuestras experiencias, nos llevan al saber pensar y hacer. El aprendizaje activo se iniciará desde su propia experiencia para facilitar el análisis y la reflexión que aporta al desarrollo del pensamiento crítico, de la observación, de la identificación de las ideas principales que faciliten poner UTPL 6')"
            ]
          },
          "metadata": {},
          "execution_count": 109
        }
      ]
    },
    {
      "cell_type": "markdown",
      "source": [
        "### Carga en la base de datos Pinecone"
      ],
      "metadata": {
        "id": "W5qdg2NjWJFF"
      }
    },
    {
      "cell_type": "code",
      "source": [
        "from uuid import uuid4\n",
        "\n",
        "uuids = [str(uuid4()) for _ in range(len(docsMAD_clean))]\n",
        "\n",
        "#Esta línea envia los documentos con sus nuevos ids a la base\n",
        "vector_store.add_documents(documents=docsMAD_clean, ids=uuids)"
      ],
      "metadata": {
        "colab": {
          "base_uri": "https://localhost:8080/"
        },
        "collapsed": true,
        "id": "BpD0O1-jTpSy",
        "outputId": "b47aa60a-d7be-4b72-ee30-9a22f361554c"
      },
      "execution_count": null,
      "outputs": [
        {
          "output_type": "execute_result",
          "data": {
            "text/plain": [
              "['67fb1c33-014f-47a1-bb64-1f8a275bc5ed',\n",
              " 'e406055b-8e76-4fef-bbf1-b01538c214c6',\n",
              " '0cfa5236-d0c5-4832-a529-1b6928ad6e48',\n",
              " 'a80ed7a6-e727-411d-a3a0-91d1ee92c531',\n",
              " 'f84c906e-79b7-486a-a72c-2d1b2c61ff55',\n",
              " 'b94fca84-fba4-4679-9042-1fa6c69c51e6',\n",
              " 'd911866d-25b9-4ef4-bf85-6966ec4c7029',\n",
              " 'ced20a1f-76aa-48b0-8d4c-b2964e3bf1ad',\n",
              " '2e53d5c3-4f95-40e0-9bc3-0f0f27f22fa6',\n",
              " '7390c8b7-bbda-43a9-8b2f-0ac94e75cfe2',\n",
              " 'd9366b25-215d-4674-9cfe-84e5a7acaa03',\n",
              " 'be0ae25f-febd-4320-aa36-bdf82137769e',\n",
              " 'ff4308fb-7420-4723-a749-bb7fcd6e3bf7',\n",
              " 'd82d5317-0235-43c2-bdc9-9f33b7a8b87c',\n",
              " '1edf64e1-12c9-4b2a-bd8b-176fb207c0e7',\n",
              " 'd708140d-71f3-41aa-8cf6-91c67e61af9e',\n",
              " 'd81a74f9-0065-4a44-9f2a-3ec75d1e6152',\n",
              " 'e0b64094-cc7c-429b-ab67-e1c1acb2167d',\n",
              " 'd5819f09-8fc6-4d3a-8e5a-94d525302c0b',\n",
              " 'b2fb78f4-04f7-4c13-af60-a7f68a587d98',\n",
              " '94a38e61-4bc7-4039-93fc-6f477914cd38',\n",
              " '50a6df1d-0c1b-49f6-a1e0-64466d0aa2f4',\n",
              " '5a874712-066b-4722-9176-d6f3787db533',\n",
              " 'c669f977-e324-48fd-9ca8-b022f6e3a0e8',\n",
              " '584225b0-4fcc-4c86-bd39-9029367e291f',\n",
              " '288ce429-20b0-46fb-8ce4-6ca67ee64424',\n",
              " 'b6c6cce8-4ad6-4de5-8166-abbebc6a1059',\n",
              " '381ee068-fea7-4468-8001-abbfddb793da',\n",
              " '28b521b0-03ab-447c-8466-c597432f35d3',\n",
              " '14f52e2b-cff4-4e4b-a862-d3b8ee64fe34',\n",
              " '77deed4d-63cd-42d9-900d-15964f17e0ac',\n",
              " '64a7dceb-9d49-4471-b3c3-82cb1c8b1b7e',\n",
              " '1ca36b67-45c2-4ba3-a371-19d18d49025c',\n",
              " '33010685-9942-4b80-a9ca-f5a896098ceb',\n",
              " 'ca1ac7af-cdb9-428f-846d-df71a4036003',\n",
              " '651847ca-3164-4ee4-9df6-468d7af56130',\n",
              " '0ec5a369-f8a2-43b5-8b57-99b7fb5d4f76',\n",
              " '02aa428e-5f7a-4b22-bb93-f5575439396e',\n",
              " '0fa49b3b-dac3-442d-aa4c-7695c179b359',\n",
              " '2010e4bd-f052-453f-9de0-cf55840d758e',\n",
              " '12bb34e3-d36b-48fa-b092-f5e04e3e981e',\n",
              " '858db7e4-224d-48c0-9d48-8cb24a09626f',\n",
              " 'dc641af6-5c6f-4bb6-9760-84ebf84f1449',\n",
              " '975c8d4f-04ab-48cb-abfa-e33d9c8ff351',\n",
              " '1a8b0cf4-2fed-4e14-9102-7939297006bb',\n",
              " '17f8b411-b112-4e0a-a610-b6d6595bb954',\n",
              " '0b489ece-8659-437e-868f-ac44835c85ff',\n",
              " '5f1db068-6d82-4e56-bc4d-ab8f4823ff7c',\n",
              " '3e930386-c7d2-48ec-89a4-5d23f1293260',\n",
              " '0bcaa5b7-e131-454a-89b7-23ce4d80e891',\n",
              " 'fe44bd6a-5bcd-433e-b4b4-f07145702083',\n",
              " 'ee3e601d-3ad0-47c2-8a25-b7c23b598aba',\n",
              " '0e6cd1f5-2c9e-41e4-97dd-8112f1d6ad3a',\n",
              " 'b5f9f656-56b2-4c39-9246-bfbf95d4b1a2',\n",
              " '2e16645f-a01f-4699-97c7-8d0fbd1acc54',\n",
              " '7e79b8be-798c-4fa6-a81c-d50f0506e088',\n",
              " 'a174816c-0611-49d9-a212-ba8872a1c27d',\n",
              " 'ad107fb6-9c82-4a12-b710-7f27a088f05a',\n",
              " '3c6e3a74-6288-4f92-9dda-a823958a2592',\n",
              " 'cd465431-82d0-478e-9e25-21dd93a1f7a8',\n",
              " 'b53abba5-e00f-42ab-8f0d-fc0f65e59257',\n",
              " 'fa1e04ff-086a-4cba-aa8d-1ce980d21416',\n",
              " '5bf608cd-2655-4be3-b874-e6f589541f8a',\n",
              " '4038b0de-fc59-4ef4-85a7-fd2e8da5290e']"
            ]
          },
          "metadata": {},
          "execution_count": 110
        }
      ]
    },
    {
      "cell_type": "code",
      "source": [
        "results = vector_store.similarity_search(\n",
        "    \"El aprendizaje activo se iniciará desde su propia experiencia para facilitar el análisis y la reflexión\",\n",
        "    k=2\n",
        ")\n",
        "for res in results:\n",
        "    print(f\"* {res.page_content} [{res.metadata}]\")"
      ],
      "metadata": {
        "colab": {
          "base_uri": "https://localhost:8080/"
        },
        "id": "bhMh8dybUSIP",
        "outputId": "724047b3-e7c0-44b2-8955-c7ffb82ecf8e"
      },
      "execution_count": null,
      "outputs": [
        {
          "output_type": "stream",
          "name": "stdout",
          "text": [
            "* 2. Metodología de aprendizaje Con el objetivo de aportar a los resultados de aprendizaje del curso Introducción a la Modalidad a distancia y en línea, se aplicará un proceso metodológico de aprendizaje activo, que valora todo el proceso de conocimiento y experiencias que trae consigo el nuevo estudiante desde el bachillerato. Aprendizaje significativo Aprender desde las emociones a partir de nuestras experiencias, nos llevan al saber pensar y hacer. El aprendizaje activo se iniciará desde su propia experiencia para facilitar el análisis y la reflexión que aporta al desarrollo del pensamiento crítico, de la observación, de la identificación de las ideas principales que faciliten poner UTPL 6 [{'page': 5.0, 'source': '/content/drive/MyDrive/UTPL/CursoIntroMad/Guía didáctica_Curso Introducción.pdf'}]\n",
            "* 2. ¿Qué aplicaciones tiene el pensamiento analítico en la vida de un estudiante? 3. ¿Cómo resolver un ejercicio de pensamiento analítico? 2.4 Pensamiento Abstracto 1. ¿Cómo define usted al pensamiento abstracto? 2. ¿Cuál es la aplicación del pensamiento abstracto? 3. ¿Qué utilidad usted le otorga al pensamiento abstracto en el desarrollo de los procesos de aprendizaje? 3 Desarrollo del desafío Resolver cada uno de los cuestionarios de habilidades básicas Analizar el resultado de cada cuestionario Reflexionar sobre ¿cómo fortalecer las habilidades básicas? 4. Verificación de la solución en el estudio de la carrera: Autodefinir dos compromisos de mejora que impactarían positivamente en el desarrollo de los estudios de carrera. 4. Evaluación del curso Introducción a la Modalidad a Distancia y en Línea Unidad Actividad Instrumento Ejecución Calificación Peso Unidad Familiarización con el Cuestionario Semana 2 3.5 35% EVA Unidad Sistema de Educación a Distancia y en Línea Evaluar los conocimientos a través de Cuestionario Semana 4 4.0 40% diferentes preguntas Fase presencial Semana 5 2.5 25% Subtotal 10 100% TOTAL 10 D. Datos del equipo docente: Equipo docente [{'page': 10.0, 'source': '/content/drive/MyDrive/UTPL/CursoIntroMad/Plan_docente_Curso introductorio-oct2024 -febrero 2025 autorizado.pdf'}]\n"
          ]
        }
      ]
    },
    {
      "cell_type": "markdown",
      "source": [
        "## Lectura y Limpieza V2"
      ],
      "metadata": {
        "id": "4xdLLpAZMuZf"
      }
    },
    {
      "cell_type": "markdown",
      "source": [
        "Limpieza mejorada para Guía Didáctica"
      ],
      "metadata": {
        "id": "0ad7j4BBnemF"
      }
    },
    {
      "cell_type": "code",
      "source": [
        "!pip -q install PyMuPDF"
      ],
      "metadata": {
        "collapsed": true,
        "id": "Y8pTYBq9EARw",
        "colab": {
          "base_uri": "https://localhost:8080/"
        },
        "outputId": "2193149e-b601-46cc-843f-2c5fb99e2191"
      },
      "execution_count": 1,
      "outputs": [
        {
          "output_type": "stream",
          "name": "stdout",
          "text": [
            "\u001b[2K   \u001b[90m━━━━━━━━━━━━━━━━━━━━━━━━━━━━━━━━━━━━━━━━\u001b[0m \u001b[32m20.0/20.0 MB\u001b[0m \u001b[31m31.6 MB/s\u001b[0m eta \u001b[36m0:00:00\u001b[0m\n",
            "\u001b[?25h"
          ]
        }
      ]
    },
    {
      "cell_type": "code",
      "source": [
        "guia = '/content/drive/MyDrive/UTPL/CursoIntroMad/Guía didáctica_Curso Introducción.pdf'"
      ],
      "metadata": {
        "id": "lErwldV-F0zj"
      },
      "execution_count": 2,
      "outputs": []
    },
    {
      "cell_type": "markdown",
      "source": [
        "### Lectura y Preprocesamiento Guía Didáctica"
      ],
      "metadata": {
        "id": "Zu6b65hpK2a6"
      }
    },
    {
      "cell_type": "code",
      "source": [
        "import fitz  # PyMuPDF\n",
        "import re\n",
        "import json\n",
        "\n",
        "def clean_index(text):\n",
        "    # Patrón para eliminar puntos suspensivos, números de página y líneas en blanco\n",
        "    pattern = r'\\.{10,}.*\\n|^\\d+\\n|^\\s*$\\n'\n",
        "\n",
        "    # Eliminar los elementos que coinciden con el patrón\n",
        "    cleaned_text = re.sub(pattern, '', text, flags=re.MULTILINE)\n",
        "\n",
        "    # Eliminar líneas en blanco adicionales\n",
        "    cleaned_text = re.sub(r'\\n\\n', '\\n', cleaned_text)\n",
        "\n",
        "    return cleaned_text.strip()\n",
        "\n",
        "# Leer PDF y eliminar páginas 1 y 2 durante la extracción\n",
        "def read_pdf_with_links(file_path):\n",
        "    document = fitz.open(file_path)\n",
        "    extracted_data = []\n",
        "\n",
        "    for page_num in range(2, len(document)):  # Empieza desde la página 3 (índice lógico)\n",
        "        page = document.load_page(page_num)\n",
        "        text = page.get_text()\n",
        "\n",
        "        # Eliminar el número de página al final del texto\n",
        "        text_lines = text.splitlines()\n",
        "        if text_lines and text_lines[-1].strip().isdigit():\n",
        "            text_lines = text_lines[:-1]  # Remover la última línea si es un número\n",
        "\n",
        "        # Convertir las líneas de vuelta a texto\n",
        "        text = '\\n'.join(text_lines)\n",
        "\n",
        "        # Limpiar index si es una página de índice\n",
        "        if any(keyword in text.lower() for keyword in ['Índice', '.......\\n']):\n",
        "            text = clean_index(text)\n",
        "\n",
        "        # Extraer enlaces de la página con descripción enriquecida\n",
        "        links = []\n",
        "        for link in page.get_links():\n",
        "            uri = link.get(\"uri\", None)\n",
        "            if uri:\n",
        "                # Intentar obtener una descripción más precisa del área del enlace\n",
        "                rect = link.get(\"from\")\n",
        "                if rect:\n",
        "                    description = page.get_textbox(rect).strip()\n",
        "                else:\n",
        "                    # Generar descripción contextual si no hay una explícita\n",
        "                    description_context = text.split(uri)[0].splitlines()[-1] if uri in text else \"No contextual description\"\n",
        "                    description = description_context.strip() or \"Sin descripción disponible\"\n",
        "                links.append({\"url\": uri, \"description\": description})\n",
        "\n",
        "        extracted_data.append({\n",
        "            \"page\": page_num + 1,\n",
        "            \"text\": text,\n",
        "            \"links\": links\n",
        "        })\n",
        "\n",
        "    return extracted_data"
      ],
      "metadata": {
        "id": "4V77zwLoaYcH"
      },
      "execution_count": null,
      "outputs": []
    },
    {
      "cell_type": "code",
      "source": [
        "# Ruta del archivo PDF\n",
        "pdf_path = guia\n",
        "\n",
        "# Leer el PDF y extraer texto con enlaces\n",
        "pdf_data = read_pdf_with_links(pdf_path)\n",
        "\n",
        "# Guardar los resultados en un archivo JSON\n",
        "'''\n",
        "output_path = \"/content/guia_pdfv.json\"\n",
        "with open(output_path, \"w\", encoding=\"utf-8\") as f:\n",
        "    json.dump(pdf_data, f, ensure_ascii=False, indent=4)\n",
        "\n",
        "print(f\"Extracción completada. Datos guardados en {output_path}\")\n",
        "'''"
      ],
      "metadata": {
        "colab": {
          "base_uri": "https://localhost:8080/",
          "height": 54
        },
        "collapsed": true,
        "id": "RV6WGHu9D3IJ",
        "outputId": "548eeb04-7d07-4971-ed1b-31e7f7ea46aa"
      },
      "execution_count": null,
      "outputs": [
        {
          "output_type": "execute_result",
          "data": {
            "text/plain": [
              "'\\noutput_path = \"/content/guia_pdfv.json\"\\nwith open(output_path, \"w\", encoding=\"utf-8\") as f:\\n    json.dump(pdf_data, f, ensure_ascii=False, indent=4)\\n\\nprint(f\"Extracción completada. Datos guardados en {output_path}\")\\n'"
            ],
            "application/vnd.google.colaboratory.intrinsic+json": {
              "type": "string"
            }
          },
          "metadata": {},
          "execution_count": 128
        }
      ]
    },
    {
      "cell_type": "code",
      "source": [
        "type(pdf_data)"
      ],
      "metadata": {
        "colab": {
          "base_uri": "https://localhost:8080/"
        },
        "id": "4xxoqoFMMe4N",
        "outputId": "80b7a8ea-4ae6-4005-b76f-68eb0308a205"
      },
      "execution_count": null,
      "outputs": [
        {
          "output_type": "execute_result",
          "data": {
            "text/plain": [
              "list"
            ]
          },
          "metadata": {},
          "execution_count": 129
        }
      ]
    },
    {
      "cell_type": "code",
      "source": [
        "pdf_data[6]"
      ],
      "metadata": {
        "colab": {
          "base_uri": "https://localhost:8080/"
        },
        "id": "o0r4xjq5JZSD",
        "outputId": "9d77c2ec-820a-4371-e12a-fddee53eda41"
      },
      "execution_count": null,
      "outputs": [
        {
          "output_type": "execute_result",
          "data": {
            "text/plain": [
              "{'page': 9,\n",
              " 'text': 'Al hacer clic en dicho ícono, se desplegará un menú en el que se encuentra la\\nopción para interactuar en pantalla completa.\\nCuando lo desee, abandone la pantalla completa usando el siguiente ícono.\\nIndicaciones Generales\\n1.1 Requerimientos técnicos e información general\\nSe  abordarán  los  requerimientos  técnicos  básicos  para  el  normal\\nfuncionamiento del EVA. Le invitamos a conocerlos. \\nDebe considerar los requerimientos detallados en la siguiente infografía,\\nprevio al desarrollo del curso, con la finalidad de evitar inconsistencias,\\ndemoras en la visualización del contenido y carga de recursos.\\nRequerimientos técnicos\\nLos requerimientos mencionados ayudan a mantener una mejor navegación\\nde los cursos en el EVA.\\nEn  la  actividad  interactiva  sobre  la  vista  general  del  Entorno  Virtual  de\\nAprendizaje, se presenta la forma de navegar por los menús y áreas de\\ncontenido.\\nVista general del EVA\\nAhora puede navegar en el curso mediante los menús expuestos de acuerdo\\na sus necesidades.',\n",
              " 'links': [{'url': 'https://view.genial.ly/6384db2433258e0012cb2747',\n",
              "   'description': 'Indicaciones Generales'},\n",
              "  {'url': 'https://view.genial.ly/6384d9af4620cc00139bce77',\n",
              "   'description': 'Requerimientos técnicos'},\n",
              "  {'url': 'https://view.genial.ly/6227645dfc2f5b00185ee1fa',\n",
              "   'description': 'Vista general del EVA'}]}"
            ]
          },
          "metadata": {},
          "execution_count": 130
        }
      ]
    },
    {
      "cell_type": "code",
      "source": [
        "len(pdf_data)"
      ],
      "metadata": {
        "colab": {
          "base_uri": "https://localhost:8080/"
        },
        "id": "dJcvJl7RNkpd",
        "outputId": "3aa36941-0fa4-4efa-e1f9-aea80f0c50b2"
      },
      "execution_count": null,
      "outputs": [
        {
          "output_type": "execute_result",
          "data": {
            "text/plain": [
              "54"
            ]
          },
          "metadata": {},
          "execution_count": 131
        }
      ]
    },
    {
      "cell_type": "markdown",
      "source": [
        "### Generación de Chunks"
      ],
      "metadata": {
        "id": "slJBzWvKLDMJ"
      }
    },
    {
      "cell_type": "code",
      "source": [
        "from langchain.text_splitter import RecursiveCharacterTextSplitter\n",
        "from typing import List, Dict\n",
        "import re\n",
        "\n",
        "# Función para crear chunks semánticos\n",
        "\n",
        "def create_semantic_chunks(pdf_data: List[Dict], start_page: int = None) -> List[Dict]:\n",
        "    \"\"\"\n",
        "    Create semantic chunks from PDF data using LangChain's RecursiveCharacterTextSplitter.\n",
        "    Allows specifying a start page for chunking, keeping previous pages intact.\n",
        "\n",
        "    Args:\n",
        "        pdf_data (List[Dict]): List of dictionaries containing page number, text and links\n",
        "        start_page (int, optional): Page number from which to start creating chunks\n",
        "\n",
        "    Returns:\n",
        "        List[Dict]: List of dictionaries containing either original pages or chunks\n",
        "    \"\"\"\n",
        "    result = []\n",
        "\n",
        "    # Separamos las páginas que se mantendrán intactas\n",
        "    if start_page is not None:\n",
        "        pages_to_keep = [page for page in pdf_data if page['page'] < start_page]\n",
        "        pages_to_chunk = [page for page in pdf_data if page['page'] >= start_page]\n",
        "    else:\n",
        "        pages_to_keep = []\n",
        "        pages_to_chunk = pdf_data\n",
        "\n",
        "    # Mantenemos las páginas originales\n",
        "    result.extend(pages_to_keep)\n",
        "\n",
        "    # Si no hay páginas para hacer chunks, retornamos solo las páginas guardadas\n",
        "    if not pages_to_chunk:\n",
        "        return result\n",
        "\n",
        "    # Procesamos cada página individualmente para evitar desajustes\n",
        "    chunk_number = 1\n",
        "    for page in pages_to_chunk:\n",
        "        text = page['text']\n",
        "        page_number = page['page']\n",
        "\n",
        "        if 'links' in page and page['links']:\n",
        "            for link in page['links']:\n",
        "                if 'description' in link and 'url' in link:\n",
        "                    text += f\"\\nLink relacionado: {link['description']} - {link['url']}\\n\"\n",
        "\n",
        "        # Text Splitter\n",
        "        text_splitter = RecursiveCharacterTextSplitter(\n",
        "            separators=[\n",
        "                \"\\n\\n\",           # Doble salto de línea primero (separa secciones principales)\n",
        "                \"\\n(?=\\d+\\.)\",    # Salto de línea seguido de número y punto (nuevas secciones numeradas)\n",
        "                \"\\n(?=[A-Z])\",    # Salto de línea seguido de mayúscula (nuevos temas)\n",
        "                \". \",             # Punto y espacio (oraciones)\n",
        "                \" \",              # Espacio (palabras)\n",
        "                \"\"               # Caracteres individuales\n",
        "            ],\n",
        "            chunk_size=512,\n",
        "            chunk_overlap=30,     # Reducimos el overlap ya que las secciones son más claras\n",
        "            is_separator_regex=True\n",
        "        )\n",
        "\n",
        "        # Crear chunks para la página actual\n",
        "        chunks = text_splitter.create_documents([text])\n",
        "\n",
        "        for chunk in chunks:\n",
        "            # Limpiamos el texto del chunk\n",
        "            cleaned_text = re.sub(r'\\s+', ' ', chunk.page_content).strip()\n",
        "\n",
        "            # Solo incluimos chunks con contenido significativo\n",
        "            if len(cleaned_text) > 50:\n",
        "                chunk_dict = {\n",
        "                    'page': page_number,\n",
        "                    'chunk_number': chunk_number,\n",
        "                    'text': cleaned_text\n",
        "                }\n",
        "                result.append(chunk_dict)\n",
        "                chunk_number += 1\n",
        "\n",
        "    return result"
      ],
      "metadata": {
        "id": "5zhTgDOCKuaD"
      },
      "execution_count": null,
      "outputs": []
    },
    {
      "cell_type": "code",
      "source": [
        "def analyze_chunks(chunks: List[Dict]) -> Dict:\n",
        "    \"\"\"\n",
        "    Analiza los chunks creados y retorna estadísticas útiles.\n",
        "\n",
        "    Args:\n",
        "        chunks (List[Dict]): Lista de diccionarios con información de chunks\n",
        "\n",
        "    Returns:\n",
        "        Dict: Diccionario con estadísticas de los chunks\n",
        "    \"\"\"\n",
        "    # Separamos páginas originales de chunks\n",
        "    original_pages = [c for c in chunks if 'chunk_number' not in c]\n",
        "    processed_chunks = [c for c in chunks if 'chunk_number' in c]\n",
        "\n",
        "    chunk_lengths = [len(chunk['text']) for chunk in processed_chunks]\n",
        "\n",
        "    return {\n",
        "        \"total_original_pages\": len(original_pages),\n",
        "        \"total_chunks\": len(processed_chunks),\n",
        "        \"avg_chunk_length\": sum(chunk_lengths) / len(chunk_lengths) if chunk_lengths else 0,\n",
        "        \"min_chunk_length\": min(chunk_lengths) if chunk_lengths else 0,\n",
        "        \"max_chunk_length\": max(chunk_lengths) if chunk_lengths else 0,\n",
        "    }"
      ],
      "metadata": {
        "id": "P6TVFCRqbS1Q"
      },
      "execution_count": null,
      "outputs": []
    },
    {
      "cell_type": "code",
      "source": [
        "# Especificamos que queremos mantener las páginas 1-4 intactas y hacer chunks desde la página 5\n",
        "chunks = create_semantic_chunks(pdf_data, start_page=6)\n",
        "\n",
        "# Analizar los chunks creados\n",
        "stats = analyze_chunks(chunks)\n",
        "print(f\"\\nEstadísticas de procesamiento:\")\n",
        "print(f\"Páginas originales mantenidas: {stats['total_original_pages']}\")\n",
        "print(f\"Chunks creados: {stats['total_chunks']}\")\n",
        "print(f\"Longitud promedio de chunks: {stats['avg_chunk_length']:.2f}\")\n",
        "print(f\"Longitud mínima de chunks: {stats['min_chunk_length']}\")\n",
        "print(f\"Longitud máxima de chunks: {stats['max_chunk_length']}\")\n"
      ],
      "metadata": {
        "colab": {
          "base_uri": "https://localhost:8080/"
        },
        "id": "cE-UO99pLHsR",
        "outputId": "37eb6348-96a8-4023-ec52-d6f6cc016436"
      },
      "execution_count": null,
      "outputs": [
        {
          "output_type": "stream",
          "name": "stdout",
          "text": [
            "\n",
            "Estadísticas de procesamiento:\n",
            "Páginas originales mantenidas: 3\n",
            "Chunks creados: 191\n",
            "Longitud promedio de chunks: 323.85\n",
            "Longitud mínima de chunks: 55\n",
            "Longitud máxima de chunks: 509\n"
          ]
        }
      ]
    },
    {
      "cell_type": "code",
      "source": [
        "output_path = \"/content/chunks_guia.json\"\n",
        "with open(output_path, \"w\", encoding=\"utf-8\") as f:\n",
        "    json.dump(chunks, f, ensure_ascii=False, indent=4)\n",
        "\n",
        "print(f\"Extracción completada. Datos guardados en {output_path}\")\n"
      ],
      "metadata": {
        "colab": {
          "base_uri": "https://localhost:8080/"
        },
        "id": "my72JL11fICv",
        "outputId": "f96a9eca-6269-4bd4-e55f-afb41e066c74"
      },
      "execution_count": null,
      "outputs": [
        {
          "output_type": "stream",
          "name": "stdout",
          "text": [
            "Extracción completada. Datos guardados en /content/chunks_guia.json\n"
          ]
        }
      ]
    },
    {
      "cell_type": "code",
      "source": [
        "chunks"
      ],
      "metadata": {
        "colab": {
          "base_uri": "https://localhost:8080/"
        },
        "id": "8UBJfwyyZRxs",
        "outputId": "a26d4c63-0b0a-4a82-a4e6-99374087e2c3"
      },
      "execution_count": null,
      "outputs": [
        {
          "output_type": "execute_result",
          "data": {
            "text/plain": [
              "[{'page': 3,\n",
              "  'text': 'Índice\\n1. Datos de información\\n1.1 Presentación de la asignatura\\n1.2 Competencias Genéricas de la UTPL\\n2. Metodología de aprendizaje\\n3. Orientaciones didácticas por resultados de aprendizaje\\nResultado de aprendizaje 1:\\nContenidos, recursos y actividades de aprendizaje\\nSemana 1\\nUnidad 1: Familiarización con el EVA\\n1.1 Requerimientos técnicos e información general\\n1.2. Navegación del curso\\n1.3. Cuenta\\n1.4. Calendario y bandeja de entrada\\nActividad de aprendizaje recomendada\\nAutoevaluación 1\\nContenidos, recursos y actividades de aprendizaje\\nSemana 2\\nUnidad 1: Familiarización con el EVA\\n1.5. Actividades del curso\\n1.6. Studio\\n1.7. Aplicación Móvil\\n1.8. Ayuda\\nActividad de aprendizaje recomendada\\nAutoevaluación 2\\nResultados de aprendizaje 2:\\nContenidos, recursos y actividades de aprendizaje\\nSemana 3\\n30',\n",
              "  'links': []},\n",
              " {'page': 4,\n",
              "  'text': 'Unidad 2: Sistema de Educación a distancia y en línea\\n2.1. Modalidad de Educación a distancia y en línea\\n2.2. Lineamientos Generales del Programa Formativo Rediseño Curricular\\nActividad de aprendizaje recomendada\\nAutoevaluación 3\\nResultados de aprendizaje 3:\\nContenidos, recursos y actividades de aprendizaje\\nSemana 4\\nUnidad 2: Sistema de Educación a distancia y en línea\\n2.3. ¿Cómo estudiar a distancia y en línea?\\nActividades de aprendizaje recomendadas\\nAptitud verbal\\nRazonamiento numérico\\nRazonamiento analítico\\n3.5. Razonamiento abstracto\\n4. Solucionario\\n53',\n",
              "  'links': []},\n",
              " {'page': 5,\n",
              "  'text': '1. Datos de información\\n1.1 Presentación de la asignatura\\n1.2 Competencias Genéricas de la UTPL\\nVivencia de los valores universales del humanismo de\\xa0 Cristo.\\nComunicación oral y escrita.\\nOrientación a la innovación y a\\xa0 la investigación.\\nPensamiento crítico y reflexivo.\\nTrabajo en equipo.\\nComunicación en inglés.\\nCompromiso e implicación social.\\nComportamiento ético.\\nOrganización y planificación del tiempo.\\n1. \\n2. \\n3. \\n4. \\n5. \\n6. \\n7. \\n8. \\n9. ',\n",
              "  'links': [{'url': 'https://www.youtube.com/embed/l_50avFnkm0?rel=0',\n",
              "    'description': ''},\n",
              "   {'url': 'https://www.youtube.com/embed/l_50avFnkm0?rel=0',\n",
              "    'description': ''},\n",
              "   {'url': 'https://www.youtube.com/embed/0FGuwKTQeWQ?rel=0',\n",
              "    'description': ''},\n",
              "   {'url': 'https://www.youtube.com/embed/0FGuwKTQeWQ?rel=0',\n",
              "    'description': ''}]},\n",
              " {'page': 6,\n",
              "  'chunk_number': 1,\n",
              "  'text': '2. Metodología de aprendizaje Con el objetivo de aportar a los resultados de aprendizaje del curso Introducción a la Modalidad a distancia y en línea (Propedéutico), se aplicará un proceso metodológico de aprendizaje activo, que valora todo el proceso de conocimiento y experiencias que trae consigo el nuevo estudiante desde el bachillerato. Aprendizaje significativo Aprender desde las emociones a partir de nuestras experiencias, nos llevan al saber pensar y hacer.'},\n",
              " {'page': 6,\n",
              "  'chunk_number': 2,\n",
              "  'text': 'El aprendizaje activo se iniciará desde su propia experiencia para facilitar el análisis y la reflexión que aporta al desarrollo del pensamiento crítico, de la observación, de la identificación de las ideas principales que faciliten poner'},\n",
              " {'page': 7,\n",
              "  'chunk_number': 3,\n",
              "  'text': 'en juego sus conocimientos en la resolución de problemas básicos, así como alcanzar la estructuración de sus propios conceptos y generalizaciones considerando siempre su motivación y autogestión para el aprendizaje. Con base en este contexto el aprendizaje del curso Introducción a la'},\n",
              " {'page': 7,\n",
              "  'chunk_number': 4,\n",
              "  'text': 'Modalidad a distancia y en línea (Propedéutico), demanda un proceso de análisis comprensivo de los contenidos de las diferentes unidades destinadas a fortalecer las capacidades que el estudiante logrará desarrollar en su proceso formativo.'},\n",
              " {'page': 8,\n",
              "  'chunk_number': 5,\n",
              "  'text': '3. Orientaciones didácticas por resultados de aprendizaje Resultado de aprendizaje 1: Familiarizarse con las diversas funcionalidades (bandeja de entrada, calendario de actividades, herramientas, app móvil, entre otros) del Entorno Virtual de Aprendizaje (EVA) para hacer uso de ellas en el desarrollo de las actividades planteadas por sus docentes.'},\n",
              " {'page': 8,\n",
              "  'chunk_number': 6,\n",
              "  'text': 'Recuerde revisar de manera paralela los contenidos con las actividades de aprendizaje recomendadas y actividades de aprendizaje evaluadas. Semana 1 Unidad 1: Familiarización con el EVA ¡Bienvenido al Entorno Virtual de Aprendizaje (EVA)! que de manera amigable e intuitiva, le apoya en su proceso de aprendizaje. Para iniciar el estudio de esta unidad, acceda al video de introducción e indicaciones generales. Introducción al EVA Indicaciones Generales'},\n",
              " {'page': 8,\n",
              "  'chunk_number': 7,\n",
              "  'text': 'Indicaciones Generales Los cursos que se encuentran en el EVA presentan una estructura similar, por lo que para iniciar con el estudio de los temas en la Familiarización con el EVA, debe identificar en la parte inferior derecha de cada actividad recomendada un ícono igual al siguiente. Contenidos, recursos y actividades de aprendizaje Link relacionado: Introducción al EVA - https://www.youtube.com/embed/b8gFbWVvvC4?rel=0'},\n",
              " {'page': 9,\n",
              "  'chunk_number': 8,\n",
              "  'text': 'Al hacer clic en dicho ícono, se desplegará un menú en el que se encuentra la opción para interactuar en pantalla completa. Cuando lo desee, abandone la pantalla completa usando el siguiente ícono. Indicaciones Generales'},\n",
              " {'page': 9,\n",
              "  'chunk_number': 9,\n",
              "  'text': '1.1 Requerimientos técnicos e información general Se abordarán los requerimientos técnicos básicos para el normal funcionamiento del EVA. Le invitamos a conocerlos. Debe considerar los requerimientos detallados en la siguiente infografía, previo al desarrollo del curso, con la finalidad de evitar inconsistencias, demoras en la visualización del contenido y carga de recursos. Requerimientos técnicos Los requerimientos mencionados ayudan a mantener una mejor navegación de los cursos en el EVA.'},\n",
              " {'page': 9,\n",
              "  'chunk_number': 10,\n",
              "  'text': 'En la actividad interactiva sobre la vista general del Entorno Virtual de Aprendizaje, se presenta la forma de navegar por los menús y áreas de contenido. Vista general del EVA Ahora puede navegar en el curso mediante los menús expuestos de acuerdo a sus necesidades. Link relacionado: Indicaciones Generales - https://view.genial.ly/6384db2433258e0012cb2747'},\n",
              " {'page': 9,\n",
              "  'chunk_number': 11,\n",
              "  'text': 'Link relacionado: Requerimientos técnicos - https://view.genial.ly/6384d9af4620cc00139bce77 Link relacionado: Vista general del EVA - https://view.genial.ly/6227645dfc2f5b00185ee1fa'},\n",
              " {'page': 10,\n",
              "  'chunk_number': 12,\n",
              "  'text': '1.2. Navegación del curso En este tema aprenderá a revisar los espacios virtuales informativos y académicos como: anuncios, programa del curso, calificaciones, módulos y personas, que le permitirá mantenerse informado de los contenidos a tratar, actividades por desarrollar, puntuaciones asignadas y novedades acerca del desarrollo del curso. Anuncios Aprenderá a leer, responder y marcar los anuncios con el fin de mantenerse informado. Además, podrá responder desde el editor de contenido propio del'},\n",
              " {'page': 10,\n",
              "  'chunk_number': 13,\n",
              "  'text': 'EVA, el que será estudiado en la semana 2. Anuncios Ahora podrá estar al tanto de las novedades y acontecimientos suscitados en el curso. Cabe indicar que en función de los requerimientos del docente, la opción de \"Responder...\" en los anuncios podrá o no estar habilitada. Programa del curso'},\n",
              " {'page': 10,\n",
              "  'chunk_number': 14,\n",
              "  'text': 'Programa del curso En la siguiente actividad conocerá la forma de acceder al Programa del curso de la asignatura en el EVA. El programa contiene las actividades ordenadas cronológicamente para que pueda cumplirlas durante el periodo de aprendizaje del curso. Las partes que componen el programa del curso se encuentran representadas en la siguiente actividad. Programa del curso'},\n",
              " {'page': 10,\n",
              "  'chunk_number': 15,\n",
              "  'text': 'Programa del curso Al revisar las actividades planificadas en el curso; preste especial atención a la fecha de entrega de cada una de las actividades. Calificaciones Link relacionado: Anuncios - https://www.youtube.com/embed/YB-gAXkUh8k?rel=0'},\n",
              " {'page': 10,\n",
              "  'chunk_number': 16,\n",
              "  'text': 'Link relacionado: Programa del curso - https://view.genial.ly/6384dadeed032b0019b42749'},\n",
              " {'page': 11,\n",
              "  'chunk_number': 17,\n",
              "  'text': 'El video presentado a continuación, muestra el proceso para ingresar a la opción de Calificaciones, revisar cada una de las actividades y verificar los puntajes obtenidos. Calificaciones Mediante el uso del enlace de Calificaciones podrá conocer el puntaje obtenido en las actividades calificadas. Tenga en cuenta el estado en el que se encuentra su calificación mediante el ícono asignado. Módulos'},\n",
              " {'page': 11,\n",
              "  'chunk_number': 18,\n",
              "  'text': 'Módulos En la siguiente actividad comprenderá como se encuentra organizado el curso, mediante la distribución de temas y actividades por cada uno de los módulos. Módulos Ahora podrá revisar las temáticas y actividades del curso agrupadas por módulos, de acuerdo a un plan organizado de contenidos propuestos por su docente. Personas'},\n",
              " {'page': 11,\n",
              "  'chunk_number': 19,\n",
              "  'text': 'Personas El Entorno Virtual de Aprendizaje permite identificar a los estudiantes de un curso, reconocer el grupo de trabajo al que ha sido asignado o unirse a un grupo específico, para así mantenerse comunicado e interactuar constantemente con sus compañeros y el docente. Personas Para conocer los estudiantes de un curso, ubíquese en el menú de navegación del curso, haciendo clic en el enlace Personas. Link relacionado: Calificaciones - https://www.youtube.com/embed/VJ2sxRZ1CaE?rel=0'},\n",
              " {'page': 11,\n",
              "  'chunk_number': 20,\n",
              "  'text': 'Link relacionado: Módulos - https://view.genial.ly/6384da99d29b020011d84f40 Link relacionado: Personas - https://view.genial.ly/6384db5033258e0012cb2792'},\n",
              " {'page': 12,\n",
              "  'chunk_number': 21,\n",
              "  'text': '1.3. Cuenta En esta sección, podrá configurar el perfil, los datos personales, y vincular la cuenta con redes sociales. Además, incluye la pestaña de notificaciones en la cual podrá decidir qué notificaciones desea que lleguen a su correo electrónico. Le invitamos a acceder al contenido completo sobre la cuenta. Editar perfil'},\n",
              " {'page': 12,\n",
              "  'chunk_number': 22,\n",
              "  'text': 'Editar perfil Aprenda a personalizar el Entorno Virtual de Aprendizaje, ingresando la información personal, compartiendo la foto de perfil para que sus compañeros puedan conocerlo y contactarlo. Editar perfil Ahora puede configurar el perfil en el EVA, recuerde revisar la información ingresada antes de guardar. Canales de contacto Entérese cómo registrar la información adicional en el EVA para mantenerse en contacto e informado con lo que acontece en su curso.'},\n",
              " {'page': 12,\n",
              "  'chunk_number': 23,\n",
              "  'text': 'Canales de contacto ¡Lo está haciendo muy bien! Ahora podrá registrar las formas adicionales de contacto entre usted y los participantes del curso. Recuerde agregar un correo alterno personal que utilice en todo momento para mantenerse más informado. Notificaciones Conozca otros beneficios que ofrece el EVA, aquí podrá activar las diferentes notificaciones de acuerdo a sus prioridades. Notificaciones Link relacionado: Editar perfil - https://www.youtube.com/embed/JyXUadwgfd0?rel=0'},\n",
              " {'page': 12,\n",
              "  'chunk_number': 24,\n",
              "  'text': 'Link relacionado: Canales de contacto - https://www.youtube.com/embed/hrfkWEWGEGw?rel=0 Link relacionado: Notificaciones - https://view.genial.ly/6384db8039cf710019c30d3e'},\n",
              " {'page': 13,\n",
              "  'chunk_number': 25,\n",
              "  'text': '¡Puede seguir aprendiendo! Ahora permanecerá informado mediante las notificaciones de las diversas actividades asignadas en la plataforma virtual. Archivos Gestione su propio espacio de almacenamiento donde podrá guardar archivos; asimismo, podrá explorar los archivos agregados dentro del curso. Archivos En este momento puede almacenar archivos y guardarlos dentro del curso. Tenga en cuenta los consejos para mantener una estructura ordenada de archivos con el uso de carpetas.'},\n",
              " {'page': 13,\n",
              "  'chunk_number': 26,\n",
              "  'text': '1.4. Calendario y bandeja de entrada Es posible organizar el tiempo mediante el Calendario donde se registran las tareas y actividades planificadas dentro del curso y, a su vez, permite programar nuevos eventos. Los recordatorios son importantes. Planificar el calendario es práctico y sencillo, ayuda a recordar las actividades. Calendario Recuerde que las fechas marcadas en el calendario señalan en forma automática la fecha de entrega máxima de cada actividad por curso.'},\n",
              " {'page': 13,\n",
              "  'chunk_number': 27,\n",
              "  'text': 'Con la bandeja de entrada, podrá recibir y enviar mensajes a docentes y compañeros de clase y trabajar en forma colaborativa. Las notificaciones de nuevos mensajes llegarán a la cuenta de correo electrónico registrado. Acceda al contenido completo sobre la bandeja de entrada. La bandeja de entrada, muestra los mensajes entrantes que se encuentran en el EVA, permite contestar y/o agregar mensajes como favoritos o no leídos. Bandeja de entrada'},\n",
              " {'page': 13,\n",
              "  'chunk_number': 28,\n",
              "  'text': 'Bandeja de entrada Link relacionado: Archivos - https://www.youtube.com/embed/rdvcnr9X3OE?rel=0'},\n",
              " {'page': 13,\n",
              "  'chunk_number': 29,\n",
              "  'text': 'Link relacionado: Calendario - https://view.genial.ly/6384dbb74620cc00139bd276 Link relacionado: Bandeja de entrada - https://www.youtube.com/embed/BjNgvEs1Flg?rel=0'},\n",
              " {'page': 14,\n",
              "  'chunk_number': 30,\n",
              "  'text': 'Aproveche las funciones que ofrece la bandeja de entrada del EVA, así podrá mantenerse comunicado desde cualquier lugar. Actividad de aprendizaje recomendada Le invitamos a autoevaluar sus conocimientos sobre los temas del 1 al 4. Autoevaluación 1 Actividad 1 El juego se basa en preguntas de verdadero y falso acerca del tema 1.1. Responda a cada pregunta planteada, donde indistintamente de la opción que seleccione se presentará una retroalimentación para fortalecer sus conocimientos.'},\n",
              " {'page': 14,\n",
              "  'chunk_number': 31,\n",
              "  'text': 'Menú de navegación global Contenido del curso Menú de herramientas del curso Menú de navegación del curso Observe atentamente la imagen'},\n",
              " {'page': 14,\n",
              "  'chunk_number': 32,\n",
              "  'text': '1. 2. 3. 4. Link relacionado: Autoevaluación 1 - https://view.genial.ly/60f3406a8839f20d8cdb3578'},\n",
              " {'page': 14,\n",
              "  'chunk_number': 33,\n",
              "  'text': 'Link relacionado: - https://view.genial.ly/60f3406a8839f20d8cdb3578'},\n",
              " {'page': 15,\n",
              "  'chunk_number': 34,\n",
              "  'text': 'Hay seis preguntas sobre esta imagen. ( ) ¿Los enlaces que corresponden al menú de navegación global son:'},\n",
              " {'page': 15,\n",
              "  'chunk_number': 35,\n",
              "  'text': 'Cuenta, Soporte técnico, Tablero, Cursos, Calendario, Bandeja de entrada, Studio, Notas UTPL y Ayuda? ( ) ¿El enlace de calificaciones pertenece al menú de navegación del curso? ( ) ¿En el contenido del curso se presentan las actividades programadas para el logro del resultado de aprendizaje? ( ) El menú de herramientas del curso únicamente indica las actividades de aprendizaje pendientes de desarrollo. ( ) ¿Windows es el único sistema operativo soportado por el EVA? ( ) ¿El EVA es soportado po'},\n",
              " {'page': 15,\n",
              "  'chunk_number': 36,\n",
              "  'text': ') ¿El EVA es soportado por los dispositivos móviles iOS y Android?'},\n",
              " {'page': 15,\n",
              "  'chunk_number': 37,\n",
              "  'text': 'Actividad 2 Este juego consta de cinco preguntas y en cada pregunta podrá seleccionar una de las cuatro respuestas. Avance respondiendo correctamente hasta el final.'},\n",
              " {'page': 16,\n",
              "  'chunk_number': 38,\n",
              "  'text': 'Navegación del curso El orden cronológico en que se presentan los anuncios es: Desde el más reciente hasta el más antiguo. Desde el más antiguo hasta el más reciente. Solo anuncios nuevos. Solo anuncios antiguos. Cuando el estudiante necesite conocer en Resumen, cuáles son las actividades planificadas para su curso, debe dirigirse a: Personas Calificaciones Cuenta Programa del curso Cuando el estudiante necesite conocer, cuáles son las temáticas planificadas para su curso, debe dirigirse a: Personas'},\n",
              " {'page': 16,\n",
              "  'chunk_number': 39,\n",
              "  'text': 'Personas Calificaciones Módulos Cuenta De forma predeterminada las calificaciones están ordenadas en forma cronológica de acuerdo a la siguiente opción: Actividades por módulo Título de la actividad Fecha de entrega de la actividad Grupo de tareas La opción que permite conocer a qué grupo ha sido usted asignado es: Personas Calificaciones Anuncios Módulos Actividad 3 Esta actividad consta de tres preguntas de opción múltiple.'},\n",
              " {'page': 16,\n",
              "  'chunk_number': 40,\n",
              "  'text': '1. a. b. c. d. 2. a. b. c. d. 3. a. b. c. d. 4. a. b. c. d. 5. a. b. c. d.'},\n",
              " {'page': 17,\n",
              "  'chunk_number': 41,\n",
              "  'text': 'Lea cuidadosamente y seleccione la respuesta que considere correcta. Configuración de cuenta ¿Dónde se lleva a cabo el registro de la dirección de correo electrónico? Configuraciones Perfil Notificaciones ( ) ¿Se pueden crear carpetas en la sección de archivos? ¿Dónde puede ingresar su fotografía? 1. a. b. c. 2. 3.'},\n",
              " {'page': 18,\n",
              "  'chunk_number': 42,\n",
              "  'text': 'Configuraciones Archivo Perfil Actividad 4 Este juego permite determinar su comprensión del tema calendario y bandeja de entrada. Seleccione las respuestas que considere correctas en cada una de las misiones, supere las pruebas que se presentan y complete las misiones para culminar el juego. Calendario y bandeja de entrada En la bandeja de entrada se puede enviar mensajes a: Cualquier usuario con cuenta UTPL. Docentes y compañeros de clase. A una cuenta de correo electrónico alternativa.'},\n",
              " {'page': 18,\n",
              "  'chunk_number': 43,\n",
              "  'text': 'Herramienta que ayuda a recordar las actividades. Notificaciones. Wiki. Calendario. En la interacción de mensajes, los enviados o recibidos provenientes de la misma persona, se presentan mediante: Un punto verde en la parte superior derecha. Un número en la parte superior izquierda. Un número en la parte superior derecha. a. b. c.'},\n",
              " {'page': 19,\n",
              "  'chunk_number': 44,\n",
              "  'text': 'Los mensajes no leídos se presentan con el siguiente signo: Punto azul. Asterisco rojo. Visto verde. Ir al solucionario Use el botón para ver la pantalla completa. Semana 2 Unidad 1: Familiarización con el EVA'},\n",
              " {'page': 19,\n",
              "  'chunk_number': 45,\n",
              "  'text': '1.5. Actividades del curso Existen diferentes tipos de actividades de aprendizaje dentro del EVA, que se utilizan para verificar el logro de los resultados de aprendizaje del estudiante; usted puede encontrar recursos como: tareas, evaluaciones y foros de discusión. Conozca las diferentes actividades.'},\n",
              " {'page': 19,\n",
              "  'chunk_number': 46,\n",
              "  'text': 'Las actividades o recursos que se manejan en la plataforma son: tareas, evaluaciones, foros de discusión, chat y videocolaboración, con diferentes parámetros, tales como: calificación, fechas de disponibilidad y finalización, duración, intentos, etc. Es importante que tenga en cuenta la parametrización de las diferentes actividades para cumplirlas dentro del tiempo estipulado. Le invitamos a observar los siguientes videos, donde se encuentra el funcionamiento de las actividades más comunes.'},\n",
              " {'page': 19,\n",
              "  'chunk_number': 47,\n",
              "  'text': '4. a. b. c. Contenidos, recursos y actividades de aprendizaje'},\n",
              " {'page': 20,\n",
              "  'chunk_number': 48,\n",
              "  'text': 'Responder Foros Tareas Responder Tareas Revisión del reporte de plagio Estudiantes Cuestionarios Responder Cuestionarios Actividades síncronas El siguiente video demuestra el uso de la herramienta Zoom para el desarrollo de actividades síncronas, tales como: chat y videocolaboración. Actividades de aprendizaje síncronas Con la ayuda del siguiente manual podrás observar como ingresar a la herramienta Zoom para el desarrollo de actividades síncronas, tales como: chat y videocolaboración.'},\n",
              " {'page': 20,\n",
              "  'chunk_number': 49,\n",
              "  'text': 'Manual de Zoom Autenticación Estudiantes Actividades calificadas Las actividades calificadas pueden incluir rúbricas, las que son propuestas por el docente. El estudiante debe cumplir a cabalidad todos los criterios especificados en la rúbrica para obtener la mejor nota. Para acceder por primera vez a las actividades evaluadas se recomienda hacerlo a través de la ruta de aprendizaje, ubicada en la página de inicio de los cursos de cada asignatura.'},\n",
              " {'page': 20,\n",
              "  'chunk_number': 50,\n",
              "  'text': 'Para participar en las actividades del curso, el Entorno Virtual de Aprendizaje cuenta con un editor de contenido potente que está disponible en todo momento para crear contenido nuevo. Link relacionado: Responder Foros - https://www.youtube.com/embed/GH5q6kswo3c?rel=0'},\n",
              " {'page': 20,\n",
              "  'chunk_number': 51,\n",
              "  'text': 'Link relacionado: Responder Tareas - https://www.youtube.com/embed/HCVDz94UVGc?rel=0 Link relacionado: Revisión del reporte de plagio Estudiantes - https://www.youtube.com/embed/C4kkdQcQyDQ?rel=0 Link relacionado: Responder Cuestionarios - https://www.youtube.com/embed/hYcT2oykQKY?rel=0 Link relacionado: Actividades de aprendizaje síncronas - https://www.youtube.com/embed/EPMmnfckizw?rel=0'},\n",
              " {'page': 20,\n",
              "  'chunk_number': 52,\n",
              "  'text': 'Link relacionado: Manual de Zoom Autenticación Estudiantes - https://utpl.instructure.com/courses/33087/files/21577568?verifier=5c9i50eZOWMlXK6Ms5fjn4RTmJfSNUstVy9iFpMc&wrap=1'},\n",
              " {'page': 21,\n",
              "  'chunk_number': 53,\n",
              "  'text': 'El editor se utiliza en anuncios, tareas, foros de discusión y evaluaciones. Editor de contenidos Tiene una apariencia sencilla y práctica, pero es suficientemente sofisticado para soportar la integración de cualquier contenido de video, fórmulas matemáticas, entre otros.'},\n",
              " {'page': 21,\n",
              "  'chunk_number': 54,\n",
              "  'text': '1.6. Studio Studio es una herramienta integrada en el EVA, que permite grabar, almacenar y publicar videos desde su computador personal. En este tema aprenderá a crear, subir y compartir videos con sus compañeros o con el docente. Se abordará paso a paso cada una de las funciones mencionadas. Crear video En este apartado se detalla el proceso para crear un video con la herramienta'},\n",
              " {'page': 21,\n",
              "  'chunk_number': 55,\n",
              "  'text': 'Studio. Revise el video que se muestra en la parte inferior para conocer el proceso de creación de un video. Crear video En el espacio de Studio se listarán todos los videos que haya grabado o cargado para que los pueda utilizar en el EVA. Cargar video En este subtema aprenderá a cargar videos en la herramienta Studio. Revise el siguiente recurso que enseña el proceso para subir videos. Cargar video Compartir video Link relacionado: Editor de contenidos - https://view.genial.ly/622933d99dffeb0018d54324'},\n",
              " {'page': 21,\n",
              "  'chunk_number': 56,\n",
              "  'text': 'Link relacionado: Crear video - https://www.youtube.com/embed/l7dPp6yCcC0?rel=0 Link relacionado: Cargar video - https://www.youtube.com/embed/ER7i5-A3M0o?rel=0'},\n",
              " {'page': 22,\n",
              "  'chunk_number': 57,\n",
              "  'text': 'En este apartado aprenderá a compartir los videos previamente cargados en la herramienta Studio. Compartir video Si el video ha sido compartido con alguien, para que la persona tenga acceso al recurso debe dirigirse a la herramienta Studio, posteriormente haga clic en el icono ubicado en la parte superior izquierda y finalmente haga clic en compartido conmigo. Se listarán todos los videos que le hayan compartido.'},\n",
              " {'page': 22,\n",
              "  'chunk_number': 58,\n",
              "  'text': '1.7. Aplicación Móvil En este tema aprenderá a instalar la aplicación móvil del EVA en su dispositivo: Android o iOS; para ello, se incluye una breve explicación sobre el manejo de esta aplicación. A continuación, acceda al contenido completo sobre la aplicación móvil. Instalación de la aplicación En este subtema se describe el proceso para instalar la aplicación en su dispositivo móvil. Observe el siguiente video donde se detalla paso a paso la instalación. Instalación de la aplicación'},\n",
              " {'page': 22,\n",
              "  'chunk_number': 59,\n",
              "  'text': 'Instalación de la aplicación Si ha realizado todo el proceso presentado en el video, aparecerá el tablero para acceder a los cursos. Familiarización con la aplicación Link relacionado: Compartir video - https://www.youtube.com/embed/tkFpwNG4HZQ?rel=0'},\n",
              " {'page': 22,\n",
              "  'chunk_number': 60,\n",
              "  'text': 'Link relacionado: Instalación de la aplicación - https://www.youtube.com/embed/IctuT1C8DnY?rel=0'},\n",
              " {'page': 23,\n",
              "  'chunk_number': 61,\n",
              "  'text': 'Es importante manejar la aplicación correctamente con la finalidad de optimizar tiempo y realizar acciones, tales como: enviar una tarea, participar en un foro de discusión, desarrollar una evaluación, entre otros; y mantenerse informado sobre lo que sucede en el EVA. A continuación, se presenta un video para familiarizarse con la aplicación. Familiarización App'},\n",
              " {'page': 23,\n",
              "  'chunk_number': 62,\n",
              "  'text': 'Familiarización App Recuerde que el EVA es su espacio de interacción que también puede ser utilizado a través de la aplicación móvil conocida como Canvas Student.'},\n",
              " {'page': 23,\n",
              "  'chunk_number': 63,\n",
              "  'text': '1.8. Ayuda Este tema permite conocer el tipo de ayuda que se tiene para despejar dudas sobre el uso correcto del EVA como: el chat en vivo y recursos para el manejo del EVA. Para realizar otras consultas a la UTPL, usted dispone del buzón de consultas. Le invitamos a acceder a estas informaciones. Chat en vivo En este subtema conocerá la forma de acceder y comunicarse con un representante de soporte técnico del EVA. Chat en vivo Página de Recursos EVA'},\n",
              " {'page': 23,\n",
              "  'chunk_number': 64,\n",
              "  'text': 'Página de Recursos EVA Aquí aprenderá a consultar los manuales, instructivos y videos para el manejo apropiado del EVA, para ello revise la actividad que se plantea a continuación: Página de Recursos EVA Buzón de consultas UTPL Seguidamente, aprenderá cómo contactarse con la UTPL a través de mensajes utilizando el buzón de consultas. Link relacionado: Familiarización App - https://www.youtube.com/embed/XM6u4GAnflE?rel=0'},\n",
              " {'page': 23,\n",
              "  'chunk_number': 65,\n",
              "  'text': 'Link relacionado: Chat en vivo - https://view.genial.ly/61a8d4a1e936b00d944097dc Link relacionado: Página de Recursos EVA - https://view.genial.ly/6384c311214cb700194ff6c7'},\n",
              " {'page': 24,\n",
              "  'chunk_number': 66,\n",
              "  'text': 'Buzón de consultas Adicionalmente, presentamos los pasos para acceder a los trámites académicos UTPL como por ejemplo: solicitudes de certificados y notas, recalificaciones, reconocimientos de estudios, etc. Trámites académicos Preguntas frecuentes Con el siguiente recurso podrá conocer otra forma de consultar las preguntas que se han respondido a menudo sobre el manejo del EVA. Preguntas frecuentes Actividad de aprendizaje recomendada'},\n",
              " {'page': 24,\n",
              "  'chunk_number': 67,\n",
              "  'text': 'Le invitamos a autoevaluar sus conocimientos sobre los temas del 5 al 8. Autoevaluación 2 Actividad 1 El juego se basa en preguntas de tres opciones de respuesta. Responda a cada pregunta planteada, donde indistintamente de la opción que seleccione se presentará una retroalimentación para fortalecer sus conocimientos. ¿Con qué herramienta se puede llevar a cabo una sesión de chat o videocolaboración?'},\n",
              " {'page': 24,\n",
              "  'chunk_number': 68,\n",
              "  'text': '1. a. Link relacionado: Buzón de consultas - https://www.youtube.com/embed/HMhhYupJ8Cc?rel=0'},\n",
              " {'page': 24,\n",
              "  'chunk_number': 69,\n",
              "  'text': 'Link relacionado: Trámites académicos - https://www.youtube.com/embed/5dG6panyN8M?rel=0 Link relacionado: Preguntas frecuentes - https://view.genial.ly/6384da25d783a200100d6563 Link relacionado: Autoevaluación 2 - https://view.genial.ly/60f346698839f20d8cdb35e3 Link relacionado: - https://view.genial.ly/60f346698839f20d8cdb35e3'},\n",
              " {'page': 25,\n",
              "  'chunk_number': 70,\n",
              "  'text': '¿Desde qué menú se puede acceder a las actividades pendientes del curso? b. c. 2. a.'},\n",
              " {'page': 27,\n",
              "  'chunk_number': 71,\n",
              "  'text': '¿Cuál de las siguientes opciones no está incluida en el menú de navegación del curso? Actividad 2 Esta actividad consta de cuatro preguntas. 3. a. b. c.'},\n",
              " {'page': 28,\n",
              "  'chunk_number': 72,\n",
              "  'text': 'Lea cuidadosamente y responda las preguntas correctamente para completar la actividad. ¿Cuál de los siguientes menús permite dirigirse a la herramienta Studio? Menú de navegación global. Menú de navegación del curso. Menú de herramientas. La herramienta Studio permite: Grabar y compartir videos. Cargar y compartir videos. Grabar, cargar y compartir videos. La herramienta Studio permite agregar videos utilizando: Un computador o un SmartWatch. YouTube o un SmartWatch. Un computador o Youtube.'},\n",
              " {'page': 28,\n",
              "  'chunk_number': 73,\n",
              "  'text': 'Un computador o Youtube. Cuando se hace clic en compartir multimedia, ¿qué opciones aparecen? Enlace público y video. Personas y video. Enlaces y personas. Actividad 4 Esta actividad consta de cuatro preguntas. Lea cuidadosamente, seleccione la respuesta correcta y responda las cuatro preguntas para completar la actividad. Ayuda para uso del EVA ¿Con qué rol puede iniciar la sesión del chat en vivo? Facultad Administrador'},\n",
              " {'page': 28,\n",
              "  'chunk_number': 74,\n",
              "  'text': 'Facultad Administrador Estudiante ( ) En los recursos para el manejo del EVA, ¿es posible encontrar información sobre las actividades de aprendizaje?'},\n",
              " {'page': 28,\n",
              "  'chunk_number': 75,\n",
              "  'text': '1. a. b. c. 2. a. b. c. 3. a. b. c. 4. a. b. c. 1. a. b. c. 2.'},\n",
              " {'page': 29,\n",
              "  'chunk_number': 76,\n",
              "  'text': '( ) ¿Para realizar un trámite académico debe ingresar a la dirección https://servicios.utpl.edu.ec? Las preguntas frecuentes del EVA permiten obtener: Ayuda verbal y guiada (asesor) Ayuda escrita y visual (tutorial) Ayuda visual y guiada (recurso) Ir al solucionario Use el botónpara ver la pantalla completa.'},\n",
              " {'page': 29,\n",
              "  'chunk_number': 77,\n",
              "  'text': 'Con lo aprendido usted está en capacidad para utilizar la ayuda del EVA en sus distintas formas: realizar un trámite académico, activar el chat en vivo, así como consultar las preguntas frecuentes y los recursos para el manejo del EVA. El progreso en el aprendizaje es clave, por ello, para evidenciar las fortalezas y debilidades, además de los aspectos a profundizar, le invitamos a responder la siguiente evaluación que contiene los diferentes temas abordados en la unidad.'},\n",
              " {'page': 29,\n",
              "  'chunk_number': 78,\n",
              "  'text': 'La evaluación es de calificación automática y tendrá dos intentos para desarrollarla. ¡Éxitos!'},\n",
              " {'page': 30,\n",
              "  'chunk_number': 79,\n",
              "  'text': 'Resultados de aprendizaje 2: Conocer el Modelo Educativo y Pedagógico de la Modalidad a Distancia y en Línea. Estimado estudiante, estamos plenamente convencidos de que la Educación a distancia y en línea constituye la modalidad de formación del futuro profesional. Las dinámicas del mundo contemporáneo exigen nuestra presencia tanto laboral como familiar y educativa, lo que nos posibilita dedicar tiempo a la superación personal.'},\n",
              " {'page': 30,\n",
              "  'chunk_number': 80,\n",
              "  'text': 'Asimismo, recuerde que esta nueva etapa de formación es de tercer nivel y se fundamenta en un Modelo Educativo basado en competencias. Esto dará paso a un proceso de innovación curricular mediante el rediseño de programas formativos que buscan fortalecer su práctica preprofesional y el desarrollo de sus competencias. Este modelo, en esa medida, le convertirá en protagonista de su propia formación y al docente en mediador de experiencias de aprendizaje.'},\n",
              " {'page': 30,\n",
              "  'chunk_number': 81,\n",
              "  'text': 'Recuerde revisar de manera paralela los contenidos con las actividades de aprendizaje recomendadas y actividades de aprendizaje evaluadas. Semana 3 Unidad 2: Sistema de Educación a distancia y en línea'},\n",
              " {'page': 30,\n",
              "  'chunk_number': 82,\n",
              "  'text': '2.1. Modalidad de Educación a distancia y en línea La Educación a distancia y en línea es un sistema de enseñanza-aprendizaje fundamentado en un diálogo didáctico mediado entre un docente (una institución) y un estudiante que pretende desarrollar en este último un proceso de aprendizaje autónomo como elemento clave para gestionar sus Contenidos, recursos y actividades de aprendizaje'},\n",
              " {'page': 31,\n",
              "  'chunk_number': 83,\n",
              "  'text': 'formas de conocimiento. Esto es posible, en gran medida, gracias al uso de recursos tecnológicos en línea que se constituyen en herramientas ideales para el fortalecimiento de una futura trayectoria profesional. Es importante que usted conozca más detalles del sistema de Modalidad a distancia y en línea, para lo cual lo invitamos a revisar el apartado 2.1 y 2.2 de la Guía del estudiante. Filosofía, principios y valores'},\n",
              " {'page': 31,\n",
              "  'chunk_number': 84,\n",
              "  'text': 'La Universidad Técnica Particular de Loja, como Universidad Católica, basa su filosofía educativa en los principios del Humanismo de Cristo y en los derechos del hombre. Exige respeto a dichos principios e implementa las políticas necesarias para organizar su reconocimiento y aplicación entre profesores y alumnos, respetando a su vez, la libertad de conciencia y las libertades individuales que no se opongan a los fines de la institución y al bien común. Filosofía, principios y valores'},\n",
              " {'page': 31,\n",
              "  'chunk_number': 85,\n",
              "  'text': 'Organización de la Modalidad a distancia y en línea La UTPL organizativamente cuenta con dos instancias fundamentales: la Sede Central y los Centros de apoyo. La administración en la Sede Central se realiza a través del Vicerrectorado de Modalidad Abierta y a Distancia y un equipo de cinco direcciones: Vicerrectorado de Modalidad Abierta y a Distancia Lo invitamos a revisar el apartado 2.3 y 2.4 de la Guía del'},\n",
              " {'page': 31,\n",
              "  'chunk_number': 86,\n",
              "  'text': 'Estudiante para ahondar en el tema de principios y valores, así como de la organización de la Modalidad a distancia y en línea. Link relacionado: Filosofía, principios y valores - https://view.genial.ly/60b96af09d18460d714d1551'},\n",
              " {'page': 31,\n",
              "  'chunk_number': 87,\n",
              "  'text': 'Link relacionado: Vicerrectorado de Modalidad Abierta y a Distancia - https://view.genial.ly/5e46dd94f89acf1c97ab1d96'},\n",
              " {'page': 32,\n",
              "  'chunk_number': 88,\n",
              "  'text': 'Modelo Educativo y Pedagógico de la Modalidad a Distancia y en Línea. La UTPL cuenta con un modelo educativo que la identifica y la caracteriza; en él se sintetizan las teorías y los enfoques pedagógicos que orientan la construcción de los planes y programas que se implementarán en el proceso de enseñanza-aprendizaje. A continuación, se presenta un video sobre el Modelo educativo: Conoce el Modelo Educativo de la modalidad a distancia de la UTPL'},\n",
              " {'page': 32,\n",
              "  'chunk_number': 89,\n",
              "  'text': 'La Modalidad a distancia y en línea trabaja con un modelo educativo y pedagógico basado en competencias, estructurado a través de mallas curriculares ceñidas al cumplimiento de la misión y visión de nuestra'},\n",
              " {'page': 32,\n",
              "  'chunk_number': 90,\n",
              "  'text': 'Universidad. En este modelo, el estudiante cumple con el papel principal, ya que en torno a él se han pensado los demás componentes, tales como: recursos y materiales educativos, canales de comunicación, valores y principios, planta docente calificada, infraestructura, organización y administración de la sede y centros de apoyo. A continuación, hacemos referencia a algunos componentes del modelo educativo y pedagógico: Componentes del Modelo Educativo y Pedagógico'},\n",
              " {'page': 32,\n",
              "  'chunk_number': 91,\n",
              "  'text': 'Lo invitamos a revisar el apartado 3 de la Guía del Estudiante para reforzar el tema sobre el Modelo Educativo y Pedagógico.'},\n",
              " {'page': 32,\n",
              "  'chunk_number': 92,\n",
              "  'text': '2.2. Lineamientos Generales del Programa Formativo Rediseño Curricular La Universidad Técnica Particular de Loja (UTPL), ante una sociedad que plantea nuevas exigencias y retos para la educación superior con base en su Modelo Pedagógico-Educativo–2015, fundamentado en competencias, da paso a un proceso de innovación curricular mediante el rediseño de sus'},\n",
              " {'page': 32,\n",
              "  'chunk_number': 93,\n",
              "  'text': 'Link relacionado: Conoce el Modelo Educativo de la modalidad a distancia de la UTPL - https://www.youtube.com/embed/qDEU0UWjdQo?si=_KhjeAYU9tDsGchd%0Arel=0'},\n",
              " {'page': 32,\n",
              "  'chunk_number': 94,\n",
              "  'text': 'Link relacionado: Componentes del Modelo Educativo y Pedagógico - https://view.genial.ly/60ba6049606b260d00c7cd33'},\n",
              " {'page': 33,\n",
              "  'chunk_number': 95,\n",
              "  'text': 'programas formativos. Estos buscan fortalecer la práctica pre profesional y el desarrollo de competencias a través de itinerarios de formación donde la práctica y la investigación se orientan a atender problemas y necesidades del contexto laboral donde se puedan desempeñar los futuros profesionales. La estructura curricular de las carreras de rediseño tiene su propia organización de aprendizaje. En este tema es importante precisar los siguientes aspectos:'},\n",
              " {'page': 33,\n",
              "  'chunk_number': 96,\n",
              "  'text': 'En la Modalidad a distancia y en línea, el aprendizaje se organiza en tres componentes: Aprendizaje en Contacto con el Docente (ACD), Aprendizaje Autónomo (AA) y Aprendizaje Práctico- experimental (APE). Es importante definir los términos “competencia” y “resultados de aprendizaje” • •'},\n",
              " {'page': 34,\n",
              "  'chunk_number': 97,\n",
              "  'text': 'Estructura curricular Es momento de conocer la estructura curricular que garantiza el proceso de enseñanza-aprendizaje comprendiendo unidades de organización curricular y campos de formación del currículo. Es importante que usted conozca que las mallas curriculares contemplan en su estructura, los siguientes aspectos:'},\n",
              " {'page': 35,\n",
              "  'chunk_number': 98,\n",
              "  'text': 'Mallas curriculares Con el fin de ampliar los conceptos revisados, remítase al apartado 4 de la Guía del Estudiante: Lineamientos generales del programa formativo: Rediseño Curricular Así mismo, los invitamos a revisar la malla curricular de su carrera en la Guía del Estudiante de Modalidad a Distancia y en Línea, apartado 5: Carreras y estructura curricular por Facultades. Actividad de aprendizaje recomendada La autoevaluación se basa en preguntas de opción múltiple. Responda a cada pregunta planteada.'},\n",
              " {'page': 35,\n",
              "  'chunk_number': 99,\n",
              "  'text': 'Autoevaluación 3 Seleccione la opción correcta. La modalidad a distancia y en línea es un sistema de estudios universitarios que pretende: Llegar a todos lugares geográficos a través de clases semipresenciales. Hacer posible la educación superior a quienes no pueden hacerlo de manera presencial por varias razones. Capacitar a sectores específicos de personas con deseos de obtener un segundo título profesional.'},\n",
              " {'page': 35,\n",
              "  'chunk_number': 100,\n",
              "  'text': 'La modalidad a distancia y en línea tiene múltiples definiciones, en las cuales se describe que el estudiante es quien autorregula su tiempo, espacio y ritmo para su proceso de aprendizaje. Esto pertenece a la siguiente definición: El estudio autónomo e independiente La comunicación didáctica • •'},\n",
              " {'page': 35,\n",
              "  'chunk_number': 101,\n",
              "  'text': '1. a. b. c. 2. a. b. Link relacionado: Mallas curriculares - https://view.genial.ly/60ba384d606b260d00c7c856'},\n",
              " {'page': 35,\n",
              "  'chunk_number': 102,\n",
              "  'text': 'Link relacionado: Autoevaluación 3 - https://view.genial.ly/60c0d3979ee5940d2351c89c Link relacionado: - https://view.genial.ly/60c0d3979ee5940d2351c89c'},\n",
              " {'page': 36,\n",
              "  'chunk_number': 103,\n",
              "  'text': 'El soporte de una institución El principio que nos invita a: confiar en el estudiante, en sus capacidades y habilidades para organizarse con autodisciplina y responsabilidad, es: La creatividad La investigación La personalización Como estudiante de modalidad a distancia y en línea, cuenta con organismos de apoyo que sirven de vínculo entre los estudiantes y la Sede Central, los mismos que son denominados: Centros de apoyo y oficinas de información y gestión Federación Estudiantil UTPL El consejo superior'},\n",
              " {'page': 36,\n",
              "  'chunk_number': 104,\n",
              "  'text': 'El consejo superior Dentro de la estructura del Vicerrectorado de Modalidad Abierta y a Distancia, contamos con la Dirección de Tecnologías para la Educación, cuya gestión es: La virtualización del modelo educativo institucional utilizando las tecnologías de la información y comunicación; para ello, investiga, innova y transfiere a los estudiantes y a la sociedad el uso educativo de la tecnología. La investigación, innovación y capacitación docente en educación a distancia.'},\n",
              " {'page': 36,\n",
              "  'chunk_number': 105,\n",
              "  'text': 'Planificar, coordinar y ejecutar acciones relacionadas con el diseño, evaluación e innovación de los materiales y recursos educativos. Las actitudes, habilidades y conocimientos son elementos de: Un itinerario Una malla curricular Una competencia Aprendizaje en Contacto con el Docente, Aprendizaje Autónomo y Aprendizaje Práctico-Experimental son componentes que corresponden a: Las unidades de organización curricular La organización del aprendizaje Los campos de formación del currículo c.'},\n",
              " {'page': 36,\n",
              "  'chunk_number': 106,\n",
              "  'text': '3. a. b. c. 4. a. b. c. 5. a. b. c. 6. a. b. c. 7. a. b. c.'},\n",
              " {'page': 37,\n",
              "  'chunk_number': 107,\n",
              "  'text': 'Las unidades Básica, Profesional y de Integración curricular corresponden a: Los campos de formación del currículo La organización del aprendizaje Las unidades de organización curricular ¿Cuál de los siguientes elementos corresponde a “los campos de formación del currículo”? Comunicación y lenguajes Unidad profesional Aprendizaje Autónomo El concepto \"actividades de aprendizaje orientadas a la aplicación de conocimientos y al desarrollo de destrezas y habilidades específicas\" corresponde a:'},\n",
              " {'page': 37,\n",
              "  'chunk_number': 108,\n",
              "  'text': 'Practicas preprofesionales Itinerarios académicos Ir al solucionario'},\n",
              " {'page': 38,\n",
              "  'chunk_number': 109,\n",
              "  'text': 'Resultados de aprendizaje 3: Adquirir competencias relacionadas a los hábitos y técnicas de estudio. Recuerde revisar de manera paralela los contenidos con las actividades de aprendizaje recomendadas y actividades de aprendizaje evaluadas. Semana 4 Unidad 2: Sistema de Educación a distancia y en línea'},\n",
              " {'page': 38,\n",
              "  'chunk_number': 110,\n",
              "  'text': '2.3. ¿Cómo estudiar a distancia y en línea? Sin duda alguna, el estudio dentro de la modalidad a distancia y en línea exige entre otras cosas disciplina, constituyéndose en un reto para todo estudiante, más aún si se trata de combinar su actuar personal, laboral y ahora el académico. En el presente tema abordaremos aspectos relacionados a la orientación universitaria, hábitos y técnicas de estudio, normas APA y competencias informacionales.'},\n",
              " {'page': 38,\n",
              "  'chunk_number': 111,\n",
              "  'text': '2.3.1. Temas de orientación universitaria Para empezar, vamos a realizar una reflexión a partir del poema de Pablo Neruda. El Poema Contenidos, recursos y actividades de aprendizaje Link relacionado: El Poema - https://view.genial.ly/60f1b7eafd893b0d73e1923f'},\n",
              " {'page': 39,\n",
              "  'chunk_number': 112,\n",
              "  'text': 'El estudio a distancia y en línea El haber elegido los estudios a distancia y en línea para la formación profesional, es trascendente para su vida personal, en razón de que, para consolidar su decisión de formación, esta modalidad le ofrece un conjunto de posibilidades para su desarrollo integral en el campo de la profesión elegida.'},\n",
              " {'page': 39,\n",
              "  'chunk_number': 113,\n",
              "  'text': 'Al iniciar sus estudios, es importante que tenga muy bien definidos sus objetivos personales en relación a la carrera elegida por usted. Este es el primer paso para el comienzo de una vida universitaria en la Modalidad a distancia y en línea. Los objetivos siempre serán fuente de motivación y emprendimiento para asumir esfuerzos para mantenerse en el proceso de formación, para superar dificultades, renovar metas hasta llegar a alcanzar su titulación. El esfuerzo en la educación a distancia y en líne'},\n",
              " {'page': 39,\n",
              "  'chunk_number': 114,\n",
              "  'text': 'n a distancia y en línea facilita fortalecer sus estrategias de estudio, el plantearse retos, formar nuevas actitudes y todo esto conlleva a ser mejores personas, mejores profesionales, individuos comprometidos con el desarrollo de las comunidades, de sus familias y, en otros términos, alcanzar a ser mejores “seres humanos”.'},\n",
              " {'page': 39,\n",
              "  'chunk_number': 115,\n",
              "  'text': 'El estudio a distancia y en línea, a más de la motivación personal, demanda de una excelente actitud de responsabilidad, de un muy buen conocimiento de técnicas y estrategias de estudio, y, en especial, de un excelente hábito de lectura comprensiva, que facilite ir desde una comprensión literal, inferencial hacia una reflexión crítica e intertextual de las diferentes fuentes de conocimiento; esta práctica se constituye en el sustento para la gestión del aprendizaje.'},\n",
              " {'page': 39,\n",
              "  'chunk_number': 116,\n",
              "  'text': 'Ahora bien, debemos plantear algunas sugerencias para que esta experiencia de estudio sea exitoso. Estudio a distancia y en línea, proyecto de vida y el estudio autónomo y autorregulado Link relacionado: Estudio a distancia y en línea, proyecto de vida y el estudio autónomo y - https://view.genial.ly/60f1b825fd893b0d73e19249'},\n",
              " {'page': 39,\n",
              "  'chunk_number': 117,\n",
              "  'text': 'Link relacionado: autorregulado - https://view.genial.ly/60f1b825fd893b0d73e19249'},\n",
              " {'page': 40,\n",
              "  'chunk_number': 118,\n",
              "  'text': '2.3.2. Hábitos y técnicas de estudio Ahora, revisaremos lo relacionado a los hábitos y técnicas de estudio y estrategias de aprendizaje, temas que aspiramos sean de mucha utilidad durante toda su vida estudiantil. Se intenta incorporar y potenciar los hábitos de estudio, para ello se requiere de su colaboración a través de la aplicación de los mismos en cada una de sus actividades académicas. Conceptos generales'},\n",
              " {'page': 40,\n",
              "  'chunk_number': 119,\n",
              "  'text': 'Conceptos generales Pérez Juste, señala al hábito como un modo de hacer preferido a otro, estable en el tiempo, y que es fruto de la práctica o costumbre. Se llaman hábitos de estudio a aquellas conductas que se practican regularmente, para incorporar saberes a su estructura cognitiva. Pueden ser buenos o malos, con consecuencias positivas o negativas, respectivamente, en sus resultados. Se practican en forma continua, y luego se vuelven naturales ¿Cómo adquirir hábitos y técnicas de estudio eficaces?'},\n",
              " {'page': 40,\n",
              "  'chunk_number': 120,\n",
              "  'text': 'Dentro de la Modalidad a distancia y en línea, un tema fundamental para lograr el éxito académico deseado en la formación de los estudiantes es el relacionado a las habilidades y técnicas para el autoestudio.'},\n",
              " {'page': 40,\n",
              "  'chunk_number': 121,\n",
              "  'text': 'Como buenos hábitos podemos citar: cumplir horarios; establecer una metodología, diagramar el tiempo con que se cuenta; mantener el orden en el material; estudiar siempre en un lugar silencioso y cómodo; utilizar técnicas para aprender significativamente, como la de subrayado, cuadros sinópticos y comparativos o mapas conceptuales; repasar; exponer en voz alta lo aprendido; releer si no se entiende; ayudarse con el diccionario para realizar la lectura comprensiva; pautar descanso'},\n",
              " {'page': 40,\n",
              "  'chunk_number': 122,\n",
              "  'text': '; pautar descansos cortos por cada hora de dedicación; etc.'},\n",
              " {'page': 41,\n",
              "  'chunk_number': 123,\n",
              "  'text': 'Si ustedes no han tenido estos hábitos a lo largo de su formación académica, no se desanimen, ellos se van formando progresivamente. El orden como hábito principal en el estudio Los componentes de los hábitos de estudio son: orden, cronograma, horario y lectura.'},\n",
              " {'page': 41,\n",
              "  'chunk_number': 124,\n",
              "  'text': 'Orden: El orden es todo lo que funciona de una determinada manera. Por ejemplo, las jerarquías se basan en una organización decreciente o creciente, las sociedades anarquistas en una organización mediante libertad, respeto, igualdad y responsabilidad. Lo que prima en el orden social es la cultura y no necesariamente las leyes, como suele pensarse. En el Diccionario de la Lengua Española (2005) Espasa-Calpe S.A., Madrid, - ORDEN significa: Colocación de las cosas en el lugar que les corresponde.'},\n",
              " {'page': 41,\n",
              "  'chunk_number': 125,\n",
              "  'text': 'Concierto, buena disposición de las cosas entre sí. Regla o modo que se observa para hacer las cosas. Serie o sucesión de las cosas. De la misma forma existen órdenes de órdenes, que solemos llamar estructuras. Existen multitud de estructuras en los más diversos campos tanto de la naturaleza como de la vida social. Utilizado en femenino, una orden es un imperativo: En cuanto a estar situadas, o a sucederse las cosas en el espacio y en el tiempo.'},\n",
              " {'page': 41,\n",
              "  'chunk_number': 126,\n",
              "  'text': 'Como organización, funcionamiento regular y coordinado. En cuanto a planificación (actuación intencional y planeada que da lugar a una auténtica estrategia de aprendizaje).'},\n",
              " {'page': 42,\n",
              "  'chunk_number': 127,\n",
              "  'text': 'Este hábito principal, se clasifica en: Ordenar siempre el mismo lugar: Estudiar siempre en el mismo lugar. Evitar distracciones innecesarias y pérdida de tiempo. Buscar un sitio que reúna las condiciones propias, de preferencia un lugar solitario, ya que, para la mayoría de las personas, facilita la concentración.'},\n",
              " {'page': 42,\n",
              "  'chunk_number': 128,\n",
              "  'text': 'Si no contamos con el punto anterior tratemos de adecuar un lugar cuyas condiciones deberán estar en función de la tranquilidad y ausencia del ruido, mobiliario adecuado, temperatura, iluminación y ausencia de distractores. Orden de tiempo: Fijarse un plan de estudio que le permitirá un aprovechamiento más efectivo del tiempo. Estudiar de forma metódica.'},\n",
              " {'page': 42,\n",
              "  'chunk_number': 129,\n",
              "  'text': 'Estudiar de forma metódica. Establecer un horario para su estudio hasta que se torne una costumbre, fuera del tiempo que utilizamos para las demás actividades. El tiempo debe ser adecuado en su: Dimensión psicológica. Dimensión personal de la duración. Dimensión personal de la calidad. Adecuación a la asignatura y tipo de actividad. La distribución del tiempo es un factor de gran importancia para que el estudiante logre un estudio efectivo. Estrategias de aprendizaje'},\n",
              " {'page': 42,\n",
              "  'chunk_number': 130,\n",
              "  'text': 'Estrategias de aprendizaje Las estrategias de aprendizaje son el conjunto de actividades, técnicas y medios que se planifican de acuerdo con las necesidades de la población a la cual van dirigidas, los resultados de aprendizaje que persiguen y la naturaleza de las áreas y asignaturas, todo esto con la finalidad de hacer más efectivo el proceso de aprendizaje. a. ◦ ◦ ◦ ◦ b. ◦ ◦ ◦ ▪ ▪ ▪ ▪ ◦'},\n",
              " {'page': 43,\n",
              "  'chunk_number': 131,\n",
              "  'text': 'Es relevante mencionar que las estrategias de aprendizaje son, juntamente con los contenidos, objetivos y la evaluación de los aprendizajes, componentes fundamentales del proceso de aprendizaje. Podríamos explicar qué es y qué supone la utilización de estrategias de aprendizaje, a partir de la distinción entre técnicas y estrategias. Para que la estrategia se produzca, se requiere una planificación de esas técnicas en una secuencia dirigida a un fin.'},\n",
              " {'page': 43,\n",
              "  'chunk_number': 132,\n",
              "  'text': 'Es evidente que existe una estrecha relación entre las técnicas de estudio y estrategias de aprendizaje: Las estrategias, son las encargadas de establecer lo que se necesita para resolver bien la tarea del estudio, determina las técnicas más adecuadas a utilizar, controla su aplicación y toma decisiones posteriores en función de los resultados. Las técnicas de estudio son las responsables de la realización directa de éste, a través de procedimientos concretos.'},\n",
              " {'page': 43,\n",
              "  'chunk_number': 133,\n",
              "  'text': 'Los invitamos a revisar el siguiente video para reforzar el tema de estrategias y técnicas de estudio. Cursos recomendados Los invitamos estimados estudiantes a reforzar sus conocimientos a través del MOOC Metodología de estudio.'},\n",
              " {'page': 43,\n",
              "  'chunk_number': 134,\n",
              "  'text': 'Así mismo es importante se inscriban en el MOOC de Expresión oral y escrita, el cual le brindará las herramientas y técnicas necesarias para desarrollar habilidades en la escritura y en el lenguaje; así como en el MOOC de Computación Básica para obtener competencias ofimáticas, es decir, las habilidades necesarias para manejar las aplicaciones básicas para usar una computadora, aprenderá fundamentos básicos de un computador, manejo de word, excel y del almacenamiento virtual.'},\n",
              " {'page': 43,\n",
              "  'chunk_number': 135,\n",
              "  'text': '1. 2. Link relacionado: estrategias y técnicas de estudio - https://www.youtube.com/watch?v=jZUKJDt76wE'},\n",
              " {'page': 44,\n",
              "  'chunk_number': 136,\n",
              "  'text': 'Expresión oral y escrita Computación básica Metodología de estudio Link relacionado: - https://cursosmooc.utpl.edu.ec/enrol/index.php?id=41 Link relacionado: - https://cursosmooc.utpl.edu.ec/enrol/index.php?id=41 Link relacionado: - https://cursosmooc.utpl.edu.ec/enrol/index.php?id=53 Link relacionado: - https://cursosmooc.utpl.edu.ec/enrol/index.php?id=53 Link relacionado: - https://cursosmooc.utpl.edu.ec/enrol/index.php?id=40'},\n",
              " {'page': 44,\n",
              "  'chunk_number': 137,\n",
              "  'text': 'Link relacionado: - https://cursosmooc.utpl.edu.ec/enrol/index.php?id=40'},\n",
              " {'page': 45,\n",
              "  'chunk_number': 138,\n",
              "  'text': '2.3.3. Normas APA Las normas APA permiten referenciar los trabajos académicos que cada estudiante elabora de acuerdo a la planificación de actividades de aprendizaje que el docente plantea en su asignatura, o también sirven para la elaboración de sus resúmenes y síntesis personales sobre temas de investigación con fines de avanzar en el conocimiento.'},\n",
              " {'page': 45,\n",
              "  'chunk_number': 139,\n",
              "  'text': 'Con la finalidad de fortalecer el tema, le invitamos a observar el recurso “Conoce las normas APA y aplícalas al momento de elaborar tus trabajos”. Normas APA: ¿Cómo aplicarlas? | Modalidad Abierta y a Distancia UTPL'},\n",
              " {'page': 45,\n",
              "  'chunk_number': 140,\n",
              "  'text': '2.3.4. Competencias informacionales: Biblioteca virtual'},\n",
              " {'page': 45,\n",
              "  'chunk_number': 141,\n",
              "  'text': 'La Universidad Técnica Particular de Loja, en su Modalidad a distancia y en línea, con la finalidad de apoyar al estudiante en su proceso de estudio y aprendizaje, cuenta con bibliotecas físicas y también con la biblioteca virtual, que es un repositorio grande de recursos digitales de carácter científico con información relevante, cien por cien (100%) confiable, verídica y de última generación de todos los campos del saber humano, de distintas partes del planeta y de instituciones de gran renombre.'},\n",
              " {'page': 45,\n",
              "  'chunk_number': 142,\n",
              "  'text': 'La Universidad cuenta con un catálogo de bases de datos científicas en cinco áreas del conocimiento: Administrativa, Biológica y Biomédica, Multidisciplinaria, Sociohumanística y Técnica. Las bases de datos científicas se las puede agrupar en dos grandes grupos: Multicontenido: Son grandes repositorios de información que incluyen otras bases de datos científicas y poseen varios tipos de recursos: e-books, pappers, revistas, tesis, etc.'},\n",
              " {'page': 45,\n",
              "  'chunk_number': 143,\n",
              "  'text': 'Especializadas en ebooks: Dedicadas a ofrecer este tipo de textos y herramientas para manipular su contenido. • • Link relacionado: Normas APA: ¿Cómo aplicarlas? | Modalidad Abierta y a Distancia UTPL - https://www.youtube.com/embed/lFU4N4xvDvI'},\n",
              " {'page': 46,\n",
              "  'chunk_number': 144,\n",
              "  'text': 'Para ingresar a la biblioteca virtual, siga los siguientes pasos: Diríjase a la página de la Universidad: https:// www.utpl.edu.ec/. A continuación, seleccione el ícono “UTPL EN LÍNEA” Seguidamente, deberá autenticarse con los datos del correo y contraseña institucional. Luego aparecerá el listado de los servicios y aplicaciones con que cuenta el usuario. De este listado, seleccione la pestaña “Biblioteca”.'},\n",
              " {'page': 46,\n",
              "  'chunk_number': 145,\n",
              "  'text': 'Para conocer más a fondo sobre la biblioteca virtual, así como búsquedas y filtros que puede usar, remítase a la Guía del estudiante, apartado Biblioteca en los centros de apoyo y biblioteca virtual. ¿Revisaron todos los contenidos de este capítulo? Actividades de aprendizaje recomendadas Seleccione dos artículos y realice el ejercicio de cómo referenciar con la norma APA séptima edición. Realice una descripción sobre los servicios de la Biblioteca Virtual'},\n",
              " {'page': 46,\n",
              "  'chunk_number': 146,\n",
              "  'text': 'Participe en el curso de competencias informacionales de Biblioteca. Estructure la planificación de un proyecto de acciones que le posibiliten el estudio de la carrera. Participe sus argumentos en el foro “mis temores y expectativas al iniciar mis estudios universitarios” Fase presencial del curso Estimado estudiante: Al finalizar la semana 5 del curso, se realizará la fase presencial a través de un encuentro virtual, en el cual usted podrá disipar todas sus inquietudes. A'},\n",
              " {'page': 46,\n",
              "  'chunk_number': 147,\n",
              "  'text': '1. 2. 3. 1. 2. 3. 4. 5. Link relacionado: https:// - https://www.utpl.edu.ec/'},\n",
              " {'page': 46,\n",
              "  'chunk_number': 148,\n",
              "  'text': 'Link relacionado: www.utpl.edu.ec/ - https://www.utpl.edu.ec/'},\n",
              " {'page': 47,\n",
              "  'chunk_number': 149,\n",
              "  'text': 'través de un anuncio se dará a conocer día y hora de realización de este encuentro con su tutor. Así mismo, de ser necesario el centro de apoyo le convocará a un encuentro presencial, para lo cual debe estar atento a los canales de comunicación oficiales de la universidad.'},\n",
              " {'page': 47,\n",
              "  'chunk_number': 150,\n",
              "  'text': 'Una vez que ha completado todas las actividades del curso y ha alcanzado mínimo el 70% del puntaje, recibirá al correo electrónico institucional el certificado de participación de 60 horas. Por otro lado, con el objetivo de aplicar mejoras al curso de Introducción a la MAD, lo invitamos a realizar la Encuesta de satisfacción.'},\n",
              " {'page': 47,\n",
              "  'chunk_number': 151,\n",
              "  'text': 'Como complemento a su formación, a continuación, le presentamos un apartado que le permitirá fortalecer sus conocimientos básicos. Si cumple con todas las actividades planteadas obtendrá un certificado adicional por 16 horas. ¡Bienvenidos al apartado de desafíos! El fortalecimiento de aptitudes básicas optimiza los procesos intelectuales y potencia las estrategias de aprendizaje, propiciando un desempeño académico sólido.'},\n",
              " {'page': 47,\n",
              "  'chunk_number': 152,\n",
              "  'text': 'Miller Charles (2007) plantea que el razonamiento es el conjunto de actividades mentales que consisten en la conexión de ideas de acuerdo con ciertas reglas. Link relacionado: Encuesta de - https://utpl.instructure.com/courses/33087/quizzes/331323'},\n",
              " {'page': 47,\n",
              "  'chunk_number': 153,\n",
              "  'text': 'Link relacionado: satisfacción - https://utpl.instructure.com/courses/33087/quizzes/331323'},\n",
              " {'page': 48,\n",
              "  'chunk_number': 154,\n",
              "  'text': 'En este apartado invitamos a profundizar tus conocimientos sobre aptitudes verbales, aptitudes numéricas, razonamiento analítico y razonamiento abstracto, así como practicarlas de manera agradable con recursos interactivos y atractivos. Le animamos a seleccionar el tema y empezar tus desafíos. Aptitud verbal'},\n",
              " {'page': 48,\n",
              "  'chunk_number': 155,\n",
              "  'text': 'Aptitud verbal La aptitud verbal es una habilidad para expresar de forma adecuada el lenguaje mediante textos escritos. Los aspectos que contempla son manejo de vocabulario, comprensión de los significados de las palabras y capacidad para identificar y relacionar conceptos entre sí. Otra definición considera la aptitud verbal como la capacidad de razonar frente a contenidos verbales, realizando procesos de ordenamiento, clasificación, relación y significados.'},\n",
              " {'page': 48,\n",
              "  'chunk_number': 156,\n",
              "  'text': 'Para ampliar su conocimiento de razonamiento verbal, le invitamos a la siguiente dirección electrónica: Definición de razonamiento verbal - Qué es, significado y concepto Relaciones entre palabras En este aspecto, es importante revisar en el recurso a continuación lo referente a sinónimos, antónimos, analogías y término excluido. Con las breves aclaraciones, estarás preparado para el juego. Relaciones entre palabras Lectura comprensiva'},\n",
              " {'page': 48,\n",
              "  'chunk_number': 157,\n",
              "  'text': 'Lectura comprensiva La lectura comprensiva facilita tener una idea aproximada del contenido del texto que se lee. Ayuda a lograr una interpretación y comprensión crítica del texto. Link relacionado: Definición de - http://definicion.de/razonamiento-verbal/#ixzz3VWlfVc3p'},\n",
              " {'page': 48,\n",
              "  'chunk_number': 158,\n",
              "  'text': 'Link relacionado: razonamiento verbal - Qué es, significado y concepto - http://definicion.de/razonamiento-verbal/#ixzz3VWlfVc3p Link relacionado: Relaciones entre palabras - https://view.genial.ly/63a092046ce57b001347619a'},\n",
              " {'page': 49,\n",
              "  'chunk_number': 159,\n",
              "  'text': 'El estudiante tiene un rol activo en el proceso de lectura porque tiene la capacidad de decodificar un mensaje, formular preguntas, analizar contenidos, asumir un posicionamiento crítico y establecer conexiones con otros contenidos. El recurso a continuación profundiza los conocimientos sobre el tema y les desafía a leer comprensivamente una infografía y un afiche. Además, permite ejercitar nuestra comprensión de las relaciones en el interior del texto. Lectura comprensiva'},\n",
              " {'page': 49,\n",
              "  'chunk_number': 160,\n",
              "  'text': 'Lectura comprensiva Para entrenar más las relaciones entre palabras y la lectura comprensiva de textos descriptivos, acceda a esta actividad: Entrenando la aptitud verbal Razonamiento numérico'},\n",
              " {'page': 49,\n",
              "  'chunk_number': 161,\n",
              "  'text': 'Razonamiento numérico El razonamiento numérico es importante en el caso de nuevos estudiantes que ingresan a una carrera universitaria, pues constituye la capacidad de comprender y aplicar información que incluye números, figuras geométricas, tablas y gráficas. En esa medida, es una capacidad de nivel superior del pensamiento. Esta forma de razonamiento asimismo facilita interpretar datos y, con base en ello, solucionar problemas.'},\n",
              " {'page': 49,\n",
              "  'chunk_number': 162,\n",
              "  'text': 'El razonamiento numérico se relacionaba de forma directa con la matemática, la lógica y el razonamiento inductivo y deductivo. El recurso a continuación revisa conocimientos básicos sobre el tema y permite ejercitar el razonamiento numérico. Los desafíos planteados sobre este tema tienen como objetivo ejercitar estas habilidades, por ello no se requieren conocimientos de matemática avanzada. Ahora le invitamos a descubrir el código secreto en el juego a continuación. Razonamiento numérico'},\n",
              " {'page': 49,\n",
              "  'chunk_number': 163,\n",
              "  'text': 'Razonamiento numérico Link relacionado: Lectura comprensiva - https://view.genial.ly/63a09209a7836c0011addbb3'},\n",
              " {'page': 49,\n",
              "  'chunk_number': 164,\n",
              "  'text': 'Link relacionado: Entrenando la aptitud verbal - https://utpl.instructure.com/courses/33087/quizzes/221580 Link relacionado: Razonamiento numérico - https://view.genial.ly/60f1b706d4ee920d7f673ead'},\n",
              " {'page': 50,\n",
              "  'chunk_number': 165,\n",
              "  'text': 'Razonamiento analítico Según Nosich, N. (2003), \"el razonamiento analítico es la habilidad para usar los principios de la lógica y usar efectivamente el pensamiento abstracto para aprender o comprender\" (p.100). Existen varios tipos de pensamiento, todos ellos enfocados a la resolución de un problema o al hallazgo de una respuesta.'},\n",
              " {'page': 50,\n",
              "  'chunk_number': 166,\n",
              "  'text': 'El pensamiento analítico es un proceso mental que desagrega las partes de un todo, identificando el significado de cada una de ellas, tomando las que son útiles para obtener la respuesta buscada. Realizar un análisis de las partes para comprender el todo funciona debido a que es más sencillo resolver un problema al dividirlo en partes más pequeñas. Este pensamiento aplica el principio de “divide y vencerás”.'},\n",
              " {'page': 50,\n",
              "  'chunk_number': 167,\n",
              "  'text': 'El razonamiento analítico tiene tres características fundamentales: el ser ordenado, es decir, tener una secuencia a seguir; va de lo general a lo particular, lo que significa que toma un problema grande y lo desmenuza en particularidades para entenderlo y; siempre está enfocado a encontrar una respuesta, lo que indica que es resolutivo. • • •'},\n",
              " {'page': 51,\n",
              "  'chunk_number': 168,\n",
              "  'text': 'Vamos a analizar un problema: encontrar un cortocircuito en la instalación eléctrica de una casa de dos plantas. El razonamiento analítico para seguir puede ser: Quitar la energía eléctrica de toda la casa. Poner la energía eléctrica de la planta baja. Si se produce el cortocircuito ahí, entonces buscar en esa planta, de lo contrario, el cortocircuito se encuentra en la planta alta.'},\n",
              " {'page': 51,\n",
              "  'chunk_number': 169,\n",
              "  'text': 'Una vez localizado el piso en que se encuentra el desperfecto, apagar las luces y desconectar los equipos eléctricos de todas las habitaciones en esa planta. Ir encendiendo la luz y conectando los aparatos eléctricos en cada una de las habitaciones hasta encontrar la habitación con el problema Como se puede observar, el pensamiento que se sigue para solucionar el problema tiene una secuencia, descompone en partes cada vez más pequeñas el problema para su análisis y encuentra una solución.'},\n",
              " {'page': 51,\n",
              "  'chunk_number': 170,\n",
              "  'text': 'Para profundizar el tema, le invitamos acceder al video Acertijos mentales de lógica || Rompiendo patrones mentales. El pensamiento analítico mide la capacidad de hacer inferencias y pensar deductivamente. Para profundizar sobre el significado de inferencia, te proponemos acceder al video La inferencia. Sobre el pensamiento deductivo, le invitamos a realizar un juego. ¿Listo? Pensamiento deductivo'},\n",
              " {'page': 51,\n",
              "  'chunk_number': 171,\n",
              "  'text': 'Pensamiento deductivo El recurso a continuación profundiza los conocimientos sobre razonamiento analítico y presenta un desafío más completo. • • • Link relacionado: Acertijos mentales de - https://www.youtube.com/watch?v=KsLu13FBLqI&feature=youtu.be'},\n",
              " {'page': 51,\n",
              "  'chunk_number': 172,\n",
              "  'text': 'Link relacionado: lógica || Rompiendo patrones mentales - https://www.youtube.com/watch?v=KsLu13FBLqI&feature=youtu.be Link relacionado: La inferencia - https://www.youtube.com/watch?v=GFA_FNlB7c0 Link relacionado: La inferencia - https://www.youtube.com/watch?v=GFA_FNlB7c0 Link relacionado: Pensamiento deductivo - https://view.genial.ly/60f1b773fd893b0d73e1922c'},\n",
              " {'page': 52,\n",
              "  'chunk_number': 173,\n",
              "  'text': 'Razonamiento analítico Para finalizar el tema le invitamos observar el video Estrategias de pensamiento y preparase para el desafío final del razonamiento analítico.'},\n",
              " {'page': 52,\n",
              "  'chunk_number': 174,\n",
              "  'text': '3.5. Razonamiento abstracto El razonamiento abstracto es concebido como la habilidad para observar, analizar, relacionar e imaginar la secuencia de figuras gráficas en el espacio. Considerado también como la capacidad para resolver problemas de lógica, para posibilitar prever y planificar, así como comprender ideas visuales sin intervención del habla. ¿Listo para los juegos de razonamiento abstracto?'},\n",
              " {'page': 52,\n",
              "  'chunk_number': 175,\n",
              "  'text': 'Razonamiento abstracto ¡Muy bien! Recomendamos volver a desafíos. Si todos los temas ya fueron entrenados, desafiamos irse a las autoevaluaciones. Después de haber revisado cada tema le recomendamos responder los cuatro cuestionarios de autoevaluación puesto que le permitirán identificar sus habilidades fuertes y aquellas que requieren fortalecerse. Link relacionado: Razonamiento analítico - https://view.genial.ly/60f1b78afd893b0d73e19232'},\n",
              " {'page': 52,\n",
              "  'chunk_number': 176,\n",
              "  'text': 'Link relacionado: Estrategias de - https://www.youtube.com/watch?v=zbOwcUh3r_w Link relacionado: pensamiento - https://www.youtube.com/watch?v=zbOwcUh3r_w Link relacionado: razonamiento analítico - https://utpl.instructure.com/courses/33087/quizzes/257844 Link relacionado: Razonamiento abstracto - https://view.genial.ly/61e5f37064e2140cd0d89038'},\n",
              " {'page': 53,\n",
              "  'chunk_number': 177,\n",
              "  'text': '4. Solucionario Autoevaluación 1 Pregunta Respuesta Retroalimentación 1 V El menú de navegación global se encuentra en la parte lateral izquierda del EVA y está conformado por: Cuenta, Soporte técnico, Tablero, Cursos, Calendario, Bandeja de entrada, Studio, NotasUTPL y Ayuda. 2 V El menú de navegación del curso está conformado por los enlaces, tales como: Página de inicio, Anuncios, Programa del curso, Calificaciones, Módulos, Personas, Tareas, Evaluaciones, Foros de discusión, Zoom. 3 V'},\n",
              " {'page': 53,\n",
              "  'chunk_number': 178,\n",
              "  'text': 'Foros de discusión, Zoom. 3 V El contenido muestra también las actividades programadas en el curso. 4 F El menú de herramientas del curso muestra el flujo de información, el calendario, las notificaciones del curso, las actividades programadas por hacer, los grupos y las retroalimentaciones realizadas en las actividades de aprendizaje. 5 F'},\n",
              " {'page': 53,\n",
              "  'chunk_number': 179,\n",
              "  'text': 'F El EVA funciona en cualquier sistema operativo y dispositivo móvil; sin embargo, existen algunas características que ayudan a optimizar su uso y garantizar su rendimiento. 6 V El EVA cuenta con aplicaciones nativas para dispositivos móviles iOS y Android. 7 a Los anuncios se presentan en orden cronológico inverso, es decir, los anuncios más recientes primero y los anuncios más antiguos al final. 8 d El resumen de las actividades planificadas se ubica en el'},\n",
              " {'page': 53,\n",
              "  'chunk_number': 180,\n",
              "  'text': 'Programa del curso. Permite ver las fechas de entrega y acceder a cada actividad. 9 c El enlace Módulos permite visualizar la distribución de los temas y actividades planificadas durante el curso. Al hacer clic en cada uno de los temas o actividades, podrá dirigirse al contenido de cada uno, respectivamente. 10 c'},\n",
              " {'page': 54,\n",
              "  'chunk_number': 181,\n",
              "  'text': 'Pregunta Respuesta Retroalimentación El enlace Calificaciones, muestra una lista que permite ordenar las calificaciones de diferente manera. Entre estas opciones tenemos: fecha de entrega, grupo de tareas, módulo y título de la actividad, siendo la fecha de entrega la opción que aparece como predeterminada. 11 a El enlace Personas muestra el nombre de todos los estudiantes. Además, permite conocer los grupos dentro del curso y si ha sido asignado a alguno de ellos. 12 a'},\n",
              " {'page': 54,\n",
              "  'chunk_number': 182,\n",
              "  'text': 'En la sección de Configuraciones se aprecia el correo electrónico con el que se encuentra registrado el usuario. 13 V El estudiante puede crear sus propias carpetas en la sección de Archivos para mantener un orden de los recursos y puede modicar o eliminar como crea conveniente. 14 c En la sección Perfil puede actualizar tanto su foto, como su biografía. 15 b Sí, los mensajes se pueden enviar a docentes y compañeros de clase. 16 c El calendario le sirve al estudiante para recordar actividades. 17 c'},\n",
              " {'page': 54,\n",
              "  'chunk_number': 183,\n",
              "  'text': 'El EVA muestra con un número en la parte superior derecha la interacción de mensajes. 18 a Los mensajes no leídos se muestran con un punto azul. Ir a la autoevaluación'},\n",
              " {'page': 55,\n",
              "  'chunk_number': 184,\n",
              "  'text': 'Autoevaluación 2 Pregunta Respuesta Retroalimentación 1 b La herramienta Zoom permite mantener actividades de aprendizaje en tiempo real, tales como: chat o videocolaboración, las que se llevan a cabo en forma simultánea entre el docente y los estudiantes. 2 b'},\n",
              " {'page': 55,\n",
              "  'chunk_number': 185,\n",
              "  'text': 'El menú de herramientas le permite ver el flujo de información del curso, ver el calendario de cursos, ver notificaciones del curso, actividades por hacer como anuncios y actividades pendientes, ver el grupo al cual ha sido asignado y la retroalimentación reciente. 3 c Las Presentaciones NO forman parte del menú de navegación del curso, pero se consideran recursos que pueden ser subidos como archivos. 4 a'},\n",
              " {'page': 55,\n",
              "  'chunk_number': 186,\n",
              "  'text': 'La herramienta Studio es parte del menú de navegación global del curso. También se puede acceder desde el editor de contenido. 5 c La herramienta Studio permite grabar videos utilizando la cámara o pantalla del computador, cargar videos desde un computador o YouTube, y compartir videos con sus compañeros de clase, docente o sitios externos. 6 c Studio permite agregar videos desde un computador y también desde YouTube. 7 c'},\n",
              " {'page': 55,\n",
              "  'chunk_number': 187,\n",
              "  'text': 'La herramienta Studio permite compartir videos mediante dos opciones: enlaces y personas. 8 c Al ingresar con el rol Estudiantes, el especialista del EVA responderá de la forma más apropiada todas las inquietudes planteadas. 9 V Los recursos para el manejo del EVA contienen información completa sobre la entrega de actividades de aprendizaje. 10 V En la dirección https://servicios.utpl.edu.ec el estudiante puede realizar trámites académicos y administrativos. 11 b'},\n",
              " {'page': 55,\n",
              "  'chunk_number': 188,\n",
              "  'text': 'En las preguntas frecuentes puede obtener ayuda complementaria para manejar correctamente el EVA. Ir a la autoevaluación'},\n",
              " {'page': 56,\n",
              "  'chunk_number': 189,\n",
              "  'text': 'Autoevaluación 3 Pregunta Respuesta Retroalimentación 1 b La modalidad a distancia y en línea pretende hacer posible la educación superior a quienes por diversas razones no pueden hacerlo de manera presencial. 2 a El estudio autónomo e independiente hace referencia a que el estudiante es quien autorregula su tiempo, espacio y ritmo para su proceso de aprendizaje. 3 c'},\n",
              " {'page': 56,\n",
              "  'chunk_number': 190,\n",
              "  'text': 'La personalización nos invita a confiar en el estudiante, en sus capacidades y habilidades para organizarse con autodisciplina y responsabilidad. 4 a Los centros de apoyo y oficinas de información y gestión sirven de nexo académico y administrativo entre la sede matriz y los estudiantes. 5 a La Dirección de Tecnologías (DTE).es la encargada de la virtualización del modelo educativo institucional. 6 c Los elementos de una competencia son: actitudes, habilidades y conocimientos. 7 b'},\n",
              " {'page': 56,\n",
              "  'chunk_number': 191,\n",
              "  'text': 'Los elementos de la organización del aprendizaje son: Aprendizaje en contacto con el docente, aprendizaje autónomo y aprendizaje práctico experimental. 8 c Las unidades de organización curricular son: Unidad Básica, Profesional y de integración curricular. 9 a Comunicación y lenguajes es uno de los campos de formación del currículo. 10 a Las prácticas preprofesionales son actividades de aprendizaje orientadas a la aplicación de conocimientos y al desarrollo de competencias profesionales.'}]"
            ]
          },
          "metadata": {},
          "execution_count": 141
        }
      ]
    },
    {
      "cell_type": "markdown",
      "source": [
        "# Embeddings"
      ],
      "metadata": {
        "id": "r3FcYk__gxLR"
      }
    },
    {
      "cell_type": "markdown",
      "source": [
        "## Vector Store"
      ],
      "metadata": {
        "id": "XPVg5Gqn2ZMX"
      }
    },
    {
      "cell_type": "code",
      "source": [
        "!pip -q install langchain-pinecone"
      ],
      "metadata": {
        "id": "psqpkHotlBqh",
        "colab": {
          "base_uri": "https://localhost:8080/"
        },
        "outputId": "0e319462-67c0-4b90-d798-7eab91f6983d"
      },
      "execution_count": null,
      "outputs": [
        {
          "output_type": "stream",
          "name": "stdout",
          "text": [
            "\u001b[?25l   \u001b[90m━━━━━━━━━━━━━━━━━━━━━━━━━━━━━━━━━━━━━━━━\u001b[0m \u001b[32m0.0/1.2 MB\u001b[0m \u001b[31m?\u001b[0m eta \u001b[36m-:--:--\u001b[0m\r\u001b[2K   \u001b[91m━━━━━━━━━━━\u001b[0m\u001b[90m╺\u001b[0m\u001b[90m━━━━━━━━━━━━━━━━━━━━━━━━━━━━\u001b[0m \u001b[32m0.3/1.2 MB\u001b[0m \u001b[31m9.8 MB/s\u001b[0m eta \u001b[36m0:00:01\u001b[0m\r\u001b[2K   \u001b[91m━━━━━━━━━━━━━━━━━━━━━━━━━━━━━━━━━━━━━━━\u001b[0m\u001b[91m╸\u001b[0m \u001b[32m1.2/1.2 MB\u001b[0m \u001b[31m20.9 MB/s\u001b[0m eta \u001b[36m0:00:01\u001b[0m\r\u001b[2K   \u001b[90m━━━━━━━━━━━━━━━━━━━━━━━━━━━━━━━━━━━━━━━━\u001b[0m \u001b[32m1.2/1.2 MB\u001b[0m \u001b[31m16.1 MB/s\u001b[0m eta \u001b[36m0:00:00\u001b[0m\n",
            "\u001b[2K   \u001b[90m━━━━━━━━━━━━━━━━━━━━━━━━━━━━━━━━━━━━━━━━\u001b[0m \u001b[32m244.8/244.8 kB\u001b[0m \u001b[31m17.9 MB/s\u001b[0m eta \u001b[36m0:00:00\u001b[0m\n",
            "\u001b[2K   \u001b[90m━━━━━━━━━━━━━━━━━━━━━━━━━━━━━━━━━━━━━━━━\u001b[0m \u001b[32m85.4/85.4 kB\u001b[0m \u001b[31m6.9 MB/s\u001b[0m eta \u001b[36m0:00:00\u001b[0m\n",
            "\u001b[?25h"
          ]
        }
      ]
    },
    {
      "cell_type": "code",
      "source": [
        "!pip -q install langchain-google-genai"
      ],
      "metadata": {
        "id": "KybvDJe6lQBZ",
        "colab": {
          "base_uri": "https://localhost:8080/"
        },
        "outputId": "16abd31e-4a5b-4f44-fbc8-093480fad26a"
      },
      "execution_count": null,
      "outputs": [
        {
          "output_type": "stream",
          "name": "stdout",
          "text": [
            "\u001b[?25l   \u001b[90m━━━━━━━━━━━━━━━━━━━━━━━━━━━━━━━━━━━━━━━━\u001b[0m \u001b[32m0.0/41.3 kB\u001b[0m \u001b[31m?\u001b[0m eta \u001b[36m-:--:--\u001b[0m\r\u001b[2K   \u001b[90m━━━━━━━━━━━━━━━━━━━━━━━━━━━━━━━━━━━━━━━━\u001b[0m \u001b[32m41.3/41.3 kB\u001b[0m \u001b[31m1.8 MB/s\u001b[0m eta \u001b[36m0:00:00\u001b[0m\n",
            "\u001b[?25h"
          ]
        }
      ]
    },
    {
      "cell_type": "code",
      "source": [
        "import os\n",
        "from google.colab import userdata\n",
        "GOOGLE_API_KEY=userdata.get('GEN_TUTOR')\n",
        "# Establecer la clave de API en las variables de entorno\n",
        "os.environ[\"GOOGLE_API_KEY\"] = GOOGLE_API_KEY"
      ],
      "metadata": {
        "id": "JH7hOhPvto0I"
      },
      "execution_count": null,
      "outputs": []
    },
    {
      "cell_type": "code",
      "source": [
        "from langchain_google_genai import GoogleGenerativeAIEmbeddings\n",
        "\n",
        "embeddingsGI = GoogleGenerativeAIEmbeddings(model=\"models/text-embedding-004\")"
      ],
      "metadata": {
        "id": "mCYazZS6lTP8"
      },
      "execution_count": null,
      "outputs": []
    },
    {
      "cell_type": "code",
      "source": [
        "import getpass\n",
        "import os\n",
        "import time\n",
        "\n",
        "from pinecone import Pinecone, ServerlessSpec\n",
        "\n",
        "from google.colab import userdata\n",
        "PINECONE_API_KEY=userdata.get('Pinecone')\n",
        "\n",
        "os.environ[\"PINECONE_API_KEY\"] = PINECONE_API_KEY\n",
        "\n",
        "pinecone_api_key = PINECONE_API_KEY\n",
        "\n",
        "pc = Pinecone(api_key=pinecone_api_key)"
      ],
      "metadata": {
        "id": "HZ5Hc2mRlEFk"
      },
      "execution_count": null,
      "outputs": []
    },
    {
      "cell_type": "code",
      "source": [
        "import time\n",
        "\n",
        "index_name = \"tutormad\"  #cambiar de ser necesario\n",
        "\n",
        "existing_indexes = [index_info[\"name\"] for index_info in pc.list_indexes()]\n",
        "\n",
        "index = pc.Index(index_name)"
      ],
      "metadata": {
        "id": "KVSS0RqN2bip"
      },
      "execution_count": null,
      "outputs": []
    },
    {
      "cell_type": "code",
      "source": [
        "from langchain_pinecone import PineconeVectorStore\n",
        "# Crear la tienda de vectores en Pinecone\n",
        "namespace = \"introduccion2025\"\n",
        "vector_store = PineconeVectorStore(index=index, embedding=embeddingsGI, namespace=namespace)"
      ],
      "metadata": {
        "id": "hFxdslV3Rpjf"
      },
      "execution_count": null,
      "outputs": []
    },
    {
      "cell_type": "code",
      "source": [
        "chunk.get(\"chunk_number\", None)"
      ],
      "metadata": {
        "id": "kyuVv171o_f3"
      },
      "execution_count": null,
      "outputs": []
    },
    {
      "cell_type": "code",
      "source": [
        "import json\n",
        "from uuid import uuid4\n",
        "from langchain.schema import Document\n",
        "from langchain_pinecone import PineconeVectorStore\n",
        "\n",
        "\n",
        "# Procesar los chunks para generar embeddings y preparar documentos\n",
        "documents = []\n",
        "ids = []\n",
        "\n",
        "for chunk in chunks:\n",
        "    chunk_id = str(uuid4())\n",
        "    chunk_text = chunk[\"text\"]\n",
        "    metadata = {\n",
        "        \"page\": chunk[\"page\"],\n",
        "        \"chunk_number\": chunk.get(\"chunk_number\", 1)\n",
        "    }\n",
        "\n",
        "    document = Document(page_content=chunk_text, metadata=metadata)\n",
        "    documents.append(document)\n",
        "    ids.append(chunk_id)\n",
        "\n",
        "\n",
        "\n",
        "# Insertar documentos con sus IDs únicos\n",
        "vector_store.add_documents(documents=documents, ids=ids)\n",
        "\n",
        "print(f\"Se han insertado {len(documents)} documentos en el índice '{index_name}' bajo el namespace '{namespace}'.\")\n"
      ],
      "metadata": {
        "colab": {
          "base_uri": "https://localhost:8080/"
        },
        "id": "qLDm7iPrld61",
        "outputId": "35df0ffe-e65e-4f10-918c-9a61d3689c16"
      },
      "execution_count": null,
      "outputs": [
        {
          "output_type": "stream",
          "name": "stdout",
          "text": [
            "Se han insertado 194 documentos en el índice 'tutormad' bajo el namespace 'introduccion2025'.\n"
          ]
        }
      ]
    },
    {
      "cell_type": "markdown",
      "source": [
        "# RAG\n"
      ],
      "metadata": {
        "id": "_d4hTSv3APLj"
      }
    },
    {
      "cell_type": "code",
      "source": [
        "from langchain_google_genai import ChatGoogleGenerativeAI\n",
        "\n",
        "\n",
        "llm = ChatGoogleGenerativeAI(model=\"gemini-1.5-flash\",google_api_key=GOOGLE_API_KEY, temperature=0.3, max_tokens=500)"
      ],
      "metadata": {
        "id": "LBGowJLWEiQ-"
      },
      "execution_count": null,
      "outputs": []
    },
    {
      "cell_type": "code",
      "source": [
        "from langchain.prompts import ChatPromptTemplate\n",
        "from langchain_core.output_parsers import StrOutputParser\n",
        "from langchain_core.runnables import RunnablePassthrough\n",
        "\n",
        "\n",
        "def rag(pregunta):\n",
        "  retriever = vector_store.as_retriever(\n",
        "    search_type=\"similarity_score_threshold\",\n",
        "    search_kwargs={\"k\": 6, \"score_threshold\": 0.5},\n",
        "  )\n",
        "\n",
        "  prompt_template = \"\"\"\n",
        "    Actúa como un tutor virtual especializado en brindar explicaciones claras y detalladas, con un tono entusiasta y amigable.\n",
        "    Responde las siguientes preguntas basándote únicamente en el siguiente contexto,\n",
        "    proporcionando ejemplos prácticos y explicaciones paso a paso cuando sea necesario,\n",
        "    si existe un link como recurso explicativo proporcionalo como recomendación:\n",
        "    {context}\n",
        "    Pregunta: {question}\n",
        "  \"\"\"\n",
        "  prompt = ChatPromptTemplate.from_template(prompt_template)\n",
        "\n",
        "  chain = (\n",
        "    {\"context\": retriever, \"question\": RunnablePassthrough()}\n",
        "    | prompt\n",
        "    | llm\n",
        "    | StrOutputParser()\n",
        "  )\n",
        "  result = chain.invoke(pregunta)\n",
        "  print(result)\n"
      ],
      "metadata": {
        "id": "uM-RnyPzAQDY"
      },
      "execution_count": null,
      "outputs": []
    },
    {
      "cell_type": "markdown",
      "source": [
        "Conteo de busquedas: 12\n"
      ],
      "metadata": {
        "id": "jZCXpCVEXhHb"
      }
    },
    {
      "cell_type": "code",
      "source": [
        "rag(\"Qué es el razonamiento verbal?\")"
      ],
      "metadata": {
        "colab": {
          "base_uri": "https://localhost:8080/"
        },
        "id": "lsoDn0eQu5Mr",
        "outputId": "127008d2-b40a-4e81-be63-8ffd65bed9c7"
      },
      "execution_count": null,
      "outputs": [
        {
          "output_type": "stream",
          "name": "stdout",
          "text": [
            "¡Hola! ¡Qué genial que quieras aprender sobre razonamiento verbal!  Es un tema fascinante.  Según la información que tengo, el razonamiento verbal se refiere a un conjunto de actividades mentales que consisten en conectar ideas siguiendo ciertas reglas.  Piensa en ello como un rompecabezas mental donde tienes que unir las piezas (ideas) para llegar a una conclusión.\n",
            "\n",
            "Miller Charles (2007) lo define como \"el conjunto de actividades mentales que consisten en la conexión de ideas de acuerdo con ciertas reglas\".  Es decir, no es solo pensar, sino pensar de manera organizada y lógica.\n",
            "\n",
            "Para entenderlo mejor, el razonamiento verbal implica trabajar con diferentes tipos de relaciones entre palabras, como:\n",
            "\n",
            "* **Sinónimos:** Palabras con significados similares (ej: grande/enorme, feliz/alegre).\n",
            "* **Antónimos:** Palabras con significados opuestos (ej: caliente/frío, bueno/malo).\n",
            "* **Analogías:** Relaciones de semejanza entre dos pares de palabras (ej: perro:ladrar :: gato:maullar -  un perro ladra, así como un gato maúlla).\n",
            "* **Término excluido:** Identificar la palabra que no pertenece a un grupo (ej:  rosa, tulipán, margarita,  automóvil -  automóvil es el término excluido porque no es una flor).\n",
            "\n",
            "Los documentos que me proporcionaste recomiendan los siguientes recursos para profundizar en el tema:\n",
            "\n",
            "* **Definición de razonamiento verbal - Qué es, significado y concepto:**  [http://definicion.de/razonamiento-verbal/#ixzz3VWlfVc3p](http://definicion.de/razonamiento-verbal/#ixzz3VWlfVc3p)  Este enlace te dará una definición más completa y te ayudará a comprender los fundamentos del razonamiento verbal.\n",
            "\n",
            "* **Relaciones entre palabras:** [https://view.genial.ly/63a092046ce57b001347619a](https://view.genial.ly/63a092046ce57b001347619a)  Este enlace te ayudará a practicar con ejemplos de las relaciones entre palabras mencionadas anteriormente.\n",
            "\n",
            "¡Anímate a explorar estos recursos!  Te aseguro que te ayudarán\n"
          ]
        }
      ]
    },
    {
      "cell_type": "markdown",
      "source": [
        "# Preguntas al RAG"
      ],
      "metadata": {
        "id": "66wRIBtZELgZ"
      }
    },
    {
      "cell_type": "markdown",
      "source": [
        "## Sin límite de tokens y con Flash 1.5:"
      ],
      "metadata": {
        "id": "xNdE-Wb2EOIc"
      }
    },
    {
      "cell_type": "code",
      "source": [
        "rag(\"como uso el EVA?\")"
      ],
      "metadata": {
        "colab": {
          "base_uri": "https://localhost:8080/"
        },
        "id": "bAQ8wU87V_-M",
        "outputId": "d10cb0b8-0c18-4d42-d65c-c3ecf7945bf5"
      },
      "execution_count": null,
      "outputs": [
        {
          "output_type": "stream",
          "name": "stdout",
          "text": [
            "El texto describe el EVA como un espacio de interacción para estudiantes, accesible desde una aplicación móvil (Canvas Student) y a través de un navegador web.  Su uso abarca diversas funciones:\n",
            "\n",
            "**1. Comunicación:**\n",
            "\n",
            "* **Bandeja de entrada:** Permite mantenerse comunicado desde cualquier lugar.\n",
            "\n",
            "**2. Aprendizaje:**\n",
            "\n",
            "* **Autoevaluaciones:**  Se ofrecen autoevaluaciones para verificar el conocimiento sobre temas específicos (ej: verdadero/falso sobre el tema 1.1).  Estas proporcionan retroalimentación para reforzar el aprendizaje.\n",
            "* **Actividades del curso:** El EVA contiene diferentes tipos de actividades para verificar el logro de los resultados de aprendizaje, incluyendo:\n",
            "    * **Tareas:**  Envío de trabajos.\n",
            "    * **Evaluaciones:** Pruebas o exámenes.\n",
            "    * **Foros de discusión:** Participación en debates.\n",
            "    * **Chat y videocolaboración:**  Interacción en tiempo real con otros estudiantes o profesores.  Cada actividad tiene parámetros como calificación, fechas límite, duración e intentos permitidos.  Es crucial prestar atención a estos parámetros.\n",
            "* **Recursos de aprendizaje:**  El EVA proporciona acceso a contenidos, recursos y actividades de aprendizaje.\n",
            "\n",
            "**3. Ayuda y Soporte:**\n",
            "\n",
            "* **Ayuda (1.8):**  Ofrece diferentes maneras de obtener ayuda:\n",
            "    * **Chat en vivo:** Permite comunicarse con un representante de soporte técnico del EVA en tiempo real.\n",
            "    * **Página de Recursos EVA:**  Proporciona manuales, instructivos y videos para el manejo del EVA.\n",
            "    * **Buzón de consultas UTPL:**  Para realizar consultas a la universidad a través de mensajes.\n",
            "* **Preguntas frecuentes del EVA:**  Brinda ayuda escrita y visual para resolver dudas sobre el uso de la plataforma.\n",
            "\n",
            "**4. Trámites académicos:**  Para realizar trámites académicos, se debe acceder a la dirección `https://servicios.utpl.edu.ec` (según el texto).\n",
            "\n",
            "\n",
            "En resumen, el EVA se utiliza para la comunicación, el aprendizaje a través de diversas actividades, la obtención de ayuda y la realización de trámites académicos.  Para un uso efectivo, es importante familiarizarse con sus diferentes funciones y recursos, utilizando la ayuda disponible cuando sea necesario.\n",
            "\n"
          ]
        }
      ]
    },
    {
      "cell_type": "markdown",
      "source": [
        "## Sin limite de tokens con Flash 8B"
      ],
      "metadata": {
        "id": "n9CpZ88nGnF0"
      }
    },
    {
      "cell_type": "code",
      "source": [
        "#Sin limite de tokens pero con el flash 8B\n",
        "rag(\"Como uso el EVA?\")"
      ],
      "metadata": {
        "colab": {
          "base_uri": "https://localhost:8080/"
        },
        "id": "7I-n_nu7GT2f",
        "outputId": "4a452c80-37f1-44d2-9c75-3c8c13872b9f"
      },
      "execution_count": null,
      "outputs": [
        {
          "output_type": "stream",
          "name": "stdout",
          "text": [
            "El EVA (Entorno Virtual de Aprendizaje) te permite interactuar y acceder a recursos de aprendizaje.  Para utilizarlo correctamente, debes seguir estos pasos y considerar las diferentes herramientas:\n",
            "\n",
            "**1. Navegación:**\n",
            "\n",
            "* **Menú de navegación global:**  Te permite acceder a diferentes secciones del curso, como contenido, herramientas y navegación del curso.  Observa la imagen 1, 2, 3 y 4 (si las imágenes están disponibles) para identificar las opciones en el menú.\n",
            "* **Bandeja de entrada:**  Mantente comunicado con la plataforma desde cualquier lugar.  Utiliza esta función para interactuar con tus compañeros y tutores.\n",
            "\n",
            "**2. Actividades de aprendizaje:**\n",
            "\n",
            "* **Autoevaluaciones:**  El EVA ofrece autoevaluaciones para que evalúes tus conocimientos.  Un ejemplo es la autoevaluación sobre los temas 1 al 4, que se basa en preguntas de verdadero o falso sobre el tema 1.1.  Cada respuesta te proporciona retroalimentación.\n",
            "* **Tareas, evaluaciones y foros:**  Estas son actividades comunes en el EVA.  Las tareas requieren que completes una actividad, las evaluaciones miden tu comprensión y los foros te permiten discutir con otros estudiantes.  Presta atención a las fechas límite, duración, intentos y otros parámetros para cada actividad.  Observa los videos de funcionamiento de las actividades más comunes.\n",
            "* **Chat y videocolaboración:**  Estas herramientas te permiten interactuar en tiempo real con otros estudiantes y tutores.\n",
            "\n",
            "**3.  Ayuda y soporte:**\n",
            "\n",
            "* **Chat en vivo:**  Para preguntas sobre el uso del EVA, puedes acceder al chat en vivo para comunicarte con un representante de soporte técnico.\n",
            "* **Página de Recursos EVA:**  Aquí encontrarás manuales, instructivos y videos para el manejo del EVA.  Revisa estos recursos para aprender a usar las diferentes funciones.\n",
            "* **Buzón de consultas UTPL:**  Para consultas académicas o administrativas que no sean sobre el uso del EVA, utiliza el buzón de consultas de la UTPL.\n",
            "\n",
            "**4.  Aplicación móvil (Canvas Student):**\n",
            "\n",
            "* El EVA también está disponible a través de la aplicación móvil \"Canvas Student\".  Esto te permite acceder a la plataforma desde tu dispositivo móvil.\n",
            "\n",
            "**5.  Trámites académicos:**\n",
            "\n",
            "* Para realizar trámites académicos, debes ingresar a la dirección web proporcionada: https://servicios.utpl.edu.ec.\n",
            "\n",
            "**6.  Preguntas frecuentes:**\n",
            "\n",
            "* Las preguntas frecuentes del EVA te ofrecen ayuda escrita y visual para resolver dudas sobre su uso.\n",
            "\n",
            "**Ejemplo práctico:**\n",
            "\n",
            "Si necesitas enviar una tarea, primero debes identificar la tarea en el menú de actividades. Luego, debes acceder a la tarea, leer las instrucciones y completar la actividad solicitada.  Finalmente, debes enviar la tarea antes de la fecha límite.\n",
            "\n",
            "**En resumen:**  El EVA es una plataforma integral para el aprendizaje.  Para utilizarlo eficazmente, debes explorar sus diferentes funciones, recursos y herramientas de ayuda.  Presta atención a las instrucciones específicas de cada actividad y consulta las preguntas frecuentes o el chat en vivo si tienes dudas.\n",
            "\n"
          ]
        }
      ]
    },
    {
      "cell_type": "markdown",
      "source": [
        "## Con límite de tokens (500) y flash 1.5:"
      ],
      "metadata": {
        "id": "lEsbuDb1ERA2"
      }
    },
    {
      "cell_type": "code",
      "source": [
        "rag(\"como uso el EVA?\")"
      ],
      "metadata": {
        "colab": {
          "base_uri": "https://localhost:8080/"
        },
        "id": "7KgW08-NEVh7",
        "outputId": "f6c5edad-5955-4ee2-fcf2-61588a727b54"
      },
      "execution_count": null,
      "outputs": [
        {
          "output_type": "stream",
          "name": "stdout",
          "text": [
            "El texto describe el EVA como un espacio de interacción en línea, accesible también a través de una aplicación móvil llamada Canvas Student.  Su uso abarca varias funciones clave:\n",
            "\n",
            "**1. Comunicación:**  La bandeja de entrada del EVA permite mantenerse comunicado desde cualquier lugar.\n",
            "\n",
            "**2. Aprendizaje:** El EVA contiene:\n",
            "\n",
            "* **Contenidos del curso:**  Material de aprendizaje organizado en unidades y temas.\n",
            "* **Actividades de aprendizaje:**  Para verificar el logro de los resultados de aprendizaje.  Estas incluyen:\n",
            "    * **Tareas:**  Envío de trabajos.\n",
            "    * **Evaluaciones:**  Pruebas o exámenes.\n",
            "    * **Foros de discusión:**  Espacios para interactuar con otros estudiantes y el profesor.\n",
            "    * **Chat y videocolaboración:**  Herramientas para comunicación en tiempo real.  Cada actividad tiene parámetros como calificación, fechas límite, duración e intentos permitidos. Es crucial prestar atención a esta parametrización.\n",
            "* **Autoevaluaciones:**  Para comprobar el conocimiento adquirido sobre temas específicos (ej: un juego de verdadero/falso sobre el tema 1.1).  Estas ofrecen retroalimentación.\n",
            "\n",
            "**3. Ayuda y Soporte:**  El EVA ofrece varias opciones de ayuda:\n",
            "\n",
            "* **Chat en vivo:**  Para comunicarse con un representante de soporte técnico.\n",
            "* **Página de Recursos EVA:**  Contiene manuales, instructivos y videos para el manejo del EVA.\n",
            "* **Buzón de consultas UTPL:**  Para realizar consultas a la universidad.  Para trámites académicos, se debe usar la dirección `https://servicios.utpl.edu.ec` (según el texto).\n",
            "\n",
            "**En resumen, para usar el EVA debes:**\n",
            "\n",
            "1. **Acceder:**  A través de la plataforma web o la aplicación móvil Canvas Student.\n",
            "2. **Navegar:**  Utilizar el menú de navegación para acceder a los contenidos, actividades y herramientas.\n",
            "3. **Participar:**  Completar las actividades de aprendizaje (tareas, evaluaciones, foros), utilizando las herramientas de comunicación (chat, bandeja de entrada).\n",
            "4. **Buscar ayuda:**  Utilizar el chat en vivo, la página de recursos o el buzón de consultas si tienes dudas o necesitas asistencia.\n",
            "\n",
            "\n",
            "El texto enfatiza la importancia de familiarizarse con la aplicación para optimizar el tiempo y aprovechar al máximo las funcionalidades del EVA.  Se recomiendan videos para familiarizarse\n"
          ]
        }
      ]
    },
    {
      "cell_type": "code",
      "source": [
        "rag(\"Dime 3 preguntas para comprobar mi entendimiento del EVA\")"
      ],
      "metadata": {
        "colab": {
          "base_uri": "https://localhost:8080/"
        },
        "id": "MaXxWeSjE0nX",
        "outputId": "5f18afc6-00b3-4369-a9f6-9ea62977b3ac"
      },
      "execution_count": null,
      "outputs": [
        {
          "output_type": "stream",
          "name": "stdout",
          "text": [
            "Basándome en los documentos proporcionados, aquí hay 3 preguntas para comprobar tu entendimiento del EVA (Entorno Virtual de Aprendizaje), junto con las respuestas esperadas y explicaciones:\n",
            "\n",
            "\n",
            "**Pregunta 1:** ¿De qué maneras puedo ordenar la lista de calificaciones en el EVA?\n",
            "\n",
            "**Respuesta esperada:**  La lista de calificaciones se puede ordenar por fecha de entrega, grupo de tareas, módulo y título de la actividad. La fecha de entrega es la opción predeterminada.\n",
            "\n",
            "**Explicación:**  El documento menciona explícitamente estas opciones de ordenamiento en la sección de calificaciones.  Esto permite al estudiante una mayor flexibilidad para revisar su progreso en el curso.\n",
            "\n",
            "\n",
            "**Pregunta 2:** ¿Qué tipos de actividades de aprendizaje puedo encontrar en el EVA, y qué información importante debo considerar al participar en ellas?\n",
            "\n",
            "**Respuesta esperada:** El EVA incluye tareas, evaluaciones, foros de discusión, chat y videocolaboración.  Al participar, es crucial considerar la parametrización de cada actividad, incluyendo la calificación, fechas de disponibilidad y finalización, duración e intentos permitidos.\n",
            "\n",
            "**Explicación:** El documento describe estos tipos de actividades y enfatiza la importancia de prestar atención a los parámetros específicos de cada una para asegurar el cumplimiento dentro de los plazos establecidos.  Esto implica entender las reglas y restricciones de cada actividad.\n",
            "\n",
            "\n",
            "**Pregunta 3:** ¿Cómo puedo gestionar mi perfil y la comunicación dentro del EVA?\n",
            "\n",
            "**Respuesta esperada:** Puedes actualizar tu foto y biografía en la sección \"Perfil\".  Puedes enviar mensajes a docentes y compañeros de clase a través de la bandeja de entrada del EVA.  Además, puedes configurar tus notificaciones por correo electrónico y agregar información de contacto adicional en la sección de \"Cuenta\". Los mensajes no leídos se indican con un punto azul.\n",
            "\n",
            "**Explicación:**  Los documentos mencionan la posibilidad de editar el perfil, la comunicación con otros usuarios (docentes y compañeros) y la configuración de notificaciones.  La información sobre el punto azul que indica mensajes no leídos se encuentra en dos documentos distintos, reforzando la importancia de esta característica.  La gestión del perfil y la comunicación son aspectos clave para una experiencia exitosa en el EVA.\n",
            "\n"
          ]
        }
      ]
    },
    {
      "cell_type": "markdown",
      "source": [
        "## Con límite de tokens (500) y flash 8B:"
      ],
      "metadata": {
        "id": "r3cgwQIWHN8p"
      }
    },
    {
      "cell_type": "code",
      "source": [
        "rag(\"como uso el EVA?\")"
      ],
      "metadata": {
        "colab": {
          "base_uri": "https://localhost:8080/"
        },
        "id": "QHEaI0OjHLz4",
        "outputId": "f46e874f-0f3d-4e22-f3c4-1b6f78d2cf9e"
      },
      "execution_count": null,
      "outputs": [
        {
          "output_type": "stream",
          "name": "stdout",
          "text": [
            "El documento describe cómo usar el Entorno Virtual de Aprendizaje (EVA) de la UTPL.  No hay una única respuesta a \"cómo usar el EVA\", ya que depende de la actividad específica que se quiera realizar.  Sin embargo, el documento proporciona información sobre varias funcionalidades y recursos.\n",
            "\n",
            "Aquí te presento una guía paso a paso sobre cómo usar algunas de las funcionalidades más comunes:\n",
            "\n",
            "**1. Navegación y Comunicación:**\n",
            "\n",
            "* **Bandeja de entrada:** El EVA te permite mantenerte comunicado desde cualquier lugar.  Para usarla, debes acceder a la bandeja de entrada del EVA.  No se detalla cómo acceder a ella, pero se asume que es parte de la interfaz principal.\n",
            "* **Menú de navegación global, menú de herramientas del curso, menú de navegación del curso:**  Estos menús te guían por el contenido del curso, las herramientas disponibles y la estructura del EVA.  Para usarlos, navega por las opciones disponibles en la interfaz principal.\n",
            "\n",
            "**2. Actividades de Aprendizaje:**\n",
            "\n",
            "* **Autoevaluaciones:**  El documento menciona una autoevaluación sobre los temas 1 al 4, basada en preguntas de verdadero o falso sobre el tema 1.1.  Para realizarla, deberías encontrar la actividad en el EVA y responder las preguntas.  La plataforma te dará retroalimentación, independientemente de la respuesta que escojas.\n",
            "* **Tareas, evaluaciones, foros de discusión, chat y videocolaboración:**  Estas son diferentes actividades de aprendizaje.  Para usarlas, busca las actividades en el EVA y sigue las instrucciones específicas de cada una.  Ten en cuenta las fechas límite, la calificación y otros parámetros.  Por ejemplo, para participar en un foro, debes encontrar el foro en el EVA, leer las instrucciones y escribir tu respuesta.\n",
            "\n",
            "**3. Apoyo y Ayuda:**\n",
            "\n",
            "* **Chat en vivo:**  Para acceder al chat en vivo, busca la opción en el EVA.  Te permitirá comunicarte con un representante de soporte técnico para despejar dudas sobre el uso del EVA.\n",
            "* **Página de Recursos EVA:**  Aquí encontrarás manuales, instructivos y videos para el manejo del EVA.  Para acceder a ellos, busca la sección de \"Recursos\" en el EVA.\n",
            "* **Buzón de consultas UTPL:**  Para contactar a la UTPL con otras consultas, busca el buzón de consultas en el EVA.\n",
            "\n",
            "**4.\n"
          ]
        }
      ]
    },
    {
      "cell_type": "code",
      "source": [
        "rag(\"Dime 3 preguntas para comprobar mi entendimiento del EVA\")"
      ],
      "metadata": {
        "colab": {
          "base_uri": "https://localhost:8080/"
        },
        "id": "SrOIpXhEHScH",
        "outputId": "f9fc3e66-024a-4405-816c-5e1356e04f7c"
      },
      "execution_count": null,
      "outputs": [
        {
          "output_type": "stream",
          "name": "stdout",
          "text": [
            "Basándome en el texto proporcionado, aquí tienes 3 preguntas para comprobar tu entendimiento del Entorno Virtual de Aprendizaje (EVA):\n",
            "\n",
            "1. **¿Qué opciones de ordenamiento ofrece la sección de \"Calificaciones\" del EVA, y cuál es la predeterminada?**  (Esta pregunta evalúa tu comprensión de la funcionalidad de la sección de calificaciones dentro del EVA, incluyendo la capacidad de ordenar por diferentes criterios y el conocimiento del criterio predeterminado).\n",
            "\n",
            "\n",
            "2. **Describe tres tipos de actividades de aprendizaje que se pueden encontrar en un EVA, y explica brevemente cómo se diferencian entre sí.** (Esta pregunta evalúa tu comprensión de la variedad de actividades que un EVA puede ofrecer, incluyendo tareas, evaluaciones y foros de discusión, y tu capacidad para distinguirlas).\n",
            "\n",
            "\n",
            "3. **¿Cómo se pueden gestionar las notificaciones en el EVA y qué información adicional se puede registrar en la sección de \"Canales de contacto\"?** (Esta pregunta evalúa tu comprensión de la configuración personalizable del EVA, incluyendo la gestión de notificaciones y la posibilidad de agregar información de contacto adicional).\n",
            "\n"
          ]
        }
      ]
    },
    {
      "cell_type": "markdown",
      "source": [
        "## Otras Preguntas"
      ],
      "metadata": {
        "id": "Hde7XBQDETQP"
      }
    },
    {
      "cell_type": "code",
      "source": [
        "rag(\"que debo hacer en la semana 2\")"
      ],
      "metadata": {
        "colab": {
          "base_uri": "https://localhost:8080/"
        },
        "id": "nEd0pK25YuaY",
        "outputId": "c8b8d369-288b-48e9-b796-417db6e2c4ac"
      },
      "execution_count": null,
      "outputs": [
        {
          "output_type": "stream",
          "name": "stdout",
          "text": [
            "Basándome únicamente en los documentos proporcionados, no hay información específica sobre qué se debe hacer en la semana 2.  Los documentos describen aspectos del entorno virtual de aprendizaje (EVA) de la UTPL, incluyendo el uso del calendario, la bandeja de entrada, la gestión de archivos y la autoevaluación de habilidades (mencionada para la semana 4).  No hay un plan de estudios o calendario detallado que indique las tareas para la semana 2.\n",
            "\n"
          ]
        }
      ]
    },
    {
      "cell_type": "code",
      "source": [
        "rag(\"que debo realizar en la semana 4\")"
      ],
      "metadata": {
        "colab": {
          "base_uri": "https://localhost:8080/"
        },
        "id": "tQh7G3bdgmPR",
        "outputId": "78158aa9-8a8f-4403-cb89-843f58816c3c"
      },
      "execution_count": null,
      "outputs": [
        {
          "output_type": "stream",
          "name": "stdout",
          "text": [
            "La información proporcionada no especifica qué actividades se deben realizar en la semana 4.  Los documentos describen las funcionalidades de la plataforma UTPL (Calendario, Bandeja de entrada, Archivos, Perfil, etc.), pero no incluyen un plan de estudios o un calendario con las tareas semanales.  Para saber qué hacer en la semana 4, necesitaría consultar el programa del curso o el calendario académico proporcionado por su instructor.\n",
            "\n"
          ]
        }
      ]
    },
    {
      "cell_type": "code",
      "source": [
        "rag(\"qué permite la herramienta studio?\")"
      ],
      "metadata": {
        "colab": {
          "base_uri": "https://localhost:8080/"
        },
        "id": "_nAiWS4gZcl_",
        "outputId": "839309d8-602b-484d-ea13-f3f0f10a1748"
      },
      "execution_count": null,
      "outputs": [
        {
          "output_type": "stream",
          "name": "stdout",
          "text": [
            "Basado en el texto proporcionado, la herramienta Studio permite grabar, cargar y compartir videos.  También permite agregar videos desde un computador y desde YouTube.\n",
            "\n"
          ]
        }
      ]
    },
    {
      "cell_type": "code",
      "source": [
        "rag(\"En que semana es la Autoevaluación de habilidades básicas y compromiso de mejora para el estudio en la carrera?\")"
      ],
      "metadata": {
        "id": "xx9W6Kf9ZrQx",
        "colab": {
          "base_uri": "https://localhost:8080/"
        },
        "outputId": "d48b5867-6ccb-4cbc-f766-be7849db8777"
      },
      "execution_count": null,
      "outputs": [
        {
          "output_type": "stream",
          "name": "stdout",
          "text": [
            "La autoevaluación de habilidades básicas y compromiso de mejora para el estudio en la carrera se realiza en la cuarta semana.\n",
            "\n"
          ]
        }
      ]
    },
    {
      "cell_type": "code",
      "source": [
        "rag(\"de que trata la guía didáctica?\")"
      ],
      "metadata": {
        "colab": {
          "base_uri": "https://localhost:8080/"
        },
        "id": "5Whf3crSaFSW",
        "outputId": "68f755ba-7bc3-46ab-b460-2389c27c59d4"
      },
      "execution_count": null,
      "outputs": [
        {
          "output_type": "stream",
          "name": "stdout",
          "text": [
            "Basándome únicamente en los documentos proporcionados, la guía didáctica del curso \"Introducción a la Modalidad a Distancia y en Línea\" trata sobre la familiarización con el Entorno Virtual de Aprendizaje (EVA) y el sistema de educación a distancia de la universidad.  \n",
            "\n",
            "Específicamente, se enfoca en:\n",
            "\n",
            "* **Familiarización con el EVA (Unidad 1):**  El documento menciona un video introductorio e indicaciones generales para navegar y utilizar el EVA.  El objetivo es que el estudiante se familiarice con las funcionalidades del EVA para desarrollar las actividades del curso.  Se evalúa mediante un cuestionario de 10 puntos.\n",
            "\n",
            "* **Sistema de Educación a Distancia (Unidad 2):**  Esta unidad cubre el modelo educativo y pedagógico de la modalidad a distancia y en línea, además de adquirir competencias relacionadas con hábitos y técnicas de estudio.  También se evalúa con un cuestionario de 10 puntos.\n",
            "\n",
            "* **Fase Presencial:**  La guía menciona talleres presenciales en centros de apoyo al final del curso, con una calificación de 10 puntos.\n",
            "\n",
            "Además, la guía incluye un apartado de \"desafíos\" para fortalecer aptitudes básicas, aunque el contenido específico de estos desafíos se detalla en otro documento.  Finalmente, se menciona una encuesta de satisfacción para mejorar el curso.\n",
            "\n"
          ]
        }
      ]
    },
    {
      "cell_type": "code",
      "source": [
        "rag(\"\")"
      ],
      "metadata": {
        "id": "M5jrmlmfaKpO"
      },
      "execution_count": null,
      "outputs": []
    }
  ]
}